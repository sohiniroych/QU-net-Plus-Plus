{
  "nbformat": 4,
  "nbformat_minor": 0,
  "metadata": {
    "accelerator": "GPU",
    "colab": {
      "name": "Unet_plus_binary-Baseline_Lung_med.ipynb",
      "provenance": [],
      "collapsed_sections": [],
      "include_colab_link": true
    },
    "kernelspec": {
      "display_name": "Python 3",
      "language": "python",
      "name": "python3"
    },
    "language_info": {
      "codemirror_mode": {
        "name": "ipython",
        "version": 3
      },
      "file_extension": ".py",
      "mimetype": "text/x-python",
      "name": "python",
      "nbconvert_exporter": "python",
      "pygments_lexer": "ipython3",
      "version": "3.8.5"
    }
  },
  "cells": [
    {
      "cell_type": "markdown",
      "metadata": {
        "id": "view-in-github",
        "colab_type": "text"
      },
      "source": [
        "<a href=\"https://colab.research.google.com/github/sohiniroych/QU-net-Plus-Plus/blob/main/Unet_plus_binary_Baseline_Lung_med.ipynb\" target=\"_parent\"><img src=\"https://colab.research.google.com/assets/colab-badge.svg\" alt=\"Open In Colab\"/></a>"
      ]
    },
    {
      "cell_type": "markdown",
      "metadata": {
        "id": "n7yLKm_-kuii"
      },
      "source": [
        "# This code implements segmentation of of cysts from OCT images using the variants of U-net, wUnet and Unet++\n",
        "\n",
        "## This code implements multi-class classification\n",
        "## This model is adapted from the original codebase in https://github.com/HZCTony/U-net-with-multiple-classification"
      ]
    },
    {
      "cell_type": "code",
      "metadata": {
        "colab": {
          "base_uri": "https://localhost:8080/"
        },
        "id": "KnKLnN-QDlzX",
        "outputId": "922f761b-d004-4131-825b-1f7f681ee93f"
      },
      "source": [
        "# First lets connect the Gdrive that contains the data\n",
        "from google.colab import drive\n",
        "drive.mount('/content/drive')"
      ],
      "execution_count": null,
      "outputs": [
        {
          "output_type": "stream",
          "name": "stdout",
          "text": [
            "Mounted at /content/drive\n"
          ]
        }
      ]
    },
    {
      "cell_type": "code",
      "metadata": {
        "colab": {
          "base_uri": "https://localhost:8080/"
        },
        "id": "c7xAEMCtlApo",
        "outputId": "c6ce8343-efd4-4318-ab43-6893837ebcf2"
      },
      "source": [
        "import os\n",
        "# The path below should point to the directory containing this notebook and the associated utility files\n",
        "# Change it if necessary\n",
        "os.chdir('/content/drive/MyDrive/Colab Notebooks/ISBI_paper/code/')\n",
        "!ls\n",
        "PATH='/content/drive/My Drive/Colab Notebooks/ISBI_paper/Lung-Data/'"
      ],
      "execution_count": null,
      "outputs": [
        {
          "output_type": "stream",
          "name": "stdout",
          "text": [
            "Data_pipeline_Medical_data.ipynb  Unet_plus_binary-Baseline_Lung_med.ipynb\n",
            "model_new.py\t\t\t  Unet_plus_binary-Baseline_Lung_rad.ipynb\n",
            "__pycache__\t\t\t  Unet_plus_binary.ipynb\n",
            "train\n"
          ]
        }
      ]
    },
    {
      "cell_type": "markdown",
      "metadata": {
        "id": "A6NxrV-pDjrU"
      },
      "source": [
        "# First, we create a directry of randomly sampled training and test images"
      ]
    },
    {
      "cell_type": "code",
      "metadata": {
        "id": "XmWkVKPMDjrV"
      },
      "source": [
        "# if not os.path.exists(PATH+'train'):\n",
        "#     os.makedirs(PATH+'train')\n",
        "# if not os.path.exists(PATH+'train/Images/'):\n",
        "#     os.makedirs(PATH+'train/Images/')\n",
        "# if not os.path.exists(PATH+'train/GT/'):\n",
        "#     os.makedirs(PATH+'train/GT/')\n",
        "    \n",
        "# if not os.path.exists(PATH+'test'):\n",
        "#     os.makedirs(PATH+'test')    \n",
        "# if not os.path.exists(PATH+'test/Images/'):\n",
        "#     os.makedirs(PATH+'test/Images/')\n",
        "# if not os.path.exists(PATH+'test/GT/'):\n",
        "#     os.makedirs(PATH+'test/GT/')\n",
        "    \n",
        "# if not os.path.exists(PATH+'pred'):\n",
        "#     os.makedirs(PATH+'pred')  \n"
      ],
      "execution_count": null,
      "outputs": []
    },
    {
      "cell_type": "markdown",
      "metadata": {
        "id": "gMTOKe56DjrW"
      },
      "source": [
        "\n",
        "# Randomly split the data in \"Images\" into 25/75"
      ]
    },
    {
      "cell_type": "code",
      "metadata": {
        "id": "tIUiGBJiDjrX"
      },
      "source": [
        "# files=(os.listdir('/content/drive/My Drive/Colab Notebooks/ISBI_paper/Lung-Data/Images/'))\n",
        "# print(len(files))"
      ],
      "execution_count": null,
      "outputs": []
    },
    {
      "cell_type": "code",
      "metadata": {
        "id": "5YT1RoUlDjra"
      },
      "source": [
        "# import numpy as np \n",
        "# nums=np.random.permutation(len(files))\n",
        "# n=int(len(files)/4)\n",
        "# print(n)"
      ],
      "execution_count": null,
      "outputs": []
    },
    {
      "cell_type": "code",
      "metadata": {
        "id": "a9xIcTFeDjrb"
      },
      "source": [
        "# from shutil import copyfile\n",
        "\n",
        "# #This is train data\n",
        "# for i in range(n):\n",
        "#     copyfile('/content/drive/My Drive/Colab Notebooks/ISBI_paper/Lung-Data/Images/'+files[nums[i]],PATH+'train/Images/'+files[nums[i]])\n",
        "#     copyfile('/content/drive/My Drive/Colab Notebooks/ISBI_paper/Lung-Data/GT/'+files[nums[i]],PATH+'train/GT/'+files[nums[i]])\n",
        "    "
      ],
      "execution_count": null,
      "outputs": []
    },
    {
      "cell_type": "code",
      "metadata": {
        "id": "J9Tw28dtDjrc"
      },
      "source": [
        "# # This is test data\n",
        "# for i in range(n+1,len(files)):\n",
        "#     copyfile(PATH+'Images/'+files[nums[i]],PATH+'test/Images/'+files[nums[i]])\n",
        "#     copyfile(PATH+'/GT/'+files[nums[i]],PATH+'test/GT/'+files[nums[i]])"
      ],
      "execution_count": null,
      "outputs": []
    },
    {
      "cell_type": "code",
      "metadata": {
        "id": "AB5PBTZmr-gA"
      },
      "source": [
        "# os.getcwd()"
      ],
      "execution_count": null,
      "outputs": []
    },
    {
      "cell_type": "markdown",
      "metadata": {
        "id": "Nb3UtvnRDjre"
      },
      "source": [
        "# Train and Test data are now generated. Now we need to train and test"
      ]
    },
    {
      "cell_type": "markdown",
      "metadata": {
        "id": "hsjiInH8kuiq"
      },
      "source": [
        "# A. Lets start by stepwise defining all libraries and functions needed to generate the model and pre-process the data"
      ]
    },
    {
      "cell_type": "code",
      "metadata": {
        "id": "CKpTzQkOkuiq"
      },
      "source": [
        "#Step 1: Load libraries for the U-net Model\n",
        "\n",
        "import skimage.io as io\n",
        "import skimage.transform as trans\n",
        "import numpy as np\n",
        "from tensorflow.keras.models import *\n",
        "from tensorflow.keras.layers import *\n",
        "from tensorflow.keras.optimizers import *\n",
        "from tensorflow.keras.callbacks import ModelCheckpoint, LearningRateScheduler\n",
        "from tensorflow.keras import backend as keras\n",
        "#from tensorflow import keras\n",
        "import tensorflow as tf"
      ],
      "execution_count": null,
      "outputs": []
    },
    {
      "cell_type": "code",
      "metadata": {
        "id": "1AzDVayVkuiq"
      },
      "source": [
        "#Step 2: Import the U-net model\n",
        "from model_new import *\n",
        "img_size=(256,256)"
      ],
      "execution_count": null,
      "outputs": []
    },
    {
      "cell_type": "code",
      "metadata": {
        "id": "cbKhpLx5kuir"
      },
      "source": [
        "n_class=2\n"
      ],
      "execution_count": null,
      "outputs": []
    },
    {
      "cell_type": "code",
      "metadata": {
        "id": "Fncvxfbywbx7"
      },
      "source": [
        "#mod = U_Net(img_size[0],img_size[1],1)\n",
        "mod = Nest_Net(img_size[0],img_size[1],1,1,deep_supervision=True)"
      ],
      "execution_count": null,
      "outputs": []
    },
    {
      "cell_type": "code",
      "metadata": {
        "colab": {
          "base_uri": "https://localhost:8080/"
        },
        "id": "eAjLtxKxwwYF",
        "outputId": "5251881b-3523-4380-b97f-b0d78fb0291c"
      },
      "source": [
        "mod.summary()"
      ],
      "execution_count": null,
      "outputs": [
        {
          "output_type": "stream",
          "name": "stdout",
          "text": [
            "Model: \"model\"\n",
            "__________________________________________________________________________________________________\n",
            "Layer (type)                    Output Shape         Param #     Connected to                     \n",
            "==================================================================================================\n",
            "main_input (InputLayer)         [(None, 256, 256, 1) 0                                            \n",
            "__________________________________________________________________________________________________\n",
            "conv11_1 (Conv2D)               (None, 256, 256, 32) 320         main_input[0][0]                 \n",
            "__________________________________________________________________________________________________\n",
            "batch_normalization (BatchNorma (None, 256, 256, 32) 128         conv11_1[0][0]                   \n",
            "__________________________________________________________________________________________________\n",
            "conv11_2 (Conv2D)               (None, 256, 256, 32) 9248        batch_normalization[0][0]        \n",
            "__________________________________________________________________________________________________\n",
            "batch_normalization_1 (BatchNor (None, 256, 256, 32) 128         conv11_2[0][0]                   \n",
            "__________________________________________________________________________________________________\n",
            "pool1 (MaxPooling2D)            (None, 128, 128, 32) 0           batch_normalization_1[0][0]      \n",
            "__________________________________________________________________________________________________\n",
            "conv21_1 (Conv2D)               (None, 128, 128, 64) 18496       pool1[0][0]                      \n",
            "__________________________________________________________________________________________________\n",
            "batch_normalization_2 (BatchNor (None, 128, 128, 64) 256         conv21_1[0][0]                   \n",
            "__________________________________________________________________________________________________\n",
            "conv21_2 (Conv2D)               (None, 128, 128, 64) 36928       batch_normalization_2[0][0]      \n",
            "__________________________________________________________________________________________________\n",
            "batch_normalization_3 (BatchNor (None, 128, 128, 64) 256         conv21_2[0][0]                   \n",
            "__________________________________________________________________________________________________\n",
            "pool2 (MaxPooling2D)            (None, 64, 64, 64)   0           batch_normalization_3[0][0]      \n",
            "__________________________________________________________________________________________________\n",
            "conv31_1 (Conv2D)               (None, 64, 64, 128)  73856       pool2[0][0]                      \n",
            "__________________________________________________________________________________________________\n",
            "batch_normalization_4 (BatchNor (None, 64, 64, 128)  512         conv31_1[0][0]                   \n",
            "__________________________________________________________________________________________________\n",
            "conv31_2 (Conv2D)               (None, 64, 64, 128)  147584      batch_normalization_4[0][0]      \n",
            "__________________________________________________________________________________________________\n",
            "batch_normalization_5 (BatchNor (None, 64, 64, 128)  512         conv31_2[0][0]                   \n",
            "__________________________________________________________________________________________________\n",
            "pool3 (MaxPooling2D)            (None, 32, 32, 128)  0           batch_normalization_5[0][0]      \n",
            "__________________________________________________________________________________________________\n",
            "conv41_1 (Conv2D)               (None, 32, 32, 256)  295168      pool3[0][0]                      \n",
            "__________________________________________________________________________________________________\n",
            "batch_normalization_6 (BatchNor (None, 32, 32, 256)  1024        conv41_1[0][0]                   \n",
            "__________________________________________________________________________________________________\n",
            "conv41_2 (Conv2D)               (None, 32, 32, 256)  590080      batch_normalization_6[0][0]      \n",
            "__________________________________________________________________________________________________\n",
            "batch_normalization_7 (BatchNor (None, 32, 32, 256)  1024        conv41_2[0][0]                   \n",
            "__________________________________________________________________________________________________\n",
            "dropout (Dropout)               (None, 32, 32, 256)  0           batch_normalization_7[0][0]      \n",
            "__________________________________________________________________________________________________\n",
            "pool4 (MaxPooling2D)            (None, 16, 16, 256)  0           dropout[0][0]                    \n",
            "__________________________________________________________________________________________________\n",
            "conv51_1 (Conv2D)               (None, 16, 16, 512)  1180160     pool4[0][0]                      \n",
            "__________________________________________________________________________________________________\n",
            "conv51_2 (Conv2D)               (None, 16, 16, 512)  2359808     conv51_1[0][0]                   \n",
            "__________________________________________________________________________________________________\n",
            "dropout_1 (Dropout)             (None, 16, 16, 512)  0           conv51_2[0][0]                   \n",
            "__________________________________________________________________________________________________\n",
            "up42 (Conv2DTranspose)          (None, 32, 32, 256)  524544      dropout_1[0][0]                  \n",
            "__________________________________________________________________________________________________\n",
            "up32 (Conv2DTranspose)          (None, 64, 64, 128)  131200      batch_normalization_7[0][0]      \n",
            "__________________________________________________________________________________________________\n",
            "merge42 (Concatenate)           (None, 32, 32, 512)  0           up42[0][0]                       \n",
            "                                                                 batch_normalization_7[0][0]      \n",
            "__________________________________________________________________________________________________\n",
            "up22 (Conv2DTranspose)          (None, 128, 128, 64) 32832       batch_normalization_5[0][0]      \n",
            "__________________________________________________________________________________________________\n",
            "merge32 (Concatenate)           (None, 64, 64, 256)  0           up32[0][0]                       \n",
            "                                                                 batch_normalization_5[0][0]      \n",
            "__________________________________________________________________________________________________\n",
            "conv42_1 (Conv2D)               (None, 32, 32, 256)  1179904     merge42[0][0]                    \n",
            "__________________________________________________________________________________________________\n",
            "up12 (Conv2DTranspose)          (None, 256, 256, 32) 8224        batch_normalization_3[0][0]      \n",
            "__________________________________________________________________________________________________\n",
            "merge22 (Concatenate)           (None, 128, 128, 128 0           up22[0][0]                       \n",
            "                                                                 batch_normalization_3[0][0]      \n",
            "__________________________________________________________________________________________________\n",
            "conv32_1 (Conv2D)               (None, 64, 64, 128)  295040      merge32[0][0]                    \n",
            "__________________________________________________________________________________________________\n",
            "conv42_2 (Conv2D)               (None, 32, 32, 256)  590080      conv42_1[0][0]                   \n",
            "__________________________________________________________________________________________________\n",
            "merge12 (Concatenate)           (None, 256, 256, 64) 0           up12[0][0]                       \n",
            "                                                                 batch_normalization_1[0][0]      \n",
            "__________________________________________________________________________________________________\n",
            "conv22_1 (Conv2D)               (None, 128, 128, 64) 73792       merge22[0][0]                    \n",
            "__________________________________________________________________________________________________\n",
            "conv32_2 (Conv2D)               (None, 64, 64, 128)  147584      conv32_1[0][0]                   \n",
            "__________________________________________________________________________________________________\n",
            "up33 (Conv2DTranspose)          (None, 64, 64, 128)  131200      conv42_2[0][0]                   \n",
            "__________________________________________________________________________________________________\n",
            "conv12_1 (Conv2D)               (None, 256, 256, 32) 18464       merge12[0][0]                    \n",
            "__________________________________________________________________________________________________\n",
            "conv22_2 (Conv2D)               (None, 128, 128, 64) 36928       conv22_1[0][0]                   \n",
            "__________________________________________________________________________________________________\n",
            "up23 (Conv2DTranspose)          (None, 128, 128, 64) 32832       conv32_2[0][0]                   \n",
            "__________________________________________________________________________________________________\n",
            "merge33 (Concatenate)           (None, 64, 64, 384)  0           up33[0][0]                       \n",
            "                                                                 batch_normalization_5[0][0]      \n",
            "                                                                 conv32_2[0][0]                   \n",
            "__________________________________________________________________________________________________\n",
            "conv12_2 (Conv2D)               (None, 256, 256, 32) 9248        conv12_1[0][0]                   \n",
            "__________________________________________________________________________________________________\n",
            "up13 (Conv2DTranspose)          (None, 256, 256, 32) 8224        conv22_2[0][0]                   \n",
            "__________________________________________________________________________________________________\n",
            "merge23 (Concatenate)           (None, 128, 128, 192 0           up23[0][0]                       \n",
            "                                                                 batch_normalization_3[0][0]      \n",
            "                                                                 conv22_2[0][0]                   \n",
            "__________________________________________________________________________________________________\n",
            "conv33_1 (Conv2D)               (None, 64, 64, 128)  442496      merge33[0][0]                    \n",
            "__________________________________________________________________________________________________\n",
            "merge13 (Concatenate)           (None, 256, 256, 96) 0           up13[0][0]                       \n",
            "                                                                 batch_normalization_1[0][0]      \n",
            "                                                                 conv12_2[0][0]                   \n",
            "__________________________________________________________________________________________________\n",
            "conv23_1 (Conv2D)               (None, 128, 128, 64) 110656      merge23[0][0]                    \n",
            "__________________________________________________________________________________________________\n",
            "conv33_2 (Conv2D)               (None, 64, 64, 128)  147584      conv33_1[0][0]                   \n",
            "__________________________________________________________________________________________________\n",
            "conv13_1 (Conv2D)               (None, 256, 256, 32) 27680       merge13[0][0]                    \n",
            "__________________________________________________________________________________________________\n",
            "conv23_2 (Conv2D)               (None, 128, 128, 64) 36928       conv23_1[0][0]                   \n",
            "__________________________________________________________________________________________________\n",
            "up24 (Conv2DTranspose)          (None, 128, 128, 64) 32832       conv33_2[0][0]                   \n",
            "__________________________________________________________________________________________________\n",
            "conv13_2 (Conv2D)               (None, 256, 256, 32) 9248        conv13_1[0][0]                   \n",
            "__________________________________________________________________________________________________\n",
            "up14 (Conv2DTranspose)          (None, 256, 256, 32) 8224        conv23_2[0][0]                   \n",
            "__________________________________________________________________________________________________\n",
            "merge24 (Concatenate)           (None, 128, 128, 256 0           up24[0][0]                       \n",
            "                                                                 batch_normalization_3[0][0]      \n",
            "                                                                 conv22_2[0][0]                   \n",
            "                                                                 conv23_2[0][0]                   \n",
            "__________________________________________________________________________________________________\n",
            "merge14 (Concatenate)           (None, 256, 256, 128 0           up14[0][0]                       \n",
            "                                                                 batch_normalization_1[0][0]      \n",
            "                                                                 conv12_2[0][0]                   \n",
            "                                                                 conv13_2[0][0]                   \n",
            "__________________________________________________________________________________________________\n",
            "conv24_1 (Conv2D)               (None, 128, 128, 64) 147520      merge24[0][0]                    \n",
            "__________________________________________________________________________________________________\n",
            "conv14_1 (Conv2D)               (None, 256, 256, 32) 36896       merge14[0][0]                    \n",
            "__________________________________________________________________________________________________\n",
            "conv24_2 (Conv2D)               (None, 128, 128, 64) 36928       conv24_1[0][0]                   \n",
            "__________________________________________________________________________________________________\n",
            "conv14_2 (Conv2D)               (None, 256, 256, 32) 9248        conv14_1[0][0]                   \n",
            "__________________________________________________________________________________________________\n",
            "up15 (Conv2DTranspose)          (None, 256, 256, 32) 8224        conv24_2[0][0]                   \n",
            "__________________________________________________________________________________________________\n",
            "merge15 (Concatenate)           (None, 256, 256, 160 0           up15[0][0]                       \n",
            "                                                                 batch_normalization_1[0][0]      \n",
            "                                                                 conv12_2[0][0]                   \n",
            "                                                                 conv13_2[0][0]                   \n",
            "                                                                 conv14_2[0][0]                   \n",
            "__________________________________________________________________________________________________\n",
            "conv15_1 (Conv2D)               (None, 256, 256, 32) 46112       merge15[0][0]                    \n",
            "__________________________________________________________________________________________________\n",
            "conv15_2 (Conv2D)               (None, 256, 256, 32) 9248        conv15_1[0][0]                   \n",
            "__________________________________________________________________________________________________\n",
            "output_1 (Conv2D)               (None, 256, 256, 1)  33          conv12_2[0][0]                   \n",
            "__________________________________________________________________________________________________\n",
            "output_2 (Conv2D)               (None, 256, 256, 1)  33          conv13_2[0][0]                   \n",
            "__________________________________________________________________________________________________\n",
            "output_3 (Conv2D)               (None, 256, 256, 1)  33          conv14_2[0][0]                   \n",
            "__________________________________________________________________________________________________\n",
            "output_4 (Conv2D)               (None, 256, 256, 1)  33          conv15_2[0][0]                   \n",
            "==================================================================================================\n",
            "Total params: 9,045,540\n",
            "Trainable params: 9,043,620\n",
            "Non-trainable params: 1,920\n",
            "__________________________________________________________________________________________________\n"
          ]
        }
      ]
    },
    {
      "cell_type": "code",
      "metadata": {
        "id": "apyaqeIDkuir"
      },
      "source": [
        "#Step 3:Define functions for pre-processing data\n",
        "from tensorflow.keras.preprocessing.image import ImageDataGenerator\n",
        "import skimage.io as io\n",
        "import skimage.transform as trans\n",
        "import matplotlib.pyplot as plt\n",
        "import scipy.misc as sc\n",
        "\n",
        "\n",
        "def adjustData(img,mask,flag_multi_class,n_class):\n",
        "    \n",
        "    if(flag_multi_class):\n",
        "        img /= 255\n",
        "        mask = mask[:,:,:,0] if(len(mask.shape) == 4) else mask[:,:,0]\n",
        "        new_mask = np.zeros(mask.shape + (n_class,))\n",
        "        for i in range(n_class):\n",
        "            \n",
        "            new_mask[mask == i,i] = 1\n",
        "        new_mask = np.reshape(new_mask,(new_mask.shape[0],new_mask.shape[1]*new_mask.shape[2],new_mask.shape[3])) if flag_multi_class else np.reshape(new_mask,(new_mask.shape[0]*new_mask.shape[1],new_mask.shape[2]))\n",
        "        mask = new_mask\n",
        "    elif(np.max(img)>1):\n",
        "        img = img / 255\n",
        "        mask = mask /255\n",
        "    mask[mask > 0.5] = 1\n",
        "    mask[mask <=0.5] = 0\n",
        "        #print(np.shape(mask),np.shape(img))\n",
        "    return (img,mask)\n",
        "\n",
        "\n",
        "\n",
        "def trainGenerator(batch_size,train_path,image_folder,mask_folder,aug_dict,image_color_mode = \"grayscale\",\n",
        "                    mask_color_mode = \"grayscale\",image_save_prefix  = \"image\",mask_save_prefix  = \"mask\",\n",
        "                    flag_multi_class = False,n_class = n_class,save_to_dir = None,target_size = img_size,seed = 1):\n",
        "    '''\n",
        "    can generate image and mask at the same time\n",
        "    use the same seed for image_datagen and mask_datagen to ensure the transformation for image and mask is the same\n",
        "    if you want to visualize the results of generator, set save_to_dir = \"your path\"\n",
        "    '''\n",
        "    image_datagen = ImageDataGenerator(**aug_dict)\n",
        "    mask_datagen = ImageDataGenerator(**aug_dict)\n",
        "    image_generator = image_datagen.flow_from_directory(\n",
        "        #'./',\n",
        "        train_path,\n",
        "        classes = [image_folder],\n",
        "        color_mode = image_color_mode,\n",
        "        target_size = target_size,\n",
        "        batch_size = batch_size,\n",
        "        save_to_dir = save_to_dir,\n",
        "        save_prefix  = image_save_prefix,\n",
        "        class_mode=None,\n",
        "        seed = seed)\n",
        "    mask_generator = mask_datagen.flow_from_directory(\n",
        "        train_path,\n",
        "        classes = [mask_folder],\n",
        "        color_mode = mask_color_mode,\n",
        "        target_size = target_size,\n",
        "        batch_size = batch_size,\n",
        "        save_to_dir = save_to_dir,\n",
        "        save_prefix  = mask_save_prefix,\n",
        "        class_mode=None,\n",
        "        seed = seed)\n",
        "    train_generator = zip(image_generator, mask_generator)\n",
        "    for (img,mask) in train_generator:\n",
        "        img,mask = adjustData(img,mask,flag_multi_class,n_class)\n",
        "        yield (img,mask)\n",
        "\n",
        "\n",
        "def testGenerator(test_path,target_size = img_size,flag_multi_class = True,as_gray = True):\n",
        "    files=sorted(os.listdir(test_path))\n",
        "    num_image=len(files)\n",
        "    for i in range(num_image):\n",
        "        img = io.imread(os.path.join(test_path,files[i]),as_gray = as_gray)\n",
        "        print(files[i])\n",
        "        img = trans.resize(img,target_size)\n",
        "        img = np.reshape(img,img.shape+(1,)) if (not flag_multi_class) else img\n",
        "        img = np.reshape(img,(1,)+img.shape)\n",
        "        #print(np.max(img))\n",
        "        yield img"
      ],
      "execution_count": null,
      "outputs": []
    },
    {
      "cell_type": "code",
      "metadata": {
        "id": "6_R2XCFukuis"
      },
      "source": [
        "#Step 4: Define function to save the test images\n",
        "def labelVisualize(num_class,color_dict,img):\n",
        "    img = img[:,:,0] if len(img.shape) == 3 else img\n",
        "    img_out = np.zeros(img.shape + (3,))\n",
        "    for i in range(num_class):\n",
        "        img_out[img == i] = color_dict[i]\n",
        "      \n",
        "    return img_out\n",
        "\n",
        "\n",
        "def saveResult(img_path,save_path,npyfile,flag_multi_class = False,num_class = 2):\n",
        "    files=os.listdir(img_path)\n",
        "    #print(len(img_path))\n",
        "    #print(len(npyfile))\n",
        "    \n",
        "    for i,item in enumerate(npyfile):\n",
        "        img = labelVisualize(num_class,COLOR_DICT,item) if flag_multi_class else item[:,:,0]\n",
        "        #img1=np.array(((img - np.min(img))/np.ptp(img))>0.6).astype(float)\n",
        "        img[img>0.5]=1\n",
        "        img[img<=0.5]=0\n",
        "        io.imsave(os.path.join(save_path, files[i]),img)\n",
        "        \n",
        "        \n",
        "        \n",
        "def SaveResultwImage(img_path,save_path,npyfile,target_size=img_size,flag_multi_class = False,num_class = 2):\n",
        "    files=os.listdir(img_path)\n",
        "    #print(len(img_path))\n",
        "    #print(len(npyfile))\n",
        "    \n",
        "    for i,item in enumerate(npyfile):\n",
        "        img = labelVisualize(num_class,COLOR_DICT,item) if flag_multi_class else item[:,:,0]\n",
        "        #img1=np.array(((img - np.min(img))/np.ptp(img))>0.6).astype(float)\n",
        "        img[img>0.2]=1\n",
        "        img[img<=0.2]=0\n",
        "        \n",
        "        I = io.imread(os.path.join(img_path,files[i]), as_gray=True)\n",
        "        I = trans.resize(I,target_size)\n",
        "        #dst = cv2.addWeighted(img, 0.5, I, 0.5, 0.0)\n",
        "        img=np.true_divide((I+img),2)\n",
        "        io.imsave(os.path.join(save_path, files[i]),img)  "
      ],
      "execution_count": null,
      "outputs": []
    },
    {
      "cell_type": "code",
      "metadata": {
        "id": "OpRBa_aWkuis"
      },
      "source": [
        "#Step 5: Define functions to evaluate the output\n",
        "import sklearn.metrics as sm\n",
        "\n",
        "def get_confusion_matrix_elements(groundtruth_list, predicted_list):\n",
        "    \"\"\"returns confusion matrix elements i.e TN, FP, FN, TP as floats\n",
        "\tSee example code for helper function definitions\n",
        "    \"\"\"\n",
        "    tn, fp, fn, tp = sm.confusion_matrix(groundtruth_list, predicted_list,labels=[0,1]).ravel()\n",
        "    tn, fp, fn, tp = np.float64(tn), np.float64(fp), np.float64(fn), np.float64(tp)\n",
        "\n",
        "    return tn, fp, fn, tp\n",
        "\n",
        "def get_prec_rec_IoU_accuracy(groundtruth_list, predicted_list):\n",
        "    \"\"\"returns precision, recall, IoU and accuracy metrics\n",
        "\t\"\"\"\n",
        "    tn, fp, fn, tp = get_confusion_matrix_elements(groundtruth_list, predicted_list)\n",
        "    \n",
        "    total = tp + fp + fn + tn\n",
        "    accuracy = (tp + tn) / total\n",
        "    prec=tp/(tp+fp)\n",
        "    rec=tp/(tp+fn)\n",
        "    IoU=tp/(tp+fp+fn)\n",
        "    \n",
        "    return prec,rec,IoU,accuracy\n",
        "\n",
        "def get_f1_score(groundtruth_list, predicted_list):\n",
        "    \"\"\"Return f1 score covering edge cases\"\"\"\n",
        "\n",
        "    tn, fp, fn, tp = get_confusion_matrix_elements(groundtruth_list, predicted_list)\n",
        "    \n",
        "    f1_score = (2 * tp) / ((2 * tp) + fp + fn)\n",
        "\n",
        "    return f1_score\n",
        "\n",
        "def get_validation_metrics(groundtruth,predicted):\n",
        "    \"\"\"Return all output metrics. Input is binary images\"\"\"\n",
        "   \n",
        "    u,v=np.shape(groundtruth)\n",
        "    groundtruth_list=np.reshape(groundtruth,(u*v,))\n",
        "    predicted_list=np.reshape(predicted,(u*v,))\n",
        "    prec,rec,IoU,acc=get_prec_rec_IoU_accuracy(groundtruth_list, predicted_list)\n",
        "    f1_score=get_f1_score(groundtruth_list, predicted_list)\n",
        "   # print(\"Precision=\",prec, \"Recall=\",rec, \"IoU=\",IoU, \"acc=\",acc, \"F1=\",f1_score)\n",
        "    return prec,rec,IoU,acc,f1_score\n",
        "\n",
        "def evalResult(gth_path,npyfile,target_size=img_size,flag_multi_class = False,num_class = 2):\n",
        "    files=sorted(os.listdir(gth_path))\n",
        "    #print(files)\n",
        "    prec=0\n",
        "    rec=0\n",
        "    acc=0\n",
        "    IoU=0\n",
        "    f1_score=0\n",
        "    for i,item in enumerate(npyfile):\n",
        "        img = item[:,:,0]\n",
        "        gth = io.imread(os.path.join(gth_path,files[i]))\n",
        "        gth = trans.resize(gth,target_size)\n",
        "        if(np.sum(img)>0):\n",
        "            img=np.array(((img - np.min(img))/np.ptp(img))>0.1).astype(float)\n",
        "        if(np.sum(gth)>0):\n",
        "            gth=np.array(((gth - np.min(gth))/np.ptp(gth))>0.1).astype(float)\n",
        "            gth=(gth>0.1).astype(int)\n",
        "        #print(np.shape(gth),np.shape(img))\n",
        "        p,r,I,a,f=get_validation_metrics(gth[:,:,1],img)\n",
        "        if (np.isnan(p)):\n",
        "          p=1\n",
        "        if (np.isnan(r)):\n",
        "          r=1\n",
        "        if (np.isnan(f)):\n",
        "          f=1\n",
        "        if (np.isnan(I)):\n",
        "          I=1\n",
        "        prec=prec+p\n",
        "        rec=rec+r\n",
        "        acc=acc+a\n",
        "        IoU=IoU+I\n",
        "        f1_score=f1_score+f\n",
        "    print(\"Precision=\",prec/(i+1), \"Recall=\",rec/(i+1), \"Jac=\",IoU/(i+1), \"acc=\",acc/(i+1), \"Dice=\",f1_score/(i+1))   "
      ],
      "execution_count": null,
      "outputs": []
    },
    {
      "cell_type": "markdown",
      "metadata": {
        "id": "036WjKyjkuit"
      },
      "source": [
        "# All definitions are now done! Lets start using the functions now...\n",
        "# B. Call to image data generator, model initialization, followed by model fitting."
      ]
    },
    {
      "cell_type": "code",
      "metadata": {
        "id": "mfzRaSRqkuit"
      },
      "source": [
        "#Step 1: Call to image data generator in keras\n",
        "\n",
        "os.chdir('/content/drive/MyDrive/Colab Notebooks/ISBI_paper/Lung-Data/covid-19med/train/')\n",
        "data_gen_args = dict(rotation_range=0.2,\n",
        "                     #rescale=1./255,\n",
        "                    width_shift_range=0.2,\n",
        "                    height_shift_range=0.2,\n",
        "                    shear_range=0.1,\n",
        "                    zoom_range=[0.8,1],\n",
        "                    horizontal_flip=True,\n",
        "                    vertical_flip=True,\n",
        "                    fill_mode='nearest')\n",
        "PATH='./train/'"
      ],
      "execution_count": null,
      "outputs": []
    },
    {
      "cell_type": "code",
      "metadata": {
        "id": "wVuo91-zkuiu"
      },
      "source": [
        "data_gen = trainGenerator(3,PATH,'Images','GT',data_gen_args, save_to_dir = None)"
      ],
      "execution_count": null,
      "outputs": []
    },
    {
      "cell_type": "code",
      "metadata": {
        "id": "iaKBXrQykuiu"
      },
      "source": [
        "# for e in range(5):\n",
        "#     print('Epoch', e)\n",
        "#     batches = 0\n",
        "#     for x_batch, y_batch in data_gen:\n",
        "#         print(np.max(y_batch))\n",
        "#         plt.imshow(np.squeeze(x_batch), cmap=plt.get_cmap('gray'))\n",
        "        \n",
        "\n",
        "#         plt.show()\n",
        "        \n",
        "#         break"
      ],
      "execution_count": null,
      "outputs": []
    },
    {
      "cell_type": "code",
      "metadata": {
        "id": "bKM5tKtWkuiv"
      },
      "source": [
        "#Step 2: Initialize the model. Train from scratch!\n",
        "# Initialize model like you usually do.\n",
        "#tf.keras.backend.clear_session()\n",
        "#mod.compile(optimizer = Adam(learning_rate=0.00001), loss = bce_dice_loss, metrics = dice_coef)\n",
        "#mod.compile(optimizer = Adam(learning_rate=0.0001), loss = \"binary_crossentropy\", metrics = \"acc\")\n",
        "mod.compile(optimizer = Adam(learning_rate=0.0003), loss = dice_coef_loss, metrics = dice_coef)"
      ],
      "execution_count": null,
      "outputs": []
    },
    {
      "cell_type": "code",
      "metadata": {
        "colab": {
          "base_uri": "https://localhost:8080/"
        },
        "id": "c_W_oAgLqG3J",
        "outputId": "4e7369f8-2411-4468-88cc-46c878139f0b"
      },
      "source": [
        "# Notice WandbCallback is used as a regular callback\n",
        "# We again use config\n",
        "hist = mod.fit(data_gen,steps_per_epoch=10,epochs=80,verbose=1)\n",
        "          #        mod.fit(x_train, y_train,\n",
        "          # epochs=50, \n",
        "          # batch_size=5, verbose=1)"
      ],
      "execution_count": null,
      "outputs": [
        {
          "output_type": "stream",
          "name": "stdout",
          "text": [
            "Found 25 images belonging to 1 classes.\n",
            "Found 25 images belonging to 1 classes.\n",
            "Epoch 1/80\n",
            "10/10 [==============================] - 32s 1s/step - loss: -0.6582 - output_1_loss: -0.1446 - output_2_loss: -0.1157 - output_3_loss: -0.1925 - output_4_loss: -0.2055 - output_1_dice_coef: 0.1392 - output_2_dice_coef: 0.1106 - output_3_dice_coef: 0.1870 - output_4_dice_coef: 0.1996\n",
            "Epoch 2/80\n",
            "10/10 [==============================] - 1s 82ms/step - loss: -1.3222 - output_1_loss: -0.2397 - output_2_loss: -0.2275 - output_3_loss: -0.4224 - output_4_loss: -0.4326 - output_1_dice_coef: 0.2321 - output_2_dice_coef: 0.2219 - output_3_dice_coef: 0.4126 - output_4_dice_coef: 0.4210\n",
            "Epoch 3/80\n",
            "10/10 [==============================] - 1s 84ms/step - loss: -1.3951 - output_1_loss: -0.2917 - output_2_loss: -0.3501 - output_3_loss: -0.3837 - output_4_loss: -0.3696 - output_1_dice_coef: 0.2788 - output_2_dice_coef: 0.3423 - output_3_dice_coef: 0.3796 - output_4_dice_coef: 0.3703\n",
            "Epoch 4/80\n",
            "10/10 [==============================] - 1s 85ms/step - loss: -1.5376 - output_1_loss: -0.3359 - output_2_loss: -0.3953 - output_3_loss: -0.4006 - output_4_loss: -0.4058 - output_1_dice_coef: 0.3258 - output_2_dice_coef: 0.3876 - output_3_dice_coef: 0.3937 - output_4_dice_coef: 0.3984\n",
            "Epoch 5/80\n",
            "10/10 [==============================] - 1s 84ms/step - loss: -1.6953 - output_1_loss: -0.3931 - output_2_loss: -0.4328 - output_3_loss: -0.4328 - output_4_loss: -0.4366 - output_1_dice_coef: 0.3910 - output_2_dice_coef: 0.4412 - output_3_dice_coef: 0.4384 - output_4_dice_coef: 0.4451\n",
            "Epoch 6/80\n",
            "10/10 [==============================] - 1s 84ms/step - loss: -1.1487 - output_1_loss: -0.2846 - output_2_loss: -0.2870 - output_3_loss: -0.2882 - output_4_loss: -0.2890 - output_1_dice_coef: 0.2855 - output_2_dice_coef: 0.2917 - output_3_dice_coef: 0.2927 - output_4_dice_coef: 0.2935\n",
            "Epoch 7/80\n",
            "10/10 [==============================] - 1s 83ms/step - loss: -1.4240 - output_1_loss: -0.3482 - output_2_loss: -0.3601 - output_3_loss: -0.3592 - output_4_loss: -0.3565 - output_1_dice_coef: 0.3742 - output_2_dice_coef: 0.3876 - output_3_dice_coef: 0.3854 - output_4_dice_coef: 0.3836\n",
            "Epoch 8/80\n",
            "10/10 [==============================] - 1s 83ms/step - loss: -1.7698 - output_1_loss: -0.4296 - output_2_loss: -0.4452 - output_3_loss: -0.4487 - output_4_loss: -0.4463 - output_1_dice_coef: 0.4433 - output_2_dice_coef: 0.4602 - output_3_dice_coef: 0.4636 - output_4_dice_coef: 0.4612\n",
            "Epoch 9/80\n",
            "10/10 [==============================] - 1s 85ms/step - loss: -1.9474 - output_1_loss: -0.4676 - output_2_loss: -0.4959 - output_3_loss: -0.4915 - output_4_loss: -0.4924 - output_1_dice_coef: 0.4699 - output_2_dice_coef: 0.4932 - output_3_dice_coef: 0.4888 - output_4_dice_coef: 0.4891\n",
            "Epoch 10/80\n",
            "10/10 [==============================] - 1s 84ms/step - loss: -1.7121 - output_1_loss: -0.4257 - output_2_loss: -0.4313 - output_3_loss: -0.4274 - output_4_loss: -0.4277 - output_1_dice_coef: 0.4107 - output_2_dice_coef: 0.4168 - output_3_dice_coef: 0.4121 - output_4_dice_coef: 0.4124\n",
            "Epoch 11/80\n",
            "10/10 [==============================] - 1s 84ms/step - loss: -1.5670 - output_1_loss: -0.3849 - output_2_loss: -0.3935 - output_3_loss: -0.3945 - output_4_loss: -0.3942 - output_1_dice_coef: 0.3764 - output_2_dice_coef: 0.3864 - output_3_dice_coef: 0.3869 - output_4_dice_coef: 0.3864\n",
            "Epoch 12/80\n",
            "10/10 [==============================] - 1s 84ms/step - loss: -1.9017 - output_1_loss: -0.4693 - output_2_loss: -0.4763 - output_3_loss: -0.4760 - output_4_loss: -0.4800 - output_1_dice_coef: 0.4569 - output_2_dice_coef: 0.4592 - output_3_dice_coef: 0.4583 - output_4_dice_coef: 0.4637\n",
            "Epoch 13/80\n",
            "10/10 [==============================] - 1s 84ms/step - loss: -1.2931 - output_1_loss: -0.3260 - output_2_loss: -0.3248 - output_3_loss: -0.3215 - output_4_loss: -0.3209 - output_1_dice_coef: 0.3557 - output_2_dice_coef: 0.3537 - output_3_dice_coef: 0.3501 - output_4_dice_coef: 0.3494\n",
            "Epoch 14/80\n",
            "10/10 [==============================] - 1s 84ms/step - loss: -1.8964 - output_1_loss: -0.4743 - output_2_loss: -0.4749 - output_3_loss: -0.4735 - output_4_loss: -0.4737 - output_1_dice_coef: 0.4656 - output_2_dice_coef: 0.4683 - output_3_dice_coef: 0.4662 - output_4_dice_coef: 0.4677\n",
            "Epoch 15/80\n",
            "10/10 [==============================] - 1s 83ms/step - loss: -1.6201 - output_1_loss: -0.3901 - output_2_loss: -0.4087 - output_3_loss: -0.4095 - output_4_loss: -0.4118 - output_1_dice_coef: 0.3796 - output_2_dice_coef: 0.3972 - output_3_dice_coef: 0.3970 - output_4_dice_coef: 0.4001\n",
            "Epoch 16/80\n",
            "10/10 [==============================] - 1s 85ms/step - loss: -1.6613 - output_1_loss: -0.4169 - output_2_loss: -0.4216 - output_3_loss: -0.4166 - output_4_loss: -0.4061 - output_1_dice_coef: 0.4090 - output_2_dice_coef: 0.4134 - output_3_dice_coef: 0.4077 - output_4_dice_coef: 0.3953\n",
            "Epoch 17/80\n",
            "10/10 [==============================] - 1s 85ms/step - loss: -1.8704 - output_1_loss: -0.4597 - output_2_loss: -0.4711 - output_3_loss: -0.4686 - output_4_loss: -0.4709 - output_1_dice_coef: 0.4482 - output_2_dice_coef: 0.4574 - output_3_dice_coef: 0.4540 - output_4_dice_coef: 0.4572\n",
            "Epoch 18/80\n",
            "10/10 [==============================] - 1s 83ms/step - loss: -1.9610 - output_1_loss: -0.4851 - output_2_loss: -0.4885 - output_3_loss: -0.4914 - output_4_loss: -0.4959 - output_1_dice_coef: 0.4592 - output_2_dice_coef: 0.4630 - output_3_dice_coef: 0.4628 - output_4_dice_coef: 0.4690\n",
            "Epoch 19/80\n",
            "10/10 [==============================] - 1s 85ms/step - loss: -2.0421 - output_1_loss: -0.4971 - output_2_loss: -0.5134 - output_3_loss: -0.5157 - output_4_loss: -0.5158 - output_1_dice_coef: 0.4893 - output_2_dice_coef: 0.5051 - output_3_dice_coef: 0.5081 - output_4_dice_coef: 0.5081\n",
            "Epoch 20/80\n",
            "10/10 [==============================] - 1s 84ms/step - loss: -2.0110 - output_1_loss: -0.4907 - output_2_loss: -0.5049 - output_3_loss: -0.5060 - output_4_loss: -0.5094 - output_1_dice_coef: 0.4862 - output_2_dice_coef: 0.5005 - output_3_dice_coef: 0.5023 - output_4_dice_coef: 0.5054\n",
            "Epoch 21/80\n",
            "10/10 [==============================] - 1s 86ms/step - loss: -2.0947 - output_1_loss: -0.5102 - output_2_loss: -0.5285 - output_3_loss: -0.5267 - output_4_loss: -0.5293 - output_1_dice_coef: 0.5265 - output_2_dice_coef: 0.5443 - output_3_dice_coef: 0.5429 - output_4_dice_coef: 0.5457\n",
            "Epoch 22/80\n",
            "10/10 [==============================] - 1s 84ms/step - loss: -1.9475 - output_1_loss: -0.4756 - output_2_loss: -0.4889 - output_3_loss: -0.4908 - output_4_loss: -0.4923 - output_1_dice_coef: 0.4693 - output_2_dice_coef: 0.4858 - output_3_dice_coef: 0.4883 - output_4_dice_coef: 0.4904\n",
            "Epoch 23/80\n",
            "10/10 [==============================] - 1s 85ms/step - loss: -2.0334 - output_1_loss: -0.4893 - output_2_loss: -0.5142 - output_3_loss: -0.5154 - output_4_loss: -0.5144 - output_1_dice_coef: 0.4767 - output_2_dice_coef: 0.5004 - output_3_dice_coef: 0.5003 - output_4_dice_coef: 0.4990\n",
            "Epoch 24/80\n",
            "10/10 [==============================] - 1s 84ms/step - loss: -2.0036 - output_1_loss: -0.4907 - output_2_loss: -0.5038 - output_3_loss: -0.5018 - output_4_loss: -0.5073 - output_1_dice_coef: 0.4861 - output_2_dice_coef: 0.4967 - output_3_dice_coef: 0.4955 - output_4_dice_coef: 0.5013\n",
            "Epoch 25/80\n",
            "10/10 [==============================] - 1s 83ms/step - loss: -2.0052 - output_1_loss: -0.4890 - output_2_loss: -0.5044 - output_3_loss: -0.5028 - output_4_loss: -0.5089 - output_1_dice_coef: 0.4924 - output_2_dice_coef: 0.5083 - output_3_dice_coef: 0.5088 - output_4_dice_coef: 0.5152\n",
            "Epoch 26/80\n",
            "10/10 [==============================] - 1s 83ms/step - loss: -2.0517 - output_1_loss: -0.4837 - output_2_loss: -0.5143 - output_3_loss: -0.5266 - output_4_loss: -0.5271 - output_1_dice_coef: 0.5071 - output_2_dice_coef: 0.5350 - output_3_dice_coef: 0.5478 - output_4_dice_coef: 0.5484\n",
            "Epoch 27/80\n",
            "10/10 [==============================] - 1s 84ms/step - loss: -2.0408 - output_1_loss: -0.4791 - output_2_loss: -0.5168 - output_3_loss: -0.5218 - output_4_loss: -0.5231 - output_1_dice_coef: 0.4992 - output_2_dice_coef: 0.5323 - output_3_dice_coef: 0.5347 - output_4_dice_coef: 0.5345\n",
            "Epoch 28/80\n",
            "10/10 [==============================] - 1s 86ms/step - loss: -1.8846 - output_1_loss: -0.4718 - output_2_loss: -0.4771 - output_3_loss: -0.4658 - output_4_loss: -0.4699 - output_1_dice_coef: 0.4609 - output_2_dice_coef: 0.4666 - output_3_dice_coef: 0.4563 - output_4_dice_coef: 0.4603\n",
            "Epoch 29/80\n",
            "10/10 [==============================] - 1s 85ms/step - loss: -2.2319 - output_1_loss: -0.5184 - output_2_loss: -0.5647 - output_3_loss: -0.5739 - output_4_loss: -0.5749 - output_1_dice_coef: 0.5182 - output_2_dice_coef: 0.5658 - output_3_dice_coef: 0.5761 - output_4_dice_coef: 0.5777\n",
            "Epoch 30/80\n",
            "10/10 [==============================] - 1s 85ms/step - loss: -1.7452 - output_1_loss: -0.4251 - output_2_loss: -0.4419 - output_3_loss: -0.4401 - output_4_loss: -0.4380 - output_1_dice_coef: 0.4366 - output_2_dice_coef: 0.4537 - output_3_dice_coef: 0.4525 - output_4_dice_coef: 0.4503\n",
            "Epoch 31/80\n",
            "10/10 [==============================] - 1s 85ms/step - loss: -1.7504 - output_1_loss: -0.3974 - output_2_loss: -0.4448 - output_3_loss: -0.4548 - output_4_loss: -0.4534 - output_1_dice_coef: 0.3927 - output_2_dice_coef: 0.4374 - output_3_dice_coef: 0.4466 - output_4_dice_coef: 0.4451\n",
            "Epoch 32/80\n",
            "10/10 [==============================] - 1s 83ms/step - loss: -2.1560 - output_1_loss: -0.5264 - output_2_loss: -0.5485 - output_3_loss: -0.5362 - output_4_loss: -0.5450 - output_1_dice_coef: 0.5322 - output_2_dice_coef: 0.5488 - output_3_dice_coef: 0.5372 - output_4_dice_coef: 0.5454\n",
            "Epoch 33/80\n",
            "10/10 [==============================] - 1s 83ms/step - loss: -2.2017 - output_1_loss: -0.4995 - output_2_loss: -0.5619 - output_3_loss: -0.5697 - output_4_loss: -0.5706 - output_1_dice_coef: 0.4740 - output_2_dice_coef: 0.5321 - output_3_dice_coef: 0.5393 - output_4_dice_coef: 0.5403\n",
            "Epoch 34/80\n",
            "10/10 [==============================] - 1s 84ms/step - loss: -2.2258 - output_1_loss: -0.5268 - output_2_loss: -0.5618 - output_3_loss: -0.5683 - output_4_loss: -0.5689 - output_1_dice_coef: 0.5069 - output_2_dice_coef: 0.5398 - output_3_dice_coef: 0.5453 - output_4_dice_coef: 0.5458\n",
            "Epoch 35/80\n",
            "10/10 [==============================] - 1s 84ms/step - loss: -2.0305 - output_1_loss: -0.4862 - output_2_loss: -0.5093 - output_3_loss: -0.5169 - output_4_loss: -0.5181 - output_1_dice_coef: 0.4940 - output_2_dice_coef: 0.5080 - output_3_dice_coef: 0.5146 - output_4_dice_coef: 0.5152\n",
            "Epoch 36/80\n",
            "10/10 [==============================] - 1s 84ms/step - loss: -2.4320 - output_1_loss: -0.5813 - output_2_loss: -0.6177 - output_3_loss: -0.6170 - output_4_loss: -0.6159 - output_1_dice_coef: 0.6054 - output_2_dice_coef: 0.6347 - output_3_dice_coef: 0.6330 - output_4_dice_coef: 0.6316\n",
            "Epoch 37/80\n",
            "10/10 [==============================] - 1s 86ms/step - loss: -2.2157 - output_1_loss: -0.5318 - output_2_loss: -0.5634 - output_3_loss: -0.5587 - output_4_loss: -0.5617 - output_1_dice_coef: 0.5175 - output_2_dice_coef: 0.5491 - output_3_dice_coef: 0.5449 - output_4_dice_coef: 0.5481\n",
            "Epoch 38/80\n",
            "10/10 [==============================] - 1s 84ms/step - loss: -1.9898 - output_1_loss: -0.4690 - output_2_loss: -0.5056 - output_3_loss: -0.5083 - output_4_loss: -0.5069 - output_1_dice_coef: 0.4432 - output_2_dice_coef: 0.4748 - output_3_dice_coef: 0.4772 - output_4_dice_coef: 0.4758\n",
            "Epoch 39/80\n",
            "10/10 [==============================] - 1s 83ms/step - loss: -1.8321 - output_1_loss: -0.4285 - output_2_loss: -0.4663 - output_3_loss: -0.4697 - output_4_loss: -0.4675 - output_1_dice_coef: 0.4163 - output_2_dice_coef: 0.4475 - output_3_dice_coef: 0.4504 - output_4_dice_coef: 0.4479\n",
            "Epoch 40/80\n",
            "10/10 [==============================] - 1s 84ms/step - loss: -2.2934 - output_1_loss: -0.5335 - output_2_loss: -0.5807 - output_3_loss: -0.5887 - output_4_loss: -0.5906 - output_1_dice_coef: 0.5273 - output_2_dice_coef: 0.5747 - output_3_dice_coef: 0.5828 - output_4_dice_coef: 0.5849\n",
            "Epoch 41/80\n",
            "10/10 [==============================] - 1s 83ms/step - loss: -1.9834 - output_1_loss: -0.4582 - output_2_loss: -0.4995 - output_3_loss: -0.5124 - output_4_loss: -0.5132 - output_1_dice_coef: 0.4430 - output_2_dice_coef: 0.4786 - output_3_dice_coef: 0.4907 - output_4_dice_coef: 0.4915\n",
            "Epoch 42/80\n",
            "10/10 [==============================] - 1s 86ms/step - loss: -2.2698 - output_1_loss: -0.5372 - output_2_loss: -0.5760 - output_3_loss: -0.5773 - output_4_loss: -0.5793 - output_1_dice_coef: 0.5037 - output_2_dice_coef: 0.5404 - output_3_dice_coef: 0.5412 - output_4_dice_coef: 0.5432\n",
            "Epoch 43/80\n",
            "10/10 [==============================] - 1s 85ms/step - loss: -1.9925 - output_1_loss: -0.4675 - output_2_loss: -0.5033 - output_3_loss: -0.5106 - output_4_loss: -0.5112 - output_1_dice_coef: 0.4644 - output_2_dice_coef: 0.5011 - output_3_dice_coef: 0.5058 - output_4_dice_coef: 0.5071\n",
            "Epoch 44/80\n",
            "10/10 [==============================] - 1s 84ms/step - loss: -2.2719 - output_1_loss: -0.5174 - output_2_loss: -0.5794 - output_3_loss: -0.5877 - output_4_loss: -0.5874 - output_1_dice_coef: 0.4891 - output_2_dice_coef: 0.5473 - output_3_dice_coef: 0.5551 - output_4_dice_coef: 0.5545\n",
            "Epoch 45/80\n",
            "10/10 [==============================] - 1s 84ms/step - loss: -2.3089 - output_1_loss: -0.5186 - output_2_loss: -0.5894 - output_3_loss: -0.5991 - output_4_loss: -0.6019 - output_1_dice_coef: 0.5367 - output_2_dice_coef: 0.5966 - output_3_dice_coef: 0.6007 - output_4_dice_coef: 0.6028\n",
            "Epoch 46/80\n",
            "10/10 [==============================] - 1s 84ms/step - loss: -2.1159 - output_1_loss: -0.4511 - output_2_loss: -0.5446 - output_3_loss: -0.5596 - output_4_loss: -0.5605 - output_1_dice_coef: 0.4583 - output_2_dice_coef: 0.5392 - output_3_dice_coef: 0.5512 - output_4_dice_coef: 0.5543\n",
            "Epoch 47/80\n",
            "10/10 [==============================] - 1s 86ms/step - loss: -2.2205 - output_1_loss: -0.4941 - output_2_loss: -0.5690 - output_3_loss: -0.5797 - output_4_loss: -0.5777 - output_1_dice_coef: 0.5185 - output_2_dice_coef: 0.5895 - output_3_dice_coef: 0.5997 - output_4_dice_coef: 0.5981\n",
            "Epoch 48/80\n",
            "10/10 [==============================] - 1s 85ms/step - loss: -1.8532 - output_1_loss: -0.4190 - output_2_loss: -0.4678 - output_3_loss: -0.4837 - output_4_loss: -0.4827 - output_1_dice_coef: 0.4106 - output_2_dice_coef: 0.4605 - output_3_dice_coef: 0.4761 - output_4_dice_coef: 0.4752\n",
            "Epoch 49/80\n",
            "10/10 [==============================] - 1s 87ms/step - loss: -2.3762 - output_1_loss: -0.5562 - output_2_loss: -0.5998 - output_3_loss: -0.6101 - output_4_loss: -0.6101 - output_1_dice_coef: 0.5668 - output_2_dice_coef: 0.6041 - output_3_dice_coef: 0.6131 - output_4_dice_coef: 0.6141\n",
            "Epoch 50/80\n",
            "10/10 [==============================] - 1s 84ms/step - loss: -2.5399 - output_1_loss: -0.5839 - output_2_loss: -0.6448 - output_3_loss: -0.6554 - output_4_loss: -0.6558 - output_1_dice_coef: 0.5560 - output_2_dice_coef: 0.6191 - output_3_dice_coef: 0.6353 - output_4_dice_coef: 0.6363\n",
            "Epoch 51/80\n",
            "10/10 [==============================] - 1s 83ms/step - loss: -1.9612 - output_1_loss: -0.4387 - output_2_loss: -0.5031 - output_3_loss: -0.5087 - output_4_loss: -0.5106 - output_1_dice_coef: 0.4335 - output_2_dice_coef: 0.4962 - output_3_dice_coef: 0.5008 - output_4_dice_coef: 0.5021\n",
            "Epoch 52/80\n",
            "10/10 [==============================] - 1s 83ms/step - loss: -2.2244 - output_1_loss: -0.4964 - output_2_loss: -0.5696 - output_3_loss: -0.5796 - output_4_loss: -0.5787 - output_1_dice_coef: 0.4936 - output_2_dice_coef: 0.5638 - output_3_dice_coef: 0.5711 - output_4_dice_coef: 0.5706\n",
            "Epoch 53/80\n",
            "10/10 [==============================] - 1s 87ms/step - loss: -2.3644 - output_1_loss: -0.5229 - output_2_loss: -0.6068 - output_3_loss: -0.6168 - output_4_loss: -0.6179 - output_1_dice_coef: 0.5278 - output_2_dice_coef: 0.6139 - output_3_dice_coef: 0.6218 - output_4_dice_coef: 0.6230\n",
            "Epoch 54/80\n",
            "10/10 [==============================] - 1s 85ms/step - loss: -2.0871 - output_1_loss: -0.4339 - output_2_loss: -0.5517 - output_3_loss: -0.5521 - output_4_loss: -0.5494 - output_1_dice_coef: 0.4335 - output_2_dice_coef: 0.5415 - output_3_dice_coef: 0.5437 - output_4_dice_coef: 0.5411\n",
            "Epoch 55/80\n",
            "10/10 [==============================] - 1s 83ms/step - loss: -2.3978 - output_1_loss: -0.5505 - output_2_loss: -0.6141 - output_3_loss: -0.6154 - output_4_loss: -0.6178 - output_1_dice_coef: 0.5518 - output_2_dice_coef: 0.6216 - output_3_dice_coef: 0.6224 - output_4_dice_coef: 0.6244\n",
            "Epoch 56/80\n",
            "10/10 [==============================] - 1s 86ms/step - loss: -2.4074 - output_1_loss: -0.5426 - output_2_loss: -0.6173 - output_3_loss: -0.6232 - output_4_loss: -0.6244 - output_1_dice_coef: 0.5366 - output_2_dice_coef: 0.6056 - output_3_dice_coef: 0.6100 - output_4_dice_coef: 0.6115\n",
            "Epoch 57/80\n",
            "10/10 [==============================] - 1s 84ms/step - loss: -2.2109 - output_1_loss: -0.4611 - output_2_loss: -0.5716 - output_3_loss: -0.5885 - output_4_loss: -0.5898 - output_1_dice_coef: 0.4629 - output_2_dice_coef: 0.5756 - output_3_dice_coef: 0.5928 - output_4_dice_coef: 0.5942\n",
            "Epoch 58/80\n",
            "10/10 [==============================] - 1s 86ms/step - loss: -2.4556 - output_1_loss: -0.5598 - output_2_loss: -0.6257 - output_3_loss: -0.6354 - output_4_loss: -0.6347 - output_1_dice_coef: 0.5544 - output_2_dice_coef: 0.6306 - output_3_dice_coef: 0.6402 - output_4_dice_coef: 0.6392\n",
            "Epoch 59/80\n",
            "10/10 [==============================] - 1s 89ms/step - loss: -2.5298 - output_1_loss: -0.5833 - output_2_loss: -0.6354 - output_3_loss: -0.6554 - output_4_loss: -0.6557 - output_1_dice_coef: 0.5862 - output_2_dice_coef: 0.6402 - output_3_dice_coef: 0.6595 - output_4_dice_coef: 0.6597\n",
            "Epoch 60/80\n",
            "10/10 [==============================] - 1s 85ms/step - loss: -2.4140 - output_1_loss: -0.5506 - output_2_loss: -0.6202 - output_3_loss: -0.6213 - output_4_loss: -0.6218 - output_1_dice_coef: 0.5620 - output_2_dice_coef: 0.6289 - output_3_dice_coef: 0.6303 - output_4_dice_coef: 0.6305\n",
            "Epoch 61/80\n",
            "10/10 [==============================] - 1s 87ms/step - loss: -2.2388 - output_1_loss: -0.4787 - output_2_loss: -0.5788 - output_3_loss: -0.5903 - output_4_loss: -0.5910 - output_1_dice_coef: 0.4841 - output_2_dice_coef: 0.5766 - output_3_dice_coef: 0.5882 - output_4_dice_coef: 0.5882\n",
            "Epoch 62/80\n",
            "10/10 [==============================] - 1s 85ms/step - loss: -2.3458 - output_1_loss: -0.5165 - output_2_loss: -0.6040 - output_3_loss: -0.6120 - output_4_loss: -0.6133 - output_1_dice_coef: 0.5090 - output_2_dice_coef: 0.5896 - output_3_dice_coef: 0.5955 - output_4_dice_coef: 0.5964\n",
            "Epoch 63/80\n",
            "10/10 [==============================] - 1s 85ms/step - loss: -2.1505 - output_1_loss: -0.5227 - output_2_loss: -0.5383 - output_3_loss: -0.5454 - output_4_loss: -0.5442 - output_1_dice_coef: 0.5185 - output_2_dice_coef: 0.5281 - output_3_dice_coef: 0.5351 - output_4_dice_coef: 0.5340\n",
            "Epoch 64/80\n",
            "10/10 [==============================] - 1s 88ms/step - loss: -2.0639 - output_1_loss: -0.4716 - output_2_loss: -0.5293 - output_3_loss: -0.5324 - output_4_loss: -0.5306 - output_1_dice_coef: 0.4480 - output_2_dice_coef: 0.5097 - output_3_dice_coef: 0.5137 - output_4_dice_coef: 0.5115\n",
            "Epoch 65/80\n",
            "10/10 [==============================] - 1s 86ms/step - loss: -2.2711 - output_1_loss: -0.5131 - output_2_loss: -0.5817 - output_3_loss: -0.5884 - output_4_loss: -0.5879 - output_1_dice_coef: 0.5311 - output_2_dice_coef: 0.5859 - output_3_dice_coef: 0.5905 - output_4_dice_coef: 0.5899\n",
            "Epoch 66/80\n",
            "10/10 [==============================] - 1s 84ms/step - loss: -2.5119 - output_1_loss: -0.5775 - output_2_loss: -0.6356 - output_3_loss: -0.6497 - output_4_loss: -0.6492 - output_1_dice_coef: 0.5738 - output_2_dice_coef: 0.6285 - output_3_dice_coef: 0.6439 - output_4_dice_coef: 0.6429\n",
            "Epoch 67/80\n",
            "10/10 [==============================] - 1s 87ms/step - loss: -2.2925 - output_1_loss: -0.5134 - output_2_loss: -0.5901 - output_3_loss: -0.5964 - output_4_loss: -0.5926 - output_1_dice_coef: 0.5138 - output_2_dice_coef: 0.5954 - output_3_dice_coef: 0.6007 - output_4_dice_coef: 0.5973\n",
            "Epoch 68/80\n",
            "10/10 [==============================] - 1s 87ms/step - loss: -2.3586 - output_1_loss: -0.5137 - output_2_loss: -0.6103 - output_3_loss: -0.6169 - output_4_loss: -0.6177 - output_1_dice_coef: 0.5258 - output_2_dice_coef: 0.6156 - output_3_dice_coef: 0.6196 - output_4_dice_coef: 0.6204\n",
            "Epoch 69/80\n",
            "10/10 [==============================] - 1s 86ms/step - loss: -2.2907 - output_1_loss: -0.4760 - output_2_loss: -0.5938 - output_3_loss: -0.6103 - output_4_loss: -0.6106 - output_1_dice_coef: 0.4595 - output_2_dice_coef: 0.5775 - output_3_dice_coef: 0.5947 - output_4_dice_coef: 0.5947\n",
            "Epoch 70/80\n",
            "10/10 [==============================] - 1s 84ms/step - loss: -2.3106 - output_1_loss: -0.5314 - output_2_loss: -0.5851 - output_3_loss: -0.5954 - output_4_loss: -0.5986 - output_1_dice_coef: 0.5475 - output_2_dice_coef: 0.5929 - output_3_dice_coef: 0.6034 - output_4_dice_coef: 0.6067\n",
            "Epoch 71/80\n",
            "10/10 [==============================] - 1s 85ms/step - loss: -2.5235 - output_1_loss: -0.5839 - output_2_loss: -0.6406 - output_3_loss: -0.6486 - output_4_loss: -0.6503 - output_1_dice_coef: 0.5931 - output_2_dice_coef: 0.6493 - output_3_dice_coef: 0.6606 - output_4_dice_coef: 0.6617\n",
            "Epoch 72/80\n",
            "10/10 [==============================] - 1s 87ms/step - loss: -2.3850 - output_1_loss: -0.5486 - output_2_loss: -0.6082 - output_3_loss: -0.6135 - output_4_loss: -0.6147 - output_1_dice_coef: 0.5788 - output_2_dice_coef: 0.6341 - output_3_dice_coef: 0.6396 - output_4_dice_coef: 0.6407\n",
            "Epoch 73/80\n",
            "10/10 [==============================] - 1s 86ms/step - loss: -2.1657 - output_1_loss: -0.4688 - output_2_loss: -0.5554 - output_3_loss: -0.5706 - output_4_loss: -0.5709 - output_1_dice_coef: 0.4882 - output_2_dice_coef: 0.5712 - output_3_dice_coef: 0.5863 - output_4_dice_coef: 0.5863\n",
            "Epoch 74/80\n",
            "10/10 [==============================] - 1s 86ms/step - loss: -2.1646 - output_1_loss: -0.4794 - output_2_loss: -0.5528 - output_3_loss: -0.5661 - output_4_loss: -0.5664 - output_1_dice_coef: 0.5014 - output_2_dice_coef: 0.5737 - output_3_dice_coef: 0.5865 - output_4_dice_coef: 0.5863\n",
            "Epoch 75/80\n",
            "10/10 [==============================] - 1s 84ms/step - loss: -2.4893 - output_1_loss: -0.5524 - output_2_loss: -0.6302 - output_3_loss: -0.6534 - output_4_loss: -0.6533 - output_1_dice_coef: 0.5681 - output_2_dice_coef: 0.6395 - output_3_dice_coef: 0.6622 - output_4_dice_coef: 0.6621\n",
            "Epoch 76/80\n",
            "10/10 [==============================] - 1s 84ms/step - loss: -2.4319 - output_1_loss: -0.5182 - output_2_loss: -0.6227 - output_3_loss: -0.6451 - output_4_loss: -0.6459 - output_1_dice_coef: 0.5099 - output_2_dice_coef: 0.6127 - output_3_dice_coef: 0.6352 - output_4_dice_coef: 0.6363\n",
            "Epoch 77/80\n",
            "10/10 [==============================] - 1s 87ms/step - loss: -2.0713 - output_1_loss: -0.4243 - output_2_loss: -0.5496 - output_3_loss: -0.5490 - output_4_loss: -0.5484 - output_1_dice_coef: 0.4475 - output_2_dice_coef: 0.5687 - output_3_dice_coef: 0.5671 - output_4_dice_coef: 0.5664\n",
            "Epoch 78/80\n",
            "10/10 [==============================] - 1s 86ms/step - loss: -2.1396 - output_1_loss: -0.4960 - output_2_loss: -0.5459 - output_3_loss: -0.5502 - output_4_loss: -0.5474 - output_1_dice_coef: 0.5157 - output_2_dice_coef: 0.5608 - output_3_dice_coef: 0.5653 - output_4_dice_coef: 0.5622\n",
            "Epoch 79/80\n",
            "10/10 [==============================] - 1s 83ms/step - loss: -2.4347 - output_1_loss: -0.5738 - output_2_loss: -0.6158 - output_3_loss: -0.6236 - output_4_loss: -0.6216 - output_1_dice_coef: 0.5802 - output_2_dice_coef: 0.6254 - output_3_dice_coef: 0.6349 - output_4_dice_coef: 0.6330\n",
            "Epoch 80/80\n",
            "10/10 [==============================] - 1s 85ms/step - loss: -2.2862 - output_1_loss: -0.4810 - output_2_loss: -0.5913 - output_3_loss: -0.6056 - output_4_loss: -0.6083 - output_1_dice_coef: 0.4923 - output_2_dice_coef: 0.5971 - output_3_dice_coef: 0.6103 - output_4_dice_coef: 0.6127\n"
          ]
        }
      ]
    },
    {
      "cell_type": "code",
      "metadata": {
        "colab": {
          "base_uri": "https://localhost:8080/",
          "height": 283
        },
        "id": "_qSqh_CQAWqs",
        "outputId": "e267c561-2a3a-4186-b537-4fe90de7c85e"
      },
      "source": [
        "plt.plot(hist.history['output_1_loss'])\n",
        "plt.plot(hist.history['output_2_loss'])\n",
        "plt.plot(hist.history['output_3_loss'])\n",
        "plt.plot(hist.history['output_4_loss'])\n",
        "#plt.plot(hist.history['loss'])"
      ],
      "execution_count": null,
      "outputs": [
        {
          "output_type": "execute_result",
          "data": {
            "text/plain": [
              "[<matplotlib.lines.Line2D at 0x7f0bae386b10>]"
            ]
          },
          "metadata": {},
          "execution_count": 61
        },
        {
          "output_type": "display_data",
          "data": {
            "image/png": "[encoded data removed]",
            "text/plain": [
              "<Figure size 432x288 with 1 Axes>"
            ]
          },
          "metadata": {
            "needs_background": "light"
          }
        }
      ]
    },
    {
      "cell_type": "markdown",
      "metadata": {
        "id": "bPQAhlUYkuiw"
      },
      "source": [
        "# Generate results!"
      ]
    },
    {
      "cell_type": "code",
      "metadata": {
        "colab": {
          "base_uri": "https://localhost:8080/",
          "height": 36
        },
        "id": "N98LiMO3KlWG",
        "outputId": "cdebc397-1aa5-4301-b6f1-4a8bf951e510"
      },
      "source": [
        "PATH"
      ],
      "execution_count": null,
      "outputs": [
        {
          "output_type": "execute_result",
          "data": {
            "application/vnd.google.colaboratory.intrinsic+json": {
              "type": "string"
            },
            "text/plain": [
              "'./train/'"
            ]
          },
          "metadata": {},
          "execution_count": 23
        }
      ]
    },
    {
      "cell_type": "code",
      "metadata": {
        "id": "M0U1YHs_kuix",
        "scrolled": true,
        "colab": {
          "base_uri": "https://localhost:8080/"
        },
        "outputId": "64b8c91a-6c48-4313-f413-d6e46d390961"
      },
      "source": [
        "#Step 1: Run model on test images and save the images\n",
        "#number of test images\n",
        "n_i=len(os.listdir('./test/Images/'))\n",
        "#Call test generator\n",
        "test_gen= testGenerator('./test/Images/')\n",
        "print(n_i)\n"
      ],
      "execution_count": null,
      "outputs": [
        {
          "output_type": "stream",
          "name": "stdout",
          "text": [
            "74\n"
          ]
        }
      ]
    },
    {
      "cell_type": "code",
      "metadata": {
        "colab": {
          "base_uri": "https://localhost:8080/"
        },
        "id": "MVXSN849qZ5E",
        "outputId": "d8709af9-f593-4f50-acca-08eae0aa3a23"
      },
      "source": [
        "#Return model outcome for each test image\n",
        "results = mod.predict_generator(test_gen,n_i,verbose=1)"
      ],
      "execution_count": null,
      "outputs": [
        {
          "output_type": "stream",
          "name": "stderr",
          "text": [
            "/usr/local/lib/python3.7/dist-packages/keras/engine/training.py:2035: UserWarning: `Model.predict_generator` is deprecated and will be removed in a future version. Please use `Model.predict`, which supports generators.\n",
            "  warnings.warn('`Model.predict_generator` is deprecated and '\n"
          ]
        },
        {
          "output_type": "stream",
          "name": "stdout",
          "text": [
            "image0.jpg\n",
            " 1/74 [..............................] - ETA: 37simage1.jpg\n",
            " 2/74 [..............................] - ETA: 24simage10.jpg\n",
            " 3/74 [>.............................] - ETA: 20simage12.jpg\n",
            " 4/74 [>.............................] - ETA: 19simage13.jpg\n",
            " 5/74 [=>............................] - ETA: 18simage14.jpg\n",
            " 6/74 [=>............................] - ETA: 18simage15.jpg\n",
            " 7/74 [=>............................] - ETA: 17simage16.jpg\n",
            " 8/74 [==>...........................] - ETA: 17simage17.jpg\n",
            " 9/74 [==>...........................] - ETA: 16simage19.jpg\n",
            "10/74 [===>..........................] - ETA: 16simage21.jpg\n",
            "11/74 [===>..........................] - ETA: 16simage22.jpg\n",
            "12/74 [===>..........................] - ETA: 15simage23.jpg\n",
            "13/74 [====>.........................] - ETA: 15simage24.jpg\n",
            "14/74 [====>.........................] - ETA: 15simage26.jpg\n",
            "15/74 [=====>........................] - ETA: 14simage28.jpg\n",
            "16/74 [=====>........................] - ETA: 14simage29.jpg\n",
            "17/74 [=====>........................] - ETA: 14simage30.jpg\n",
            "18/74 [======>.......................] - ETA: 14simage31.jpg\n",
            "19/74 [======>.......................] - ETA: 14simage32.jpg\n",
            "20/74 [=======>......................] - ETA: 14simage33.jpg\n",
            "21/74 [=======>......................] - ETA: 14simage36.jpg\n",
            "22/74 [=======>......................] - ETA: 13simage37.jpg\n",
            "23/74 [========>.....................] - ETA: 13simage39.jpg\n",
            "24/74 [========>.....................] - ETA: 13simage4.jpg\n",
            "25/74 [=========>....................] - ETA: 12simage40.jpg\n",
            "26/74 [=========>....................] - ETA: 12simage41.jpg\n",
            "27/74 [=========>....................] - ETA: 12simage44.jpg\n",
            "28/74 [==========>...................] - ETA: 12simage45.jpg\n",
            "29/74 [==========>...................] - ETA: 11simage46.jpg\n",
            "30/74 [===========>..................] - ETA: 11simage47.jpg\n",
            "31/74 [===========>..................] - ETA: 11simage48.jpg\n",
            "32/74 [===========>..................] - ETA: 10simage49.jpg\n",
            "33/74 [============>.................] - ETA: 10simage5.jpg\n",
            "34/74 [============>.................] - ETA: 10simage50.jpg\n",
            "35/74 [=============>................] - ETA: 10simage51.jpg\n",
            "36/74 [=============>................] - ETA: 9s image54.jpg\n",
            "37/74 [==============>...............] - ETA: 9simage55.jpg\n",
            "38/74 [==============>...............] - ETA: 9simage56.jpg\n",
            "39/74 [==============>...............] - ETA: 8simage57.jpg\n",
            "40/74 [===============>..............] - ETA: 8simage58.jpg\n",
            "41/74 [===============>..............] - ETA: 8simage59.jpg\n",
            "42/74 [================>.............] - ETA: 8simage6.jpg\n",
            "43/74 [================>.............] - ETA: 7simage60.jpg\n",
            "44/74 [================>.............] - ETA: 7simage62.jpg\n",
            "45/74 [=================>............] - ETA: 7simage67.jpg\n",
            "46/74 [=================>............] - ETA: 7simage68.jpg\n",
            "47/74 [==================>...........] - ETA: 6simage69.jpg\n",
            "48/74 [==================>...........] - ETA: 6simage7.jpg\n",
            "49/74 [==================>...........] - ETA: 6simage70.jpg\n",
            "50/74 [===================>..........] - ETA: 6simage71.jpg\n",
            "51/74 [===================>..........] - ETA: 5simage73.jpg\n",
            "52/74 [====================>.........] - ETA: 5simage74.jpg\n",
            "53/74 [====================>.........] - ETA: 5simage75.jpg\n",
            "54/74 [====================>.........] - ETA: 5simage76.jpg\n",
            "55/74 [=====================>........] - ETA: 4simage77.jpg\n",
            "56/74 [=====================>........] - ETA: 4simage78.jpg\n",
            "57/74 [======================>.......] - ETA: 4simage8.jpg\n",
            "58/74 [======================>.......] - ETA: 4simage80.jpg\n",
            "59/74 [======================>.......] - ETA: 3simage82.jpg\n",
            "60/74 [=======================>......] - ETA: 3simage83.jpg\n",
            "61/74 [=======================>......] - ETA: 3simage84.jpg\n",
            "62/74 [========================>.....] - ETA: 3simage86.jpg\n",
            "63/74 [========================>.....] - ETA: 2simage87.jpg\n",
            "64/74 [========================>.....] - ETA: 2simage88.jpg\n",
            "65/74 [=========================>....] - ETA: 2simage9.jpg\n",
            "66/74 [=========================>....] - ETA: 2simage90.jpg\n",
            "67/74 [==========================>...] - ETA: 1simage91.jpg\n",
            "68/74 [==========================>...] - ETA: 1simage92.jpg\n",
            "69/74 [==========================>...] - ETA: 1simage93.jpg\n",
            "70/74 [===========================>..] - ETA: 1simage94.jpg\n",
            "71/74 [===========================>..] - ETA: 0simage96.jpg\n",
            "72/74 [============================>.] - ETA: 0simage97.jpg\n",
            "73/74 [============================>.] - ETA: 0simage99.jpg\n",
            "74/74 [==============================] - 19s 255ms/step\n"
          ]
        }
      ]
    },
    {
      "cell_type": "code",
      "metadata": {
        "id": "XyJe_Nc9x3Dy"
      },
      "source": [
        "#lung_masks=np.load('masks.npy')"
      ],
      "execution_count": null,
      "outputs": []
    },
    {
      "cell_type": "code",
      "metadata": {
        "id": "9pdVWd7u0J_t"
      },
      "source": [
        "# plt.imshow(1-lung_masks[0][:,:,3])\n",
        "# print(np.shape(results), np.shape(lung_masks))"
      ],
      "execution_count": null,
      "outputs": []
    },
    {
      "cell_type": "markdown",
      "metadata": {
        "id": "3e3_JbInsPLl"
      },
      "source": [
        "# Next, we need to mask each result and evaluate on test data only"
      ]
    },
    {
      "cell_type": "code",
      "metadata": {
        "id": "gkg1f18ovbSX"
      },
      "source": [
        "# def evalResult_with_masks(gth_path,npyfile,masks,num_test,target_size=img_size,flag_multi_class = False,num_class = 2):\n",
        "#     files=sorted(os.listdir(gth_path))\n",
        "#     #print(files)\n",
        "#     prec=0\n",
        "#     rec=0\n",
        "#     acc=0\n",
        "#     IoU=0\n",
        "#     f1_score=0\n",
        "#     for i,item in enumerate(npyfile):\n",
        "#       img = item[:,:,0]\n",
        "#       if i in num_test:\n",
        "#           gth = io.imread(os.path.join(gth_path,files[nums[i]]))\n",
        "#           mask=1-masks[i][:,:,3]\n",
        "#           mask=trans.resize(mask,target_size)\n",
        "#           gth = trans.resize(gth,target_size)\n",
        "#           img=img*mask\n",
        "#           if(np.sum(img)>0):\n",
        "#               img=np.array(((img - np.min(img))/np.ptp(img))>0.5).astype(float)\n",
        "#           if(np.sum(gth)>0):\n",
        "#               gth=np.array(((gth - np.min(gth))/np.ptp(gth))>0.5).astype(float)\n",
        "#               gth=(gth>0.5).astype(int)\n",
        "#           #print(np.shape(gth),np.shape(img))\n",
        "#           p,r,I,a,f=get_validation_metrics(gth[:,:,1],img)\n",
        "#       if (np.isnan(p)):\n",
        "#               p=1\n",
        "#       if (np.isnan(r)):\n",
        "#               r=1\n",
        "#       if (np.isnan(f)):\n",
        "#               f=1\n",
        "#       if (np.isnan(I)):\n",
        "#               I=1\n",
        "#       prec=prec+p\n",
        "#       rec=rec+r\n",
        "#       acc=acc+a\n",
        "#       IoU=IoU+I\n",
        "#       f1_score=f1_score+f\n",
        "#     print(\"Precision=\",prec/len(num_test), \"Recall=\",rec/len(num_test), \"Jac=\",IoU/len(num_test), \"acc=\",acc/len(num_test), \"Dice=\",f1_score/len(num_test))   "
      ],
      "execution_count": null,
      "outputs": []
    },
    {
      "cell_type": "code",
      "metadata": {
        "colab": {
          "base_uri": "https://localhost:8080/"
        },
        "id": "VLIWB_tegCSM",
        "outputId": "18b0344a-c716-4878-fab1-37ddeec8d21c"
      },
      "source": [
        "#Lets save the STARE predictions\n",
        "saveResult('./test/Images/','./pred/',results)"
      ],
      "execution_count": null,
      "outputs": [
        {
          "output_type": "stream",
          "name": "stderr",
          "text": [
            "/usr/local/lib/python3.7/dist-packages/ipykernel_launcher.py:21: UserWarning: ./pred/image60.jpg is a low contrast image\n",
            "WARNING:root:Lossy conversion from float32 to uint8. Range [0, 1]. Convert image to uint8 prior to saving to suppress this warning.\n",
            "/usr/local/lib/python3.7/dist-packages/ipykernel_launcher.py:21: UserWarning: ./pred/image84.jpg is a low contrast image\n",
            "WARNING:root:Lossy conversion from float32 to uint8. Range [0, 1]. Convert image to uint8 prior to saving to suppress this warning.\n",
            "/usr/local/lib/python3.7/dist-packages/ipykernel_launcher.py:21: UserWarning: ./pred/image77.jpg is a low contrast image\n",
            "WARNING:root:Lossy conversion from float32 to uint8. Range [0, 1]. Convert image to uint8 prior to saving to suppress this warning.\n",
            "/usr/local/lib/python3.7/dist-packages/ipykernel_launcher.py:21: UserWarning: ./pred/image22.jpg is a low contrast image\n",
            "WARNING:root:Lossy conversion from float32 to uint8. Range [0, 1]. Convert image to uint8 prior to saving to suppress this warning.\n"
          ]
        }
      ]
    },
    {
      "cell_type": "code",
      "metadata": {
        "colab": {
          "base_uri": "https://localhost:8080/"
        },
        "id": "oodPJvycR3pJ",
        "outputId": "6041bc49-013e-41ec-9429-f033428c3f5d"
      },
      "source": [
        "np.shape(results)"
      ],
      "execution_count": null,
      "outputs": [
        {
          "output_type": "execute_result",
          "data": {
            "text/plain": [
              "(4, 74, 256, 256, 1)"
            ]
          },
          "metadata": {},
          "execution_count": 30
        }
      ]
    },
    {
      "cell_type": "code",
      "metadata": {
        "colab": {
          "base_uri": "https://localhost:8080/",
          "height": 287
        },
        "id": "it5kbcDVgjK4",
        "outputId": "407af19e-a328-441f-b366-17ee0b468a7b"
      },
      "source": [
        "#Lets visualize the STARE predictions\n",
        "plt.imshow(results[3][50][:,:,0])\n",
        "print(np.max(results[0]),np.min(results[0]))"
      ],
      "execution_count": null,
      "outputs": [
        {
          "output_type": "stream",
          "name": "stdout",
          "text": [
            "1.0 0.0\n"
          ]
        },
        {
          "output_type": "display_data",
          "data": {
            "image/png": "[encoded data removed]",
            "text/plain": [
              "<Figure size 432x288 with 1 Axes>"
            ]
          },
          "metadata": {
            "needs_background": "light"
          }
        }
      ]
    },
    {
      "cell_type": "code",
      "metadata": {
        "id": "CI0wPmpuYxGA"
      },
      "source": [
        "def return_Unet_result_layers(files,img_path, results,num):\n",
        "  I=io.imread(os.path.join(img_path,files[num]), as_gray=True)\n",
        "  I = trans.resize(I,img_size)\n",
        "  pred0=(results[0][num][:,:,0]>0.5).astype(int)\n",
        "  pred1=(results[1][num][:,:,0]>0.5).astype(int)\n",
        "  pred2=(results[2][num][:,:,0]>0.5).astype(int)\n",
        "  pred3=(results[3][num][:,:,0]>0.5).astype(int)\n",
        "  f, axarr = plt.subplots(2,2)\n",
        "  axarr[0,0].imshow(np.true_divide((I+pred0),2))\n",
        "  axarr[0,1].imshow(np.true_divide((I+pred1),2))\n",
        "  axarr[1,0].imshow(np.true_divide((I+pred2),2))\n",
        "  axarr[1,1].imshow(np.true_divide((I+pred3),2))\n",
        "  return pred2,pred3\n"
      ],
      "execution_count": null,
      "outputs": []
    },
    {
      "cell_type": "code",
      "metadata": {
        "colab": {
          "base_uri": "https://localhost:8080/",
          "height": 269
        },
        "id": "nl9HxYtSZ-oO",
        "outputId": "d33a9990-9575-4df6-9ea3-7ce86219c623"
      },
      "source": [
        "pred2,pred3=return_Unet_result_layers(os.listdir('./test/Images/'),'./test/Images/',results,50)"
      ],
      "execution_count": null,
      "outputs": [
        {
          "output_type": "display_data",
          "data": {
            "image/png": "[encoded data removed]",
            "text/plain": [
              "<Figure size 432x288 with 4 Axes>"
            ]
          },
          "metadata": {
            "needs_background": "light"
          }
        }
      ]
    },
    {
      "cell_type": "code",
      "metadata": {
        "colab": {
          "base_uri": "https://localhost:8080/"
        },
        "id": "bnQqweE_bY_T",
        "outputId": "8b46d060-7613-4fee-b3c2-fab805752b4e"
      },
      "source": [
        "get_validation_metrics(pred3,pred2)"
      ],
      "execution_count": null,
      "outputs": [
        {
          "output_type": "execute_result",
          "data": {
            "text/plain": [
              "(0.9949909837707874,\n",
              " 0.9624031007751938,\n",
              " 0.9577627772420444,\n",
              " 0.9966583251953125,\n",
              " 0.9784257708600138)"
            ]
          },
          "metadata": {},
          "execution_count": 56
        }
      ]
    },
    {
      "cell_type": "code",
      "metadata": {
        "id": "BrNEtzUKAkKo"
      },
      "source": [
        "# Results of nested Level 1\n",
        "evalResult('./test/GT/',results)"
      ],
      "execution_count": null,
      "outputs": []
    },
    {
      "cell_type": "code",
      "metadata": {
        "colab": {
          "base_uri": "https://localhost:8080/"
        },
        "id": "9uujuzlq5-6G",
        "outputId": "f77a2581-d7d9-4909-9a8c-621780547f0a"
      },
      "source": [
        "evalResult('./test/GT/',results[1])"
      ],
      "execution_count": null,
      "outputs": [
        {
          "output_type": "stream",
          "name": "stderr",
          "text": [
            "/usr/local/lib/python3.7/dist-packages/ipykernel_launcher.py:21: RuntimeWarning: invalid value encountered in double_scalars\n"
          ]
        },
        {
          "output_type": "stream",
          "name": "stdout",
          "text": [
            "Precision= 0.6105049614405191 Recall= 0.5689253299974767 Jac= 0.39304915181065125 acc= 0.9606294374208193 Dice= 0.5320296027091609\n"
          ]
        }
      ]
    },
    {
      "cell_type": "code",
      "metadata": {
        "id": "2ilPrrZDavOq",
        "colab": {
          "base_uri": "https://localhost:8080/"
        },
        "outputId": "9b6361f9-44f0-4c7e-b8d1-9254fcda66a9"
      },
      "source": [
        "evalResult('./test/GT/',results[2])"
      ],
      "execution_count": null,
      "outputs": [
        {
          "output_type": "stream",
          "name": "stderr",
          "text": [
            "/usr/local/lib/python3.7/dist-packages/ipykernel_launcher.py:21: RuntimeWarning: invalid value encountered in double_scalars\n"
          ]
        },
        {
          "output_type": "stream",
          "name": "stdout",
          "text": [
            "Precision= 0.6049855212043566 Recall= 0.5961619835230133 Jac= 0.4073043671425724 acc= 0.961465784021326 Dice= 0.5439456853758406\n"
          ]
        }
      ]
    },
    {
      "cell_type": "code",
      "metadata": {
        "id": "3QV4rwyQawwY",
        "colab": {
          "base_uri": "https://localhost:8080/"
        },
        "outputId": "cccf3e70-c152-4ece-ce22-409ee7c88091"
      },
      "source": [
        "evalResult('./test/GT/',results[3])"
      ],
      "execution_count": null,
      "outputs": [
        {
          "output_type": "stream",
          "name": "stderr",
          "text": [
            "/usr/local/lib/python3.7/dist-packages/ipykernel_launcher.py:21: RuntimeWarning: invalid value encountered in double_scalars\n"
          ]
        },
        {
          "output_type": "stream",
          "name": "stdout",
          "text": [
            "Precision= 0.6004719630096285 Recall= 0.6087547817486817 Jac= 0.4121624053781381 acc= 0.9613311355178421 Dice= 0.5486805036456833\n"
          ]
        }
      ]
    },
    {
      "cell_type": "code",
      "metadata": {
        "id": "uz4xlfW3axqT",
        "colab": {
          "base_uri": "https://localhost:8080/"
        },
        "outputId": "a99e033e-6189-4808-a385-dd0b9f17daec"
      },
      "source": [
        "evalResult('./test/GT/',results[0])"
      ],
      "execution_count": null,
      "outputs": [
        {
          "output_type": "stream",
          "name": "stderr",
          "text": [
            "/usr/local/lib/python3.7/dist-packages/ipykernel_launcher.py:21: RuntimeWarning: invalid value encountered in double_scalars\n"
          ]
        },
        {
          "output_type": "stream",
          "name": "stdout",
          "text": [
            "Precision= 0.5604199930025946 Recall= 0.4970635820504329 Jac= 0.31461158161745983 acc= 0.9552830876530828 Dice= 0.4402049169307295\n"
          ]
        }
      ]
    },
    {
      "cell_type": "markdown",
      "metadata": {
        "id": "SgSx9oTDgIXV"
      },
      "source": [
        "# Find best 2 and worst 2 images and generate plots (red:actual, blue:image, green:predicted)"
      ]
    },
    {
      "cell_type": "code",
      "metadata": {
        "id": "x_yRS2Uyep6i"
      },
      "source": [
        "def print_top2bottom(gth_path,img_path, npyfile,target_size=img_size,flag_multi_class = False,num_class = 2):\n",
        "    files=sorted(os.listdir(gth_path))\n",
        "    #print(files)\n",
        "    \n",
        "    for i,item in enumerate(npyfile):\n",
        "        print(i)\n",
        "        img = item[:,:,0]\n",
        "        gth = io.imread(os.path.join(gth_path,files[i]))\n",
        "        gth = trans.resize(gth,target_size)\n",
        "        fin_image=gth\n",
        "        I=   io.imread(os.path.join(img_path,files[i]), as_gray=True)\n",
        "        I = trans.resize(I,img_size)\n",
        "        #print(np.shape(gth))\n",
        "        if(np.sum(img)>0):\n",
        "            img=np.array(((img - np.min(img))/np.ptp(img))>0.1).astype(float)\n",
        "        if(np.sum(gth)>0):\n",
        "            gth=np.array(((gth - np.min(gth))/np.ptp(gth))>0.1).astype(float)\n",
        "            gth=(gth>0.9).astype(int)\n",
        "        #print(np.shape(gth),np.shape(img))\n",
        "        p,r,j,a,f=get_validation_metrics(gth[:,:,1],img)\n",
        "        \n",
        "        if (j>0.7):\n",
        "          print(p,r,j,a,f)\n",
        "          fin_image[:,:,1]=I\n",
        "          fin_image[:,:,0]=gth[:,:,1]\n",
        "          fin_image[:,:,2]=img\n",
        "          plt.imshow(fin_image)\n",
        "          break\n"
      ],
      "execution_count": null,
      "outputs": []
    },
    {
      "cell_type": "code",
      "metadata": {
        "colab": {
          "base_uri": "https://localhost:8080/",
          "height": 607
        },
        "id": "4Btu7p0whj0u",
        "outputId": "6994de26-9b0d-41f9-a58b-d112815f0baf"
      },
      "source": [
        "print_top2bottom('./test/GT/','./test/Images/', results[3])"
      ],
      "execution_count": null,
      "outputs": [
        {
          "output_type": "stream",
          "name": "stdout",
          "text": [
            "0\n",
            "1\n",
            "2\n",
            "3\n",
            "4\n",
            "5\n",
            "6\n"
          ]
        },
        {
          "output_type": "stream",
          "name": "stderr",
          "text": [
            "/usr/local/lib/python3.7/dist-packages/ipykernel_launcher.py:21: RuntimeWarning: invalid value encountered in double_scalars\n"
          ]
        },
        {
          "output_type": "stream",
          "name": "stdout",
          "text": [
            "7\n",
            "8\n",
            "9\n",
            "10\n",
            "11\n",
            "12\n",
            "13\n",
            "14\n",
            "15\n",
            "16\n",
            "0.8926444551746339 0.8693471275178305 0.7870574043851557 0.9542083740234375 0.8808417708953742\n"
          ]
        },
        {
          "output_type": "display_data",
          "data": {
            "image/png": "[encoded data removed]",
            "text/plain": [
              "<Figure size 432x288 with 1 Axes>"
            ]
          },
          "metadata": {
            "needs_background": "light"
          }
        }
      ]
    },
    {
      "cell_type": "code",
      "metadata": {
        "id": "YLDy4WInh43j"
      },
      "source": [
        ""
      ],
      "execution_count": null,
      "outputs": []
    }
  ]
}