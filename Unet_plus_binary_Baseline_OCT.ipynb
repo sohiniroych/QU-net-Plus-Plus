{
  "nbformat": 4,
  "nbformat_minor": 0,
  "metadata": {
    "accelerator": "GPU",
    "colab": {
      "name": "Unet_plus_binary-Baseline_OCT.ipynb",
      "provenance": [],
      "collapsed_sections": [],
      "include_colab_link": true
    },
    "kernelspec": {
      "display_name": "Python 3",
      "language": "python",
      "name": "python3"
    },
    "language_info": {
      "codemirror_mode": {
        "name": "ipython",
        "version": 3
      },
      "file_extension": ".py",
      "mimetype": "text/x-python",
      "name": "python",
      "nbconvert_exporter": "python",
      "pygments_lexer": "ipython3",
      "version": "3.8.5"
    }
  },
  "cells": [
    {
      "cell_type": "markdown",
      "metadata": {
        "id": "view-in-github",
        "colab_type": "text"
      },
      "source": [
        "<a href=\"https://colab.research.google.com/github/sohiniroych/QU-net-Plus-Plus/blob/main/Unet_plus_binary_Baseline_OCT.ipynb\" target=\"_parent\"><img src=\"https://colab.research.google.com/assets/colab-badge.svg\" alt=\"Open In Colab\"/></a>"
      ]
    },
    {
      "cell_type": "markdown",
      "metadata": {
        "id": "n7yLKm_-kuii"
      },
      "source": [
        "# This code implements segmentation of of cysts from OCT images using the variants of U-net, wUnet and Unet++\n",
        "\n",
        "## This code implements multi-class classification\n",
        "## This model is adapted from the original codebase in https://github.com/HZCTony/U-net-with-multiple-classification"
      ]
    },
    {
      "cell_type": "code",
      "metadata": {
        "colab": {
          "base_uri": "https://localhost:8080/"
        },
        "id": "KnKLnN-QDlzX",
        "outputId": "b35ff7c6-ab90-446d-c63e-c89f3defd67d"
      },
      "source": [
        "# First lets connect the Gdrive that contains the data\n",
        "from google.colab import drive\n",
        "drive.mount('/content/drive')"
      ],
      "execution_count": null,
      "outputs": [
        {
          "output_type": "stream",
          "name": "stdout",
          "text": [
            "Drive already mounted at /content/drive; to attempt to forcibly remount, call drive.mount(\"/content/drive\", force_remount=True).\n"
          ]
        }
      ]
    },
    {
      "cell_type": "code",
      "metadata": {
        "colab": {
          "base_uri": "https://localhost:8080/"
        },
        "id": "c7xAEMCtlApo",
        "outputId": "00c4b0ff-5d36-4736-8837-692b54dacf5e"
      },
      "source": [
        "import os\n",
        "# The path below should point to the directory containing this notebook and the associated utility files\n",
        "# Change it if necessary\n",
        "os.chdir('/content/drive/MyDrive/Colab Notebooks/ISBI_paper/code/')\n",
        "!ls\n",
        "PATH='/content/drive/My Drive/Colab Notebooks/ISBI_paper/Data_Stacks/cirrus_2/test/'"
      ],
      "execution_count": null,
      "outputs": [
        {
          "output_type": "stream",
          "name": "stdout",
          "text": [
            "Data_pipeline_Medical_data.ipynb  Unet_plus_binary-Baseline_Lung_med.ipynb\n",
            "model_new.py\t\t\t  Unet_plus_binary-Baseline_Lung_rad.ipynb\n",
            "__pycache__\t\t\t  Unet_plus_binary-Baseline_OCT.ipynb\n",
            "train\t\t\t\t  Unet_plus_binary.ipynb\n"
          ]
        }
      ]
    },
    {
      "cell_type": "markdown",
      "metadata": {
        "id": "A6NxrV-pDjrU"
      },
      "source": [
        "# First, we create a directry of randomly sampled training and test images"
      ]
    },
    {
      "cell_type": "code",
      "metadata": {
        "id": "XmWkVKPMDjrV"
      },
      "source": [
        "# if not os.path.exists(PATH+'train'):\n",
        "#     os.makedirs(PATH+'train')\n",
        "# if not os.path.exists(PATH+'train/Image/'):\n",
        "#     os.makedirs(PATH+'train/Image/')\n",
        "# if not os.path.exists(PATH+'train/GT/'):\n",
        "#     os.makedirs(PATH+'train/GT/')\n",
        "    \n",
        "# if not os.path.exists(PATH+'test'):\n",
        "#     os.makedirs(PATH+'test')    \n",
        "# if not os.path.exists(PATH+'test/Image/'):\n",
        "#     os.makedirs(PATH+'test/Image/')\n",
        "# if not os.path.exists(PATH+'test/GT/'):\n",
        "#     os.makedirs(PATH+'test/GT/')\n",
        "    \n",
        "# if not os.path.exists(PATH+'pred'):\n",
        "#    os.makedirs(PATH+'pred')  \n"
      ],
      "execution_count": null,
      "outputs": []
    },
    {
      "cell_type": "markdown",
      "metadata": {
        "id": "gMTOKe56DjrW"
      },
      "source": [
        "\n",
        "# Randomly split the data in \"Images\" into 25/75"
      ]
    },
    {
      "cell_type": "code",
      "metadata": {
        "id": "tIUiGBJiDjrX",
        "colab": {
          "base_uri": "https://localhost:8080/"
        },
        "outputId": "c3c04d36-a3e9-42b8-9b74-4e7d6340ccf6"
      },
      "source": [
        "files=(os.listdir(PATH+'/Image/'))\n",
        "print(len(files))"
      ],
      "execution_count": null,
      "outputs": [
        {
          "output_type": "stream",
          "name": "stdout",
          "text": [
            "25\n"
          ]
        }
      ]
    },
    {
      "cell_type": "code",
      "metadata": {
        "id": "5YT1RoUlDjra"
      },
      "source": [
        "# import numpy as np \n",
        "# nums=np.random.permutation(len(files))\n",
        "# n=int(len(files)/4)\n",
        "# print(n)"
      ],
      "execution_count": null,
      "outputs": []
    },
    {
      "cell_type": "code",
      "metadata": {
        "id": "a9xIcTFeDjrb"
      },
      "source": [
        "# from shutil import copyfile\n",
        "\n",
        "# #This is train data\n",
        "# for i in range(n):\n",
        "#     copyfile(PATH+'Image/'+files[nums[i]],PATH+'train/Image/'+files[nums[i]])\n",
        "#     copyfile(PATH+'GT/'+files[nums[i]],PATH+'train/GT/'+files[nums[i]])\n",
        "    "
      ],
      "execution_count": null,
      "outputs": []
    },
    {
      "cell_type": "code",
      "metadata": {
        "id": "J9Tw28dtDjrc"
      },
      "source": [
        "# # This is test data\n",
        "# for i in range(n+1,len(files)):\n",
        "#     copyfile(PATH+'Image/'+files[nums[i]],PATH+'test/Image/'+files[nums[i]])\n",
        "#     copyfile(PATH+'/GT/'+files[nums[i]],PATH+'test/GT/'+files[nums[i]])"
      ],
      "execution_count": null,
      "outputs": []
    },
    {
      "cell_type": "code",
      "metadata": {
        "id": "AB5PBTZmr-gA"
      },
      "source": [
        "# os.getcwd()"
      ],
      "execution_count": null,
      "outputs": []
    },
    {
      "cell_type": "markdown",
      "metadata": {
        "id": "Nb3UtvnRDjre"
      },
      "source": [
        "# Train and Test data are now generated. Now we need to train and test"
      ]
    },
    {
      "cell_type": "markdown",
      "metadata": {
        "id": "hsjiInH8kuiq"
      },
      "source": [
        "# A. Lets start by stepwise defining all libraries and functions needed to generate the model and pre-process the data"
      ]
    },
    {
      "cell_type": "code",
      "metadata": {
        "id": "CKpTzQkOkuiq"
      },
      "source": [
        "#Step 1: Load libraries for the U-net Model\n",
        "\n",
        "import skimage.io as io\n",
        "import skimage.transform as trans\n",
        "import numpy as np\n",
        "from tensorflow.keras.models import *\n",
        "from tensorflow.keras.layers import *\n",
        "from tensorflow.keras.optimizers import *\n",
        "from tensorflow.keras.callbacks import ModelCheckpoint, LearningRateScheduler\n",
        "from tensorflow.keras import backend as keras\n",
        "#from tensorflow import keras\n",
        "import tensorflow as tf"
      ],
      "execution_count": null,
      "outputs": []
    },
    {
      "cell_type": "code",
      "metadata": {
        "id": "1AzDVayVkuiq"
      },
      "source": [
        "#Step 2: Import the U-net model\n",
        "from model_new import *\n",
        "img_size=(256,256)"
      ],
      "execution_count": null,
      "outputs": []
    },
    {
      "cell_type": "code",
      "metadata": {
        "id": "cbKhpLx5kuir"
      },
      "source": [
        "n_class=2\n"
      ],
      "execution_count": null,
      "outputs": []
    },
    {
      "cell_type": "code",
      "metadata": {
        "id": "Fncvxfbywbx7"
      },
      "source": [
        "#mod = #U_Net(img_size[0],img_size[1],1)\n",
        "mod = Nest_Net(img_size[0],img_size[1],1,1,deep_supervision=True)"
      ],
      "execution_count": null,
      "outputs": []
    },
    {
      "cell_type": "code",
      "metadata": {
        "colab": {
          "base_uri": "https://localhost:8080/"
        },
        "id": "eAjLtxKxwwYF",
        "outputId": "ad56c869-f035-49de-db72-6e366417c961"
      },
      "source": [
        "mod.summary()"
      ],
      "execution_count": null,
      "outputs": [
        {
          "output_type": "stream",
          "name": "stdout",
          "text": [
            "Model: \"model\"\n",
            "__________________________________________________________________________________________________\n",
            "Layer (type)                    Output Shape         Param #     Connected to                     \n",
            "==================================================================================================\n",
            "main_input (InputLayer)         [(None, 256, 256, 1) 0                                            \n",
            "__________________________________________________________________________________________________\n",
            "conv11_1 (Conv2D)               (None, 256, 256, 32) 320         main_input[0][0]                 \n",
            "__________________________________________________________________________________________________\n",
            "batch_normalization (BatchNorma (None, 256, 256, 32) 128         conv11_1[0][0]                   \n",
            "__________________________________________________________________________________________________\n",
            "conv11_2 (Conv2D)               (None, 256, 256, 32) 9248        batch_normalization[0][0]        \n",
            "__________________________________________________________________________________________________\n",
            "batch_normalization_1 (BatchNor (None, 256, 256, 32) 128         conv11_2[0][0]                   \n",
            "__________________________________________________________________________________________________\n",
            "pool1 (MaxPooling2D)            (None, 128, 128, 32) 0           batch_normalization_1[0][0]      \n",
            "__________________________________________________________________________________________________\n",
            "conv21_1 (Conv2D)               (None, 128, 128, 64) 18496       pool1[0][0]                      \n",
            "__________________________________________________________________________________________________\n",
            "batch_normalization_2 (BatchNor (None, 128, 128, 64) 256         conv21_1[0][0]                   \n",
            "__________________________________________________________________________________________________\n",
            "conv21_2 (Conv2D)               (None, 128, 128, 64) 36928       batch_normalization_2[0][0]      \n",
            "__________________________________________________________________________________________________\n",
            "batch_normalization_3 (BatchNor (None, 128, 128, 64) 256         conv21_2[0][0]                   \n",
            "__________________________________________________________________________________________________\n",
            "pool2 (MaxPooling2D)            (None, 64, 64, 64)   0           batch_normalization_3[0][0]      \n",
            "__________________________________________________________________________________________________\n",
            "conv31_1 (Conv2D)               (None, 64, 64, 128)  73856       pool2[0][0]                      \n",
            "__________________________________________________________________________________________________\n",
            "batch_normalization_4 (BatchNor (None, 64, 64, 128)  512         conv31_1[0][0]                   \n",
            "__________________________________________________________________________________________________\n",
            "conv31_2 (Conv2D)               (None, 64, 64, 128)  147584      batch_normalization_4[0][0]      \n",
            "__________________________________________________________________________________________________\n",
            "batch_normalization_5 (BatchNor (None, 64, 64, 128)  512         conv31_2[0][0]                   \n",
            "__________________________________________________________________________________________________\n",
            "pool3 (MaxPooling2D)            (None, 32, 32, 128)  0           batch_normalization_5[0][0]      \n",
            "__________________________________________________________________________________________________\n",
            "conv41_1 (Conv2D)               (None, 32, 32, 256)  295168      pool3[0][0]                      \n",
            "__________________________________________________________________________________________________\n",
            "batch_normalization_6 (BatchNor (None, 32, 32, 256)  1024        conv41_1[0][0]                   \n",
            "__________________________________________________________________________________________________\n",
            "conv41_2 (Conv2D)               (None, 32, 32, 256)  590080      batch_normalization_6[0][0]      \n",
            "__________________________________________________________________________________________________\n",
            "batch_normalization_7 (BatchNor (None, 32, 32, 256)  1024        conv41_2[0][0]                   \n",
            "__________________________________________________________________________________________________\n",
            "dropout (Dropout)               (None, 32, 32, 256)  0           batch_normalization_7[0][0]      \n",
            "__________________________________________________________________________________________________\n",
            "pool4 (MaxPooling2D)            (None, 16, 16, 256)  0           dropout[0][0]                    \n",
            "__________________________________________________________________________________________________\n",
            "conv51_1 (Conv2D)               (None, 16, 16, 512)  1180160     pool4[0][0]                      \n",
            "__________________________________________________________________________________________________\n",
            "conv51_2 (Conv2D)               (None, 16, 16, 512)  2359808     conv51_1[0][0]                   \n",
            "__________________________________________________________________________________________________\n",
            "dropout_1 (Dropout)             (None, 16, 16, 512)  0           conv51_2[0][0]                   \n",
            "__________________________________________________________________________________________________\n",
            "up42 (Conv2DTranspose)          (None, 32, 32, 256)  524544      dropout_1[0][0]                  \n",
            "__________________________________________________________________________________________________\n",
            "up32 (Conv2DTranspose)          (None, 64, 64, 128)  131200      batch_normalization_7[0][0]      \n",
            "__________________________________________________________________________________________________\n",
            "merge42 (Concatenate)           (None, 32, 32, 512)  0           up42[0][0]                       \n",
            "                                                                 batch_normalization_7[0][0]      \n",
            "__________________________________________________________________________________________________\n",
            "up22 (Conv2DTranspose)          (None, 128, 128, 64) 32832       batch_normalization_5[0][0]      \n",
            "__________________________________________________________________________________________________\n",
            "merge32 (Concatenate)           (None, 64, 64, 256)  0           up32[0][0]                       \n",
            "                                                                 batch_normalization_5[0][0]      \n",
            "__________________________________________________________________________________________________\n",
            "conv42_1 (Conv2D)               (None, 32, 32, 256)  1179904     merge42[0][0]                    \n",
            "__________________________________________________________________________________________________\n",
            "up12 (Conv2DTranspose)          (None, 256, 256, 32) 8224        batch_normalization_3[0][0]      \n",
            "__________________________________________________________________________________________________\n",
            "merge22 (Concatenate)           (None, 128, 128, 128 0           up22[0][0]                       \n",
            "                                                                 batch_normalization_3[0][0]      \n",
            "__________________________________________________________________________________________________\n",
            "conv32_1 (Conv2D)               (None, 64, 64, 128)  295040      merge32[0][0]                    \n",
            "__________________________________________________________________________________________________\n",
            "conv42_2 (Conv2D)               (None, 32, 32, 256)  590080      conv42_1[0][0]                   \n",
            "__________________________________________________________________________________________________\n",
            "merge12 (Concatenate)           (None, 256, 256, 64) 0           up12[0][0]                       \n",
            "                                                                 batch_normalization_1[0][0]      \n",
            "__________________________________________________________________________________________________\n",
            "conv22_1 (Conv2D)               (None, 128, 128, 64) 73792       merge22[0][0]                    \n",
            "__________________________________________________________________________________________________\n",
            "conv32_2 (Conv2D)               (None, 64, 64, 128)  147584      conv32_1[0][0]                   \n",
            "__________________________________________________________________________________________________\n",
            "up33 (Conv2DTranspose)          (None, 64, 64, 128)  131200      conv42_2[0][0]                   \n",
            "__________________________________________________________________________________________________\n",
            "conv12_1 (Conv2D)               (None, 256, 256, 32) 18464       merge12[0][0]                    \n",
            "__________________________________________________________________________________________________\n",
            "conv22_2 (Conv2D)               (None, 128, 128, 64) 36928       conv22_1[0][0]                   \n",
            "__________________________________________________________________________________________________\n",
            "up23 (Conv2DTranspose)          (None, 128, 128, 64) 32832       conv32_2[0][0]                   \n",
            "__________________________________________________________________________________________________\n",
            "merge33 (Concatenate)           (None, 64, 64, 384)  0           up33[0][0]                       \n",
            "                                                                 batch_normalization_5[0][0]      \n",
            "                                                                 conv32_2[0][0]                   \n",
            "__________________________________________________________________________________________________\n",
            "conv12_2 (Conv2D)               (None, 256, 256, 32) 9248        conv12_1[0][0]                   \n",
            "__________________________________________________________________________________________________\n",
            "up13 (Conv2DTranspose)          (None, 256, 256, 32) 8224        conv22_2[0][0]                   \n",
            "__________________________________________________________________________________________________\n",
            "merge23 (Concatenate)           (None, 128, 128, 192 0           up23[0][0]                       \n",
            "                                                                 batch_normalization_3[0][0]      \n",
            "                                                                 conv22_2[0][0]                   \n",
            "__________________________________________________________________________________________________\n",
            "conv33_1 (Conv2D)               (None, 64, 64, 128)  442496      merge33[0][0]                    \n",
            "__________________________________________________________________________________________________\n",
            "merge13 (Concatenate)           (None, 256, 256, 96) 0           up13[0][0]                       \n",
            "                                                                 batch_normalization_1[0][0]      \n",
            "                                                                 conv12_2[0][0]                   \n",
            "__________________________________________________________________________________________________\n",
            "conv23_1 (Conv2D)               (None, 128, 128, 64) 110656      merge23[0][0]                    \n",
            "__________________________________________________________________________________________________\n",
            "conv33_2 (Conv2D)               (None, 64, 64, 128)  147584      conv33_1[0][0]                   \n",
            "__________________________________________________________________________________________________\n",
            "conv13_1 (Conv2D)               (None, 256, 256, 32) 27680       merge13[0][0]                    \n",
            "__________________________________________________________________________________________________\n",
            "conv23_2 (Conv2D)               (None, 128, 128, 64) 36928       conv23_1[0][0]                   \n",
            "__________________________________________________________________________________________________\n",
            "up24 (Conv2DTranspose)          (None, 128, 128, 64) 32832       conv33_2[0][0]                   \n",
            "__________________________________________________________________________________________________\n",
            "conv13_2 (Conv2D)               (None, 256, 256, 32) 9248        conv13_1[0][0]                   \n",
            "__________________________________________________________________________________________________\n",
            "up14 (Conv2DTranspose)          (None, 256, 256, 32) 8224        conv23_2[0][0]                   \n",
            "__________________________________________________________________________________________________\n",
            "merge24 (Concatenate)           (None, 128, 128, 256 0           up24[0][0]                       \n",
            "                                                                 batch_normalization_3[0][0]      \n",
            "                                                                 conv22_2[0][0]                   \n",
            "                                                                 conv23_2[0][0]                   \n",
            "__________________________________________________________________________________________________\n",
            "merge14 (Concatenate)           (None, 256, 256, 128 0           up14[0][0]                       \n",
            "                                                                 batch_normalization_1[0][0]      \n",
            "                                                                 conv12_2[0][0]                   \n",
            "                                                                 conv13_2[0][0]                   \n",
            "__________________________________________________________________________________________________\n",
            "conv24_1 (Conv2D)               (None, 128, 128, 64) 147520      merge24[0][0]                    \n",
            "__________________________________________________________________________________________________\n",
            "conv14_1 (Conv2D)               (None, 256, 256, 32) 36896       merge14[0][0]                    \n",
            "__________________________________________________________________________________________________\n",
            "conv24_2 (Conv2D)               (None, 128, 128, 64) 36928       conv24_1[0][0]                   \n",
            "__________________________________________________________________________________________________\n",
            "conv14_2 (Conv2D)               (None, 256, 256, 32) 9248        conv14_1[0][0]                   \n",
            "__________________________________________________________________________________________________\n",
            "up15 (Conv2DTranspose)          (None, 256, 256, 32) 8224        conv24_2[0][0]                   \n",
            "__________________________________________________________________________________________________\n",
            "merge15 (Concatenate)           (None, 256, 256, 160 0           up15[0][0]                       \n",
            "                                                                 batch_normalization_1[0][0]      \n",
            "                                                                 conv12_2[0][0]                   \n",
            "                                                                 conv13_2[0][0]                   \n",
            "                                                                 conv14_2[0][0]                   \n",
            "__________________________________________________________________________________________________\n",
            "conv15_1 (Conv2D)               (None, 256, 256, 32) 46112       merge15[0][0]                    \n",
            "__________________________________________________________________________________________________\n",
            "conv15_2 (Conv2D)               (None, 256, 256, 32) 9248        conv15_1[0][0]                   \n",
            "__________________________________________________________________________________________________\n",
            "output_1 (Conv2D)               (None, 256, 256, 1)  33          conv12_2[0][0]                   \n",
            "__________________________________________________________________________________________________\n",
            "output_2 (Conv2D)               (None, 256, 256, 1)  33          conv13_2[0][0]                   \n",
            "__________________________________________________________________________________________________\n",
            "output_3 (Conv2D)               (None, 256, 256, 1)  33          conv14_2[0][0]                   \n",
            "__________________________________________________________________________________________________\n",
            "output_4 (Conv2D)               (None, 256, 256, 1)  33          conv15_2[0][0]                   \n",
            "==================================================================================================\n",
            "Total params: 9,045,540\n",
            "Trainable params: 9,043,620\n",
            "Non-trainable params: 1,920\n",
            "__________________________________________________________________________________________________\n"
          ]
        }
      ]
    },
    {
      "cell_type": "code",
      "metadata": {
        "id": "apyaqeIDkuir"
      },
      "source": [
        "#Step 3:Define functions for pre-processing data\n",
        "from tensorflow.keras.preprocessing.image import ImageDataGenerator\n",
        "import skimage.io as io\n",
        "import skimage.transform as trans\n",
        "import matplotlib.pyplot as plt\n",
        "import scipy.misc as sc\n",
        "\n",
        "\n",
        "def adjustData(img,mask,flag_multi_class,n_class):\n",
        "    \n",
        "    if(flag_multi_class):\n",
        "        img /= 255\n",
        "        mask = mask[:,:,:,0] if(len(mask.shape) == 4) else mask[:,:,0]\n",
        "        new_mask = np.zeros(mask.shape + (n_class,))\n",
        "        for i in range(n_class):\n",
        "            \n",
        "            new_mask[mask == i,i] = 1\n",
        "        new_mask = np.reshape(new_mask,(new_mask.shape[0],new_mask.shape[1]*new_mask.shape[2],new_mask.shape[3])) if flag_multi_class else np.reshape(new_mask,(new_mask.shape[0]*new_mask.shape[1],new_mask.shape[2]))\n",
        "        mask = new_mask\n",
        "    elif(np.max(img)>1):\n",
        "        img = img / 255\n",
        "        mask = mask /255\n",
        "    mask[mask > 0.5] = 1\n",
        "    mask[mask <=0.5] = 0\n",
        "        #print(np.shape(mask),np.shape(img))\n",
        "    return (img,mask)\n",
        "\n",
        "\n",
        "\n",
        "def trainGenerator(batch_size,train_path,image_folder,mask_folder,aug_dict,image_color_mode = \"grayscale\",\n",
        "                    mask_color_mode = \"grayscale\",image_save_prefix  = \"image\",mask_save_prefix  = \"mask\",\n",
        "                    flag_multi_class = False,n_class = n_class,save_to_dir = None,target_size = img_size,seed = 1):\n",
        "    '''\n",
        "    can generate image and mask at the same time\n",
        "    use the same seed for image_datagen and mask_datagen to ensure the transformation for image and mask is the same\n",
        "    if you want to visualize the results of generator, set save_to_dir = \"your path\"\n",
        "    '''\n",
        "    image_datagen = ImageDataGenerator(**aug_dict)\n",
        "    mask_datagen = ImageDataGenerator(**aug_dict)\n",
        "    image_generator = image_datagen.flow_from_directory(\n",
        "        #'./',\n",
        "        train_path,\n",
        "        classes = [image_folder],\n",
        "        color_mode = image_color_mode,\n",
        "        target_size = target_size,\n",
        "        batch_size = batch_size,\n",
        "        save_to_dir = save_to_dir,\n",
        "        save_prefix  = image_save_prefix,\n",
        "        class_mode=None,\n",
        "        seed = seed)\n",
        "    mask_generator = mask_datagen.flow_from_directory(\n",
        "        train_path,\n",
        "        classes = [mask_folder],\n",
        "        color_mode = mask_color_mode,\n",
        "        target_size = target_size,\n",
        "        batch_size = batch_size,\n",
        "        save_to_dir = save_to_dir,\n",
        "        save_prefix  = mask_save_prefix,\n",
        "        class_mode=None,\n",
        "        seed = seed)\n",
        "    train_generator = zip(image_generator, mask_generator)\n",
        "    for (img,mask) in train_generator:\n",
        "        img,mask = adjustData(img,mask,flag_multi_class,n_class)\n",
        "        yield (img,mask)\n",
        "\n",
        "\n",
        "def testGenerator(test_path,target_size = img_size,flag_multi_class = True,as_gray = True):\n",
        "    files=sorted(os.listdir(test_path))\n",
        "    num_image=len(files)\n",
        "    for i in range(num_image):\n",
        "        img = io.imread(os.path.join(test_path,files[i]),as_gray = as_gray)\n",
        "        print(files[i])\n",
        "        img = trans.resize(img,target_size)\n",
        "        img = np.reshape(img,img.shape+(1,)) if (not flag_multi_class) else img\n",
        "        img = np.reshape(img,(1,)+img.shape)\n",
        "        #print(np.max(img))\n",
        "        yield img"
      ],
      "execution_count": null,
      "outputs": []
    },
    {
      "cell_type": "code",
      "metadata": {
        "id": "6_R2XCFukuis"
      },
      "source": [
        "#Step 4: Define function to save the test images\n",
        "def labelVisualize(num_class,color_dict,img):\n",
        "    img = img[:,:,0] if len(img.shape) == 3 else img\n",
        "    img_out = np.zeros(img.shape + (3,))\n",
        "    for i in range(num_class):\n",
        "        img_out[img == i] = color_dict[i]\n",
        "      \n",
        "    return img_out\n",
        "\n",
        "\n",
        "def saveResult(img_path,save_path,npyfile,flag_multi_class = False,num_class = 2):\n",
        "    files=os.listdir(img_path)\n",
        "    #print(len(img_path))\n",
        "    #print(len(npyfile))\n",
        "    \n",
        "    for i,item in enumerate(npyfile):\n",
        "        img = labelVisualize(num_class,COLOR_DICT,item) if flag_multi_class else item[:,:,0]\n",
        "        #img1=np.array(((img - np.min(img))/np.ptp(img))>0.6).astype(float)\n",
        "        img[img>0.5]=1\n",
        "        img[img<=0.5]=0\n",
        "        io.imsave(os.path.join(save_path, files[i]),img)\n",
        "        \n",
        "        \n",
        "        \n",
        "def SaveResultwImage(img_path,save_path,npyfile,target_size=img_size,flag_multi_class = False,num_class = 2):\n",
        "    files=os.listdir(img_path)\n",
        "    #print(len(img_path))\n",
        "    #print(len(npyfile))\n",
        "    \n",
        "    for i,item in enumerate(npyfile):\n",
        "        img = labelVisualize(num_class,COLOR_DICT,item) if flag_multi_class else item[:,:,0]\n",
        "        #img1=np.array(((img - np.min(img))/np.ptp(img))>0.6).astype(float)\n",
        "        img[img>0.2]=1\n",
        "        img[img<=0.2]=0\n",
        "        \n",
        "        I = io.imread(os.path.join(img_path,files[i]), as_gray=True)\n",
        "        I = trans.resize(I,target_size)\n",
        "        #dst = cv2.addWeighted(img, 0.5, I, 0.5, 0.0)\n",
        "        img=np.true_divide((I+img),2)\n",
        "        io.imsave(os.path.join(save_path, files[i]),img)  "
      ],
      "execution_count": null,
      "outputs": []
    },
    {
      "cell_type": "code",
      "metadata": {
        "id": "OpRBa_aWkuis"
      },
      "source": [
        "#Step 5: Define functions to evaluate the output\n",
        "import sklearn.metrics as sm\n",
        "\n",
        "def get_confusion_matrix_elements(groundtruth_list, predicted_list):\n",
        "    \"\"\"returns confusion matrix elements i.e TN, FP, FN, TP as floats\n",
        "\tSee example code for helper function definitions\n",
        "    \"\"\"\n",
        "    tn, fp, fn, tp = sm.confusion_matrix(groundtruth_list, predicted_list,labels=[0,1]).ravel()\n",
        "    tn, fp, fn, tp = np.float64(tn), np.float64(fp), np.float64(fn), np.float64(tp)\n",
        "\n",
        "    return tn, fp, fn, tp\n",
        "\n",
        "def get_prec_rec_IoU_accuracy(groundtruth_list, predicted_list):\n",
        "    \"\"\"returns precision, recall, IoU and accuracy metrics\n",
        "\t\"\"\"\n",
        "    tn, fp, fn, tp = get_confusion_matrix_elements(groundtruth_list, predicted_list)\n",
        "    \n",
        "    total = tp + fp + fn + tn\n",
        "    accuracy = (tp + tn) / total\n",
        "    prec=tp/(tp+fp)\n",
        "    rec=tp/(tp+fn)\n",
        "    IoU=tp/(tp+fp+fn)\n",
        "    \n",
        "    return prec,rec,IoU,accuracy\n",
        "\n",
        "def get_f1_score(groundtruth_list, predicted_list):\n",
        "    \"\"\"Return f1 score covering edge cases\"\"\"\n",
        "\n",
        "    tn, fp, fn, tp = get_confusion_matrix_elements(groundtruth_list, predicted_list)\n",
        "    \n",
        "    f1_score = (2 * tp) / ((2 * tp) + fp + fn)\n",
        "\n",
        "    return f1_score\n",
        "\n",
        "def get_validation_metrics(groundtruth,predicted):\n",
        "    \"\"\"Return all output metrics. Input is binary images\"\"\"\n",
        "   \n",
        "    u,v=np.shape(groundtruth)\n",
        "    groundtruth_list=np.reshape(groundtruth,(u*v,))\n",
        "    predicted_list=np.reshape(predicted,(u*v,))\n",
        "    prec,rec,IoU,acc=get_prec_rec_IoU_accuracy(groundtruth_list, predicted_list)\n",
        "    f1_score=get_f1_score(groundtruth_list, predicted_list)\n",
        "   # print(\"Precision=\",prec, \"Recall=\",rec, \"IoU=\",IoU, \"acc=\",acc, \"F1=\",f1_score)\n",
        "    return prec,rec,IoU,acc,f1_score\n",
        "\n",
        "def evalResult(gth_path,npyfile,target_size=img_size,flag_multi_class = False,num_class = 2):\n",
        "    files=sorted(os.listdir(gth_path))\n",
        "    #print(files)\n",
        "    prec=0\n",
        "    rec=0\n",
        "    acc=0\n",
        "    IoU=0\n",
        "    f1_score=0\n",
        "    for i,item in enumerate(npyfile):\n",
        "        img = item[:,:,0]\n",
        "        gth = io.imread(os.path.join(gth_path,files[i]))\n",
        "        gth = trans.resize(gth,target_size)\n",
        "        if(np.sum(img)>0):\n",
        "            img=np.array(((img - np.min(img))/np.ptp(img))>0.1).astype(float)\n",
        "        if(np.sum(gth)>0):\n",
        "            gth=np.array(((gth - np.min(gth))/np.ptp(gth))>0.1).astype(float)\n",
        "            gth=(gth>0.1).astype(int)\n",
        "        #print(np.shape(gth),np.shape(img))\n",
        "        p,r,I,a,f=get_validation_metrics(gth,img)\n",
        "        if (np.isnan(p)):\n",
        "          p=1\n",
        "        if (np.isnan(r)):\n",
        "          r=1\n",
        "        if (np.isnan(f)):\n",
        "          f=1\n",
        "        if (np.isnan(I)):\n",
        "          I=1\n",
        "        prec=prec+p\n",
        "        rec=rec+r\n",
        "        acc=acc+a\n",
        "        IoU=IoU+I\n",
        "        f1_score=f1_score+f\n",
        "    print(\"Precision=\",prec/(i+1), \"Recall=\",rec/(i+1), \"Jac=\",IoU/(i+1), \"acc=\",acc/(i+1), \"Dice=\",f1_score/(i+1))   "
      ],
      "execution_count": null,
      "outputs": []
    },
    {
      "cell_type": "markdown",
      "metadata": {
        "id": "036WjKyjkuit"
      },
      "source": [
        "# All definitions are now done! Lets start using the functions now...\n",
        "# B. Call to image data generator, model initialization, followed by model fitting."
      ]
    },
    {
      "cell_type": "code",
      "metadata": {
        "id": "mfzRaSRqkuit"
      },
      "source": [
        "#Step 1: Call to image data generator in keras\n",
        "\n",
        "os.chdir('/content/drive/MyDrive/Colab Notebooks/ISBI_paper/Data_Stacks/cirrus_2/test/')\n",
        "data_gen_args = dict(rotation_range=0.2,\n",
        "                    rescale=1./255,\n",
        "                    width_shift_range=0.2,\n",
        "                    height_shift_range=0.2,\n",
        "                    shear_range=0.1,\n",
        "                    zoom_range=[0.8,1],\n",
        "                    horizontal_flip=False,\n",
        "                    vertical_flip=False,\n",
        "                    fill_mode='nearest')\n",
        "PATH='./train/'"
      ],
      "execution_count": null,
      "outputs": []
    },
    {
      "cell_type": "code",
      "metadata": {
        "id": "wVuo91-zkuiu"
      },
      "source": [
        "data_gen = trainGenerator(3,PATH,'Image','GT',data_gen_args, save_to_dir = None)"
      ],
      "execution_count": null,
      "outputs": []
    },
    {
      "cell_type": "code",
      "metadata": {
        "id": "iaKBXrQykuiu"
      },
      "source": [
        "\n",
        "# data_gen = trainGenerator(1,PATH,'Image','GT',data_gen_args, save_to_dir = None)\n",
        "# for e in range(5):\n",
        "#     print('Epoch', e)\n",
        "#     batches = 0\n",
        "#     for x_batch, y_batch in data_gen:\n",
        "#         print(np.max(x_batch))\n",
        "#         plt.imshow(np.squeeze(x_batch), cmap=plt.get_cmap('gray'))\n",
        "        \n",
        "\n",
        "#         plt.show()\n",
        "        \n",
        "#         break"
      ],
      "execution_count": null,
      "outputs": []
    },
    {
      "cell_type": "code",
      "metadata": {
        "id": "bKM5tKtWkuiv"
      },
      "source": [
        "#Step 2: Initialize the model. Train from scratch!\n",
        "# Initialize model like you usually do.\n",
        "#tf.keras.backend.clear_session()\n",
        "#mod.compile(optimizer = Adam(learning_rate=0.00001), loss = bce_dice_loss, metrics = dice_coef)\n",
        "#mod.compile(optimizer = Adam(learning_rate=0.0001), loss = \"binary_crossentropy\", metrics = \"acc\")\n",
        "mod.compile(optimizer = Adam(learning_rate=0.00001), loss = dice_coef_loss, metrics = dice_coef)"
      ],
      "execution_count": null,
      "outputs": []
    },
    {
      "cell_type": "code",
      "metadata": {
        "colab": {
          "base_uri": "https://localhost:8080/"
        },
        "id": "c_W_oAgLqG3J",
        "outputId": "b6123a09-b9c2-4a3f-dd1f-bbf018e1b29e"
      },
      "source": [
        "# Notice WandbCallback is used as a regular callback\n",
        "# We again use config\n",
        "hist = mod.fit(data_gen,steps_per_epoch=15,epochs=60,verbose=1)\n",
        "          #        mod.fit(x_train, y_train,\n",
        "          # epochs=50, \n",
        "          # batch_size=5, verbose=1)"
      ],
      "execution_count": null,
      "outputs": [
        {
          "output_type": "stream",
          "name": "stdout",
          "text": [
            "Found 6 images belonging to 1 classes.\n",
            "Found 6 images belonging to 1 classes.\n",
            "Epoch 1/60\n",
            "15/15 [==============================] - 7s 83ms/step - loss: -0.1017 - output_1_loss: -0.0242 - output_2_loss: -0.0280 - output_3_loss: -0.0271 - output_4_loss: -0.0223 - output_1_dice_coef: 0.0242 - output_2_dice_coef: 0.0280 - output_3_dice_coef: 0.0271 - output_4_dice_coef: 0.0223\n",
            "Epoch 2/60\n",
            "15/15 [==============================] - 1s 84ms/step - loss: -0.1199 - output_1_loss: -0.0288 - output_2_loss: -0.0330 - output_3_loss: -0.0310 - output_4_loss: -0.0271 - output_1_dice_coef: 0.0288 - output_2_dice_coef: 0.0330 - output_3_dice_coef: 0.0310 - output_4_dice_coef: 0.0271\n",
            "Epoch 3/60\n",
            "15/15 [==============================] - 1s 85ms/step - loss: -0.1347 - output_1_loss: -0.0323 - output_2_loss: -0.0376 - output_3_loss: -0.0339 - output_4_loss: -0.0309 - output_1_dice_coef: 0.0323 - output_2_dice_coef: 0.0376 - output_3_dice_coef: 0.0339 - output_4_dice_coef: 0.0309\n",
            "Epoch 4/60\n",
            "15/15 [==============================] - 1s 85ms/step - loss: -0.1376 - output_1_loss: -0.0329 - output_2_loss: -0.0387 - output_3_loss: -0.0338 - output_4_loss: -0.0322 - output_1_dice_coef: 0.0329 - output_2_dice_coef: 0.0387 - output_3_dice_coef: 0.0338 - output_4_dice_coef: 0.0322\n",
            "Epoch 5/60\n",
            "15/15 [==============================] - 1s 85ms/step - loss: -0.1473 - output_1_loss: -0.0352 - output_2_loss: -0.0415 - output_3_loss: -0.0354 - output_4_loss: -0.0352 - output_1_dice_coef: 0.0352 - output_2_dice_coef: 0.0415 - output_3_dice_coef: 0.0354 - output_4_dice_coef: 0.0352\n",
            "Epoch 6/60\n",
            "15/15 [==============================] - 1s 84ms/step - loss: -0.1484 - output_1_loss: -0.0352 - output_2_loss: -0.0417 - output_3_loss: -0.0351 - output_4_loss: -0.0364 - output_1_dice_coef: 0.0352 - output_2_dice_coef: 0.0417 - output_3_dice_coef: 0.0351 - output_4_dice_coef: 0.0364\n",
            "Epoch 7/60\n",
            "15/15 [==============================] - 1s 84ms/step - loss: -0.1642 - output_1_loss: -0.0382 - output_2_loss: -0.0460 - output_3_loss: -0.0386 - output_4_loss: -0.0414 - output_1_dice_coef: 0.0382 - output_2_dice_coef: 0.0460 - output_3_dice_coef: 0.0386 - output_4_dice_coef: 0.0414\n",
            "Epoch 8/60\n",
            "15/15 [==============================] - 1s 84ms/step - loss: -0.1621 - output_1_loss: -0.0367 - output_2_loss: -0.0445 - output_3_loss: -0.0382 - output_4_loss: -0.0427 - output_1_dice_coef: 0.0367 - output_2_dice_coef: 0.0445 - output_3_dice_coef: 0.0382 - output_4_dice_coef: 0.0427\n",
            "Epoch 9/60\n",
            "15/15 [==============================] - 1s 84ms/step - loss: -0.2093 - output_1_loss: -0.0444 - output_2_loss: -0.0553 - output_3_loss: -0.0498 - output_4_loss: -0.0599 - output_1_dice_coef: 0.0444 - output_2_dice_coef: 0.0553 - output_3_dice_coef: 0.0498 - output_4_dice_coef: 0.0599\n",
            "Epoch 10/60\n",
            "15/15 [==============================] - 1s 83ms/step - loss: -0.2324 - output_1_loss: -0.0421 - output_2_loss: -0.0538 - output_3_loss: -0.0550 - output_4_loss: -0.0815 - output_1_dice_coef: 0.0421 - output_2_dice_coef: 0.0538 - output_3_dice_coef: 0.0550 - output_4_dice_coef: 0.0815\n",
            "Epoch 11/60\n",
            "15/15 [==============================] - 1s 84ms/step - loss: -0.4112 - output_1_loss: -0.0455 - output_2_loss: -0.0586 - output_3_loss: -0.0786 - output_4_loss: -0.2284 - output_1_dice_coef: 0.0455 - output_2_dice_coef: 0.0586 - output_3_dice_coef: 0.0786 - output_4_dice_coef: 0.2284\n",
            "Epoch 12/60\n",
            "15/15 [==============================] - 1s 84ms/step - loss: -0.6944 - output_1_loss: -0.0380 - output_2_loss: -0.0500 - output_3_loss: -0.1050 - output_4_loss: -0.5013 - output_1_dice_coef: 0.0380 - output_2_dice_coef: 0.0500 - output_3_dice_coef: 0.1050 - output_4_dice_coef: 0.5013\n",
            "Epoch 13/60\n",
            "15/15 [==============================] - 1s 84ms/step - loss: -0.9869 - output_1_loss: -0.0426 - output_2_loss: -0.0579 - output_3_loss: -0.2012 - output_4_loss: -0.6852 - output_1_dice_coef: 0.0426 - output_2_dice_coef: 0.0579 - output_3_dice_coef: 0.2012 - output_4_dice_coef: 0.6852\n",
            "Epoch 14/60\n",
            "15/15 [==============================] - 1s 84ms/step - loss: -1.3054 - output_1_loss: -0.0483 - output_2_loss: -0.0685 - output_3_loss: -0.4331 - output_4_loss: -0.7555 - output_1_dice_coef: 0.0483 - output_2_dice_coef: 0.0685 - output_3_dice_coef: 0.4331 - output_4_dice_coef: 0.7555\n",
            "Epoch 15/60\n",
            "15/15 [==============================] - 1s 84ms/step - loss: -1.5505 - output_1_loss: -0.0473 - output_2_loss: -0.0703 - output_3_loss: -0.6368 - output_4_loss: -0.7962 - output_1_dice_coef: 0.0473 - output_2_dice_coef: 0.0703 - output_3_dice_coef: 0.6368 - output_4_dice_coef: 0.7962\n",
            "Epoch 16/60\n",
            "15/15 [==============================] - 1s 84ms/step - loss: -1.5637 - output_1_loss: -0.0444 - output_2_loss: -0.0679 - output_3_loss: -0.6884 - output_4_loss: -0.7630 - output_1_dice_coef: 0.0444 - output_2_dice_coef: 0.0679 - output_3_dice_coef: 0.6884 - output_4_dice_coef: 0.7630\n",
            "Epoch 17/60\n",
            "15/15 [==============================] - 1s 85ms/step - loss: -1.5718 - output_1_loss: -0.0445 - output_2_loss: -0.0708 - output_3_loss: -0.7062 - output_4_loss: -0.7503 - output_1_dice_coef: 0.0445 - output_2_dice_coef: 0.0708 - output_3_dice_coef: 0.7062 - output_4_dice_coef: 0.7503\n",
            "Epoch 18/60\n",
            "15/15 [==============================] - 1s 83ms/step - loss: -1.7783 - output_1_loss: -0.0506 - output_2_loss: -0.0851 - output_3_loss: -0.8124 - output_4_loss: -0.8302 - output_1_dice_coef: 0.0506 - output_2_dice_coef: 0.0851 - output_3_dice_coef: 0.8124 - output_4_dice_coef: 0.8302\n",
            "Epoch 19/60\n",
            "15/15 [==============================] - 1s 84ms/step - loss: -1.7065 - output_1_loss: -0.0502 - output_2_loss: -0.0880 - output_3_loss: -0.7768 - output_4_loss: -0.7914 - output_1_dice_coef: 0.0502 - output_2_dice_coef: 0.0880 - output_3_dice_coef: 0.7768 - output_4_dice_coef: 0.7914\n",
            "Epoch 20/60\n",
            "15/15 [==============================] - 1s 85ms/step - loss: -1.7938 - output_1_loss: -0.0513 - output_2_loss: -0.0985 - output_3_loss: -0.8158 - output_4_loss: -0.8281 - output_1_dice_coef: 0.0513 - output_2_dice_coef: 0.0985 - output_3_dice_coef: 0.8158 - output_4_dice_coef: 0.8281\n",
            "Epoch 21/60\n",
            "15/15 [==============================] - 1s 84ms/step - loss: -1.7606 - output_1_loss: -0.0475 - output_2_loss: -0.1058 - output_3_loss: -0.7959 - output_4_loss: -0.8115 - output_1_dice_coef: 0.0475 - output_2_dice_coef: 0.1058 - output_3_dice_coef: 0.7959 - output_4_dice_coef: 0.8115\n",
            "Epoch 22/60\n",
            "15/15 [==============================] - 1s 84ms/step - loss: -1.8367 - output_1_loss: -0.0478 - output_2_loss: -0.1293 - output_3_loss: -0.8263 - output_4_loss: -0.8332 - output_1_dice_coef: 0.0478 - output_2_dice_coef: 0.1293 - output_3_dice_coef: 0.8263 - output_4_dice_coef: 0.8332\n",
            "Epoch 23/60\n",
            "15/15 [==============================] - 1s 84ms/step - loss: -1.8879 - output_1_loss: -0.0481 - output_2_loss: -0.1665 - output_3_loss: -0.8311 - output_4_loss: -0.8422 - output_1_dice_coef: 0.0481 - output_2_dice_coef: 0.1665 - output_3_dice_coef: 0.8311 - output_4_dice_coef: 0.8422\n",
            "Epoch 24/60\n",
            "15/15 [==============================] - 1s 84ms/step - loss: -2.0037 - output_1_loss: -0.0533 - output_2_loss: -0.2357 - output_3_loss: -0.8561 - output_4_loss: -0.8586 - output_1_dice_coef: 0.0533 - output_2_dice_coef: 0.2357 - output_3_dice_coef: 0.8561 - output_4_dice_coef: 0.8586\n",
            "Epoch 25/60\n",
            "15/15 [==============================] - 1s 84ms/step - loss: -2.0518 - output_1_loss: -0.0546 - output_2_loss: -0.2919 - output_3_loss: -0.8529 - output_4_loss: -0.8524 - output_1_dice_coef: 0.0546 - output_2_dice_coef: 0.2919 - output_3_dice_coef: 0.8529 - output_4_dice_coef: 0.8524\n",
            "Epoch 26/60\n",
            "15/15 [==============================] - 1s 84ms/step - loss: -2.1051 - output_1_loss: -0.0533 - output_2_loss: -0.3486 - output_3_loss: -0.8505 - output_4_loss: -0.8527 - output_1_dice_coef: 0.0533 - output_2_dice_coef: 0.3486 - output_3_dice_coef: 0.8505 - output_4_dice_coef: 0.8527\n",
            "Epoch 27/60\n",
            "15/15 [==============================] - 1s 84ms/step - loss: -2.1940 - output_1_loss: -0.0584 - output_2_loss: -0.4159 - output_3_loss: -0.8590 - output_4_loss: -0.8608 - output_1_dice_coef: 0.0584 - output_2_dice_coef: 0.4159 - output_3_dice_coef: 0.8590 - output_4_dice_coef: 0.8608\n",
            "Epoch 28/60\n",
            "15/15 [==============================] - 1s 84ms/step - loss: -2.2005 - output_1_loss: -0.0507 - output_2_loss: -0.4458 - output_3_loss: -0.8516 - output_4_loss: -0.8524 - output_1_dice_coef: 0.0507 - output_2_dice_coef: 0.4458 - output_3_dice_coef: 0.8516 - output_4_dice_coef: 0.8524\n",
            "Epoch 29/60\n",
            "15/15 [==============================] - 1s 85ms/step - loss: -2.2310 - output_1_loss: -0.0501 - output_2_loss: -0.4844 - output_3_loss: -0.8478 - output_4_loss: -0.8487 - output_1_dice_coef: 0.0501 - output_2_dice_coef: 0.4844 - output_3_dice_coef: 0.8478 - output_4_dice_coef: 0.8487\n",
            "Epoch 30/60\n",
            "15/15 [==============================] - 1s 86ms/step - loss: -2.3363 - output_1_loss: -0.0525 - output_2_loss: -0.5348 - output_3_loss: -0.8749 - output_4_loss: -0.8741 - output_1_dice_coef: 0.0525 - output_2_dice_coef: 0.5348 - output_3_dice_coef: 0.8749 - output_4_dice_coef: 0.8741\n",
            "Epoch 31/60\n",
            "15/15 [==============================] - 1s 86ms/step - loss: -2.2821 - output_1_loss: -0.0523 - output_2_loss: -0.5470 - output_3_loss: -0.8399 - output_4_loss: -0.8429 - output_1_dice_coef: 0.0523 - output_2_dice_coef: 0.5470 - output_3_dice_coef: 0.8399 - output_4_dice_coef: 0.8429\n",
            "Epoch 32/60\n",
            "15/15 [==============================] - 1s 85ms/step - loss: -2.3789 - output_1_loss: -0.0575 - output_2_loss: -0.5731 - output_3_loss: -0.8725 - output_4_loss: -0.8759 - output_1_dice_coef: 0.0575 - output_2_dice_coef: 0.5731 - output_3_dice_coef: 0.8725 - output_4_dice_coef: 0.8759\n",
            "Epoch 33/60\n",
            "15/15 [==============================] - 1s 85ms/step - loss: -2.4112 - output_1_loss: -0.0540 - output_2_loss: -0.5945 - output_3_loss: -0.8795 - output_4_loss: -0.8833 - output_1_dice_coef: 0.0540 - output_2_dice_coef: 0.5945 - output_3_dice_coef: 0.8795 - output_4_dice_coef: 0.8833\n",
            "Epoch 34/60\n",
            "15/15 [==============================] - 1s 84ms/step - loss: -2.3592 - output_1_loss: -0.0495 - output_2_loss: -0.5865 - output_3_loss: -0.8601 - output_4_loss: -0.8632 - output_1_dice_coef: 0.0495 - output_2_dice_coef: 0.5865 - output_3_dice_coef: 0.8601 - output_4_dice_coef: 0.8632\n",
            "Epoch 35/60\n",
            "15/15 [==============================] - 1s 84ms/step - loss: -2.3991 - output_1_loss: -0.0550 - output_2_loss: -0.6070 - output_3_loss: -0.8661 - output_4_loss: -0.8709 - output_1_dice_coef: 0.0550 - output_2_dice_coef: 0.6070 - output_3_dice_coef: 0.8661 - output_4_dice_coef: 0.8709\n",
            "Epoch 36/60\n",
            "15/15 [==============================] - 1s 84ms/step - loss: -2.3599 - output_1_loss: -0.0487 - output_2_loss: -0.6049 - output_3_loss: -0.8510 - output_4_loss: -0.8554 - output_1_dice_coef: 0.0487 - output_2_dice_coef: 0.6049 - output_3_dice_coef: 0.8510 - output_4_dice_coef: 0.8554\n",
            "Epoch 37/60\n",
            "15/15 [==============================] - 1s 84ms/step - loss: -2.4548 - output_1_loss: -0.0515 - output_2_loss: -0.6346 - output_3_loss: -0.8829 - output_4_loss: -0.8859 - output_1_dice_coef: 0.0515 - output_2_dice_coef: 0.6346 - output_3_dice_coef: 0.8829 - output_4_dice_coef: 0.8859\n",
            "Epoch 38/60\n",
            "15/15 [==============================] - 1s 84ms/step - loss: -2.4695 - output_1_loss: -0.0540 - output_2_loss: -0.6506 - output_3_loss: -0.8816 - output_4_loss: -0.8834 - output_1_dice_coef: 0.0540 - output_2_dice_coef: 0.6506 - output_3_dice_coef: 0.8816 - output_4_dice_coef: 0.8834\n",
            "Epoch 39/60\n",
            "15/15 [==============================] - 1s 85ms/step - loss: -2.5101 - output_1_loss: -0.0557 - output_2_loss: -0.6815 - output_3_loss: -0.8853 - output_4_loss: -0.8876 - output_1_dice_coef: 0.0557 - output_2_dice_coef: 0.6815 - output_3_dice_coef: 0.8853 - output_4_dice_coef: 0.8876\n",
            "Epoch 40/60\n",
            "15/15 [==============================] - 1s 86ms/step - loss: -2.5082 - output_1_loss: -0.0552 - output_2_loss: -0.6806 - output_3_loss: -0.8853 - output_4_loss: -0.8871 - output_1_dice_coef: 0.0552 - output_2_dice_coef: 0.6806 - output_3_dice_coef: 0.8853 - output_4_dice_coef: 0.8871\n",
            "Epoch 41/60\n",
            "15/15 [==============================] - 1s 85ms/step - loss: -2.5370 - output_1_loss: -0.0560 - output_2_loss: -0.6914 - output_3_loss: -0.8931 - output_4_loss: -0.8965 - output_1_dice_coef: 0.0560 - output_2_dice_coef: 0.6914 - output_3_dice_coef: 0.8931 - output_4_dice_coef: 0.8965\n",
            "Epoch 42/60\n",
            "15/15 [==============================] - 1s 84ms/step - loss: -2.4960 - output_1_loss: -0.0467 - output_2_loss: -0.6779 - output_3_loss: -0.8851 - output_4_loss: -0.8863 - output_1_dice_coef: 0.0467 - output_2_dice_coef: 0.6779 - output_3_dice_coef: 0.8851 - output_4_dice_coef: 0.8863\n",
            "Epoch 43/60\n",
            "15/15 [==============================] - 1s 84ms/step - loss: -2.5594 - output_1_loss: -0.0559 - output_2_loss: -0.7068 - output_3_loss: -0.8978 - output_4_loss: -0.8989 - output_1_dice_coef: 0.0559 - output_2_dice_coef: 0.7068 - output_3_dice_coef: 0.8978 - output_4_dice_coef: 0.8989\n",
            "Epoch 44/60\n",
            "15/15 [==============================] - 1s 85ms/step - loss: -2.5127 - output_1_loss: -0.0519 - output_2_loss: -0.6863 - output_3_loss: -0.8857 - output_4_loss: -0.8888 - output_1_dice_coef: 0.0519 - output_2_dice_coef: 0.6863 - output_3_dice_coef: 0.8857 - output_4_dice_coef: 0.8888\n",
            "Epoch 45/60\n",
            "15/15 [==============================] - 1s 84ms/step - loss: -2.5187 - output_1_loss: -0.0491 - output_2_loss: -0.6885 - output_3_loss: -0.8895 - output_4_loss: -0.8916 - output_1_dice_coef: 0.0491 - output_2_dice_coef: 0.6885 - output_3_dice_coef: 0.8895 - output_4_dice_coef: 0.8916\n",
            "Epoch 46/60\n",
            "15/15 [==============================] - 1s 84ms/step - loss: -2.5687 - output_1_loss: -0.0583 - output_2_loss: -0.7123 - output_3_loss: -0.8982 - output_4_loss: -0.8999 - output_1_dice_coef: 0.0583 - output_2_dice_coef: 0.7123 - output_3_dice_coef: 0.8982 - output_4_dice_coef: 0.8999\n",
            "Epoch 47/60\n",
            "15/15 [==============================] - 1s 84ms/step - loss: -2.5429 - output_1_loss: -0.0554 - output_2_loss: -0.7144 - output_3_loss: -0.8852 - output_4_loss: -0.8879 - output_1_dice_coef: 0.0554 - output_2_dice_coef: 0.7144 - output_3_dice_coef: 0.8852 - output_4_dice_coef: 0.8879\n",
            "Epoch 48/60\n",
            "15/15 [==============================] - 1s 84ms/step - loss: -2.5766 - output_1_loss: -0.0620 - output_2_loss: -0.7287 - output_3_loss: -0.8913 - output_4_loss: -0.8946 - output_1_dice_coef: 0.0620 - output_2_dice_coef: 0.7287 - output_3_dice_coef: 0.8913 - output_4_dice_coef: 0.8946\n",
            "Epoch 49/60\n",
            "15/15 [==============================] - 1s 84ms/step - loss: -2.5724 - output_1_loss: -0.0554 - output_2_loss: -0.7306 - output_3_loss: -0.8914 - output_4_loss: -0.8950 - output_1_dice_coef: 0.0554 - output_2_dice_coef: 0.7306 - output_3_dice_coef: 0.8914 - output_4_dice_coef: 0.8950\n",
            "Epoch 50/60\n",
            "15/15 [==============================] - 1s 84ms/step - loss: -2.6145 - output_1_loss: -0.0620 - output_2_loss: -0.7518 - output_3_loss: -0.8996 - output_4_loss: -0.9012 - output_1_dice_coef: 0.0620 - output_2_dice_coef: 0.7518 - output_3_dice_coef: 0.8996 - output_4_dice_coef: 0.9012\n",
            "Epoch 51/60\n",
            "15/15 [==============================] - 1s 84ms/step - loss: -2.6061 - output_1_loss: -0.0614 - output_2_loss: -0.7536 - output_3_loss: -0.8938 - output_4_loss: -0.8974 - output_1_dice_coef: 0.0614 - output_2_dice_coef: 0.7536 - output_3_dice_coef: 0.8938 - output_4_dice_coef: 0.8974\n",
            "Epoch 52/60\n",
            "15/15 [==============================] - 1s 85ms/step - loss: -2.6223 - output_1_loss: -0.0581 - output_2_loss: -0.7669 - output_3_loss: -0.8965 - output_4_loss: -0.9009 - output_1_dice_coef: 0.0581 - output_2_dice_coef: 0.7669 - output_3_dice_coef: 0.8965 - output_4_dice_coef: 0.9009\n",
            "Epoch 53/60\n",
            "15/15 [==============================] - 1s 85ms/step - loss: -2.5910 - output_1_loss: -0.0560 - output_2_loss: -0.7489 - output_3_loss: -0.8918 - output_4_loss: -0.8942 - output_1_dice_coef: 0.0560 - output_2_dice_coef: 0.7489 - output_3_dice_coef: 0.8918 - output_4_dice_coef: 0.8942\n",
            "Epoch 54/60\n",
            "15/15 [==============================] - 1s 85ms/step - loss: -2.6099 - output_1_loss: -0.0543 - output_2_loss: -0.7507 - output_3_loss: -0.9012 - output_4_loss: -0.9038 - output_1_dice_coef: 0.0543 - output_2_dice_coef: 0.7507 - output_3_dice_coef: 0.9012 - output_4_dice_coef: 0.9038\n",
            "Epoch 55/60\n",
            "15/15 [==============================] - 1s 86ms/step - loss: -2.6081 - output_1_loss: -0.0612 - output_2_loss: -0.7527 - output_3_loss: -0.8967 - output_4_loss: -0.8974 - output_1_dice_coef: 0.0612 - output_2_dice_coef: 0.7527 - output_3_dice_coef: 0.8967 - output_4_dice_coef: 0.8974\n",
            "Epoch 56/60\n",
            "15/15 [==============================] - 1s 84ms/step - loss: -2.5779 - output_1_loss: -0.0588 - output_2_loss: -0.7383 - output_3_loss: -0.8882 - output_4_loss: -0.8927 - output_1_dice_coef: 0.0588 - output_2_dice_coef: 0.7383 - output_3_dice_coef: 0.8882 - output_4_dice_coef: 0.8927\n",
            "Epoch 57/60\n",
            "15/15 [==============================] - 1s 84ms/step - loss: -2.6143 - output_1_loss: -0.0525 - output_2_loss: -0.7585 - output_3_loss: -0.9000 - output_4_loss: -0.9033 - output_1_dice_coef: 0.0525 - output_2_dice_coef: 0.7585 - output_3_dice_coef: 0.9000 - output_4_dice_coef: 0.9033\n",
            "Epoch 58/60\n",
            "15/15 [==============================] - 1s 85ms/step - loss: -2.6454 - output_1_loss: -0.0609 - output_2_loss: -0.7810 - output_3_loss: -0.9011 - output_4_loss: -0.9024 - output_1_dice_coef: 0.0609 - output_2_dice_coef: 0.7810 - output_3_dice_coef: 0.9011 - output_4_dice_coef: 0.9024\n",
            "Epoch 59/60\n",
            "15/15 [==============================] - 1s 85ms/step - loss: -2.6680 - output_1_loss: -0.0610 - output_2_loss: -0.8000 - output_3_loss: -0.9024 - output_4_loss: -0.9045 - output_1_dice_coef: 0.0610 - output_2_dice_coef: 0.8000 - output_3_dice_coef: 0.9024 - output_4_dice_coef: 0.9045\n",
            "Epoch 60/60\n",
            "15/15 [==============================] - 1s 85ms/step - loss: -2.6366 - output_1_loss: -0.0571 - output_2_loss: -0.7718 - output_3_loss: -0.9028 - output_4_loss: -0.9048 - output_1_dice_coef: 0.0571 - output_2_dice_coef: 0.7718 - output_3_dice_coef: 0.9028 - output_4_dice_coef: 0.9048\n"
          ]
        }
      ]
    },
    {
      "cell_type": "code",
      "metadata": {
        "colab": {
          "base_uri": "https://localhost:8080/",
          "height": 284
        },
        "id": "_qSqh_CQAWqs",
        "outputId": "f7cea701-f784-4646-ff74-293bf314a448"
      },
      "source": [
        "# plt.plot(hist.history['output_1_loss'])\n",
        "# plt.plot(hist.history['output_2_loss'])\n",
        "# plt.plot(hist.history['output_3_loss'])\n",
        "# plt.plot(hist.history['output_4_loss'])\n",
        "# plt.xlabel('Epochs')\n",
        "# plt.ylabel('Level Loss')\n",
        "plt.plot(hist.history['loss'])"
      ],
      "execution_count": null,
      "outputs": [
        {
          "output_type": "execute_result",
          "data": {
            "text/plain": [
              "[<matplotlib.lines.Line2D at 0x7fbda2070950>]"
            ]
          },
          "metadata": {},
          "execution_count": 22
        },
        {
          "output_type": "display_data",
          "data": {
            "image/png": "[encoded data removed]",
            "text/plain": [
              "<Figure size 432x288 with 1 Axes>"
            ]
          },
          "metadata": {
            "needs_background": "light"
          }
        }
      ]
    },
    {
      "cell_type": "markdown",
      "metadata": {
        "id": "bPQAhlUYkuiw"
      },
      "source": [
        "# Generate results!"
      ]
    },
    {
      "cell_type": "code",
      "metadata": {
        "colab": {
          "base_uri": "https://localhost:8080/",
          "height": 35
        },
        "id": "N98LiMO3KlWG",
        "outputId": "06d8db63-2d60-4bbd-c9d6-21fb84247f48"
      },
      "source": [
        "PATH"
      ],
      "execution_count": null,
      "outputs": [
        {
          "output_type": "execute_result",
          "data": {
            "application/vnd.google.colaboratory.intrinsic+json": {
              "type": "string"
            },
            "text/plain": [
              "'./train/'"
            ]
          },
          "metadata": {},
          "execution_count": 23
        }
      ]
    },
    {
      "cell_type": "code",
      "metadata": {
        "id": "M0U1YHs_kuix",
        "scrolled": true,
        "colab": {
          "base_uri": "https://localhost:8080/"
        },
        "outputId": "6e44e7cb-1796-406f-f931-35d9da32e7f9"
      },
      "source": [
        "#Step 1: Run model on test images and save the images\n",
        "#number of test images\n",
        "n_i=len(os.listdir('./test/Image/'))\n",
        "#Call test generator\n",
        "test_gen= testGenerator('./test/Image/')\n",
        "print(n_i)\n"
      ],
      "execution_count": null,
      "outputs": [
        {
          "output_type": "stream",
          "name": "stdout",
          "text": [
            "18\n"
          ]
        }
      ]
    },
    {
      "cell_type": "code",
      "metadata": {
        "colab": {
          "base_uri": "https://localhost:8080/"
        },
        "id": "MVXSN849qZ5E",
        "outputId": "2e82822a-58e7-49aa-e25f-2ad1a4715633"
      },
      "source": [
        "#Return model outcome for each test image\n",
        "results = mod.predict_generator(test_gen,n_i,verbose=1)"
      ],
      "execution_count": null,
      "outputs": [
        {
          "output_type": "stream",
          "name": "stderr",
          "text": [
            "/usr/local/lib/python3.7/dist-packages/keras/engine/training.py:2035: UserWarning: `Model.predict_generator` is deprecated and will be removed in a future version. Please use `Model.predict`, which supports generators.\n",
            "  warnings.warn('`Model.predict_generator` is deprecated and '\n"
          ]
        },
        {
          "output_type": "stream",
          "name": "stdout",
          "text": [
            "bscan_69.jpg\n",
            "bscan_70.jpg\n",
            " 1/18 [>.............................] - ETA: 17sbscan_73.jpg\n",
            " 3/18 [====>.........................] - ETA: 1s bscan_74.jpg\n",
            " 4/18 [=====>........................] - ETA: 2sbscan_76.jpg\n",
            " 5/18 [=======>......................] - ETA: 2sbscan_77.jpg\n",
            " 6/18 [=========>....................] - ETA: 2sbscan_79.jpg\n",
            " 7/18 [==========>...................] - ETA: 2sbscan_80.jpg\n",
            " 8/18 [============>.................] - ETA: 2sbscan_81.jpg\n",
            " 9/18 [==============>...............] - ETA: 2sbscan_82.jpg\n",
            "10/18 [===============>..............] - ETA: 1sbscan_83.jpg\n",
            "11/18 [=================>............] - ETA: 1sbscan_85.jpg\n",
            "12/18 [===================>..........] - ETA: 1sbscan_87.jpg\n",
            "13/18 [====================>.........] - ETA: 1sbscan_88.jpg\n",
            "14/18 [======================>.......] - ETA: 1sbscan_89.jpg\n",
            "15/18 [========================>.....] - ETA: 0sbscan_90.jpg\n",
            "16/18 [=========================>....] - ETA: 0sbscan_96.jpg\n",
            "17/18 [===========================>..] - ETA: 0sbscan_98.jpg\n",
            "18/18 [==============================] - 5s 261ms/step\n"
          ]
        }
      ]
    },
    {
      "cell_type": "code",
      "metadata": {
        "id": "XyJe_Nc9x3Dy"
      },
      "source": [
        "#lung_masks=np.load('masks.npy')"
      ],
      "execution_count": null,
      "outputs": []
    },
    {
      "cell_type": "code",
      "metadata": {
        "id": "9pdVWd7u0J_t"
      },
      "source": [
        "# plt.imshow(1-lung_masks[0][:,:,3])\n",
        "# print(np.shape(results), np.shape(lung_masks))"
      ],
      "execution_count": null,
      "outputs": []
    },
    {
      "cell_type": "markdown",
      "metadata": {
        "id": "3e3_JbInsPLl"
      },
      "source": [
        "# Next, we need to mask each result and evaluate on test data only"
      ]
    },
    {
      "cell_type": "code",
      "metadata": {
        "id": "gkg1f18ovbSX"
      },
      "source": [
        "# def evalResult_with_masks(gth_path,npyfile,masks,num_test,target_size=img_size,flag_multi_class = False,num_class = 2):\n",
        "#     files=sorted(os.listdir(gth_path))\n",
        "#     #print(files)\n",
        "#     prec=0\n",
        "#     rec=0\n",
        "#     acc=0\n",
        "#     IoU=0\n",
        "#     f1_score=0\n",
        "#     for i,item in enumerate(npyfile):\n",
        "#       img = item[:,:,0]\n",
        "#       if i in num_test:\n",
        "#           gth = io.imread(os.path.join(gth_path,files[nums[i]]))\n",
        "#           mask=1-masks[i][:,:,3]\n",
        "#           mask=trans.resize(mask,target_size)\n",
        "#           gth = trans.resize(gth,target_size)\n",
        "#           img=img*mask\n",
        "#           if(np.sum(img)>0):\n",
        "#               img=np.array(((img - np.min(img))/np.ptp(img))>0.5).astype(float)\n",
        "#           if(np.sum(gth)>0):\n",
        "#               gth=np.array(((gth - np.min(gth))/np.ptp(gth))>0.5).astype(float)\n",
        "#               gth=(gth>0.5).astype(int)\n",
        "#           #print(np.shape(gth),np.shape(img))\n",
        "#           p,r,I,a,f=get_validation_metrics(gth[:,:,1],img)\n",
        "#       if (np.isnan(p)):\n",
        "#               p=1\n",
        "#       if (np.isnan(r)):\n",
        "#               r=1\n",
        "#       if (np.isnan(f)):\n",
        "#               f=1\n",
        "#       if (np.isnan(I)):\n",
        "#               I=1\n",
        "#       prec=prec+p\n",
        "#       rec=rec+r\n",
        "#       acc=acc+a\n",
        "#       IoU=IoU+I\n",
        "#       f1_score=f1_score+f\n",
        "#     print(\"Precision=\",prec/len(num_test), \"Recall=\",rec/len(num_test), \"Jac=\",IoU/len(num_test), \"acc=\",acc/len(num_test), \"Dice=\",f1_score/len(num_test))   "
      ],
      "execution_count": null,
      "outputs": []
    },
    {
      "cell_type": "code",
      "metadata": {
        "id": "VLIWB_tegCSM"
      },
      "source": [
        "#Lets save the STARE predictions\n",
        "# saveResult('./test/Image/','./pred/',results)"
      ],
      "execution_count": null,
      "outputs": []
    },
    {
      "cell_type": "code",
      "metadata": {
        "id": "ZfD34ZQ9zkQd"
      },
      "source": [
        "#evalResult('./test/GT/',results)"
      ],
      "execution_count": null,
      "outputs": []
    },
    {
      "cell_type": "code",
      "metadata": {
        "colab": {
          "base_uri": "https://localhost:8080/",
          "height": 286
        },
        "id": "e5bshYLQo44Y",
        "outputId": "1e1d5512-d8da-41ea-f61a-1735bbaedce8"
      },
      "source": [
        "#Lets visualize the STARE predictions\n",
        "plt.imshow(results[3][3][:,:,0])\n",
        "print(np.max(results[0]),np.min(results[0]))"
      ],
      "execution_count": null,
      "outputs": [
        {
          "output_type": "stream",
          "name": "stdout",
          "text": [
            "0.9997025 1.7763273e-09\n"
          ]
        },
        {
          "output_type": "display_data",
          "data": {
            "image/png": "[encoded data removed]",
            "text/plain": [
              "<Figure size 432x288 with 1 Axes>"
            ]
          },
          "metadata": {
            "needs_background": "light"
          }
        }
      ]
    },
    {
      "cell_type": "code",
      "metadata": {
        "colab": {
          "base_uri": "https://localhost:8080/"
        },
        "id": "9uujuzlq5-6G",
        "outputId": "22a9923f-95da-451c-a961-93020a855026"
      },
      "source": [
        "evalResult('./test/GT/',results[0])"
      ],
      "execution_count": null,
      "outputs": [
        {
          "output_type": "stream",
          "name": "stdout",
          "text": [
            "Precision= 0.03085188343718049 Recall= 0.8816006263476709 Jac= 0.0308409472245455 acc= 0.3347829182942708 Dice= 0.05899622698087329\n"
          ]
        }
      ]
    },
    {
      "cell_type": "code",
      "metadata": {
        "id": "2ilPrrZDavOq",
        "colab": {
          "base_uri": "https://localhost:8080/"
        },
        "outputId": "a373b53d-73c7-4908-bf24-66b146cd22e1"
      },
      "source": [
        "evalResult('./test/GT/',results[1])"
      ],
      "execution_count": null,
      "outputs": [
        {
          "output_type": "stream",
          "name": "stdout",
          "text": [
            "Precision= 0.6138064920740696 Recall= 0.716218153356238 Jac= 0.5311774784347616 acc= 0.9899266560872396 Dice= 0.6386218686274427\n"
          ]
        }
      ]
    },
    {
      "cell_type": "code",
      "metadata": {
        "id": "3QV4rwyQawwY",
        "colab": {
          "base_uri": "https://localhost:8080/"
        },
        "outputId": "2a46d191-96c3-4543-8d23-614c94dc98c0"
      },
      "source": [
        "evalResult('./test/GT/',results[2])"
      ],
      "execution_count": null,
      "outputs": [
        {
          "output_type": "stream",
          "name": "stdout",
          "text": [
            "Precision= 0.6901807137728546 Recall= 0.6194155148939319 Jac= 0.5681731316951598 acc= 0.9933827718098959 Dice= 0.6458405192488543\n"
          ]
        }
      ]
    },
    {
      "cell_type": "code",
      "metadata": {
        "id": "uz4xlfW3axqT",
        "colab": {
          "base_uri": "https://localhost:8080/"
        },
        "outputId": "6248257d-b8d2-46eb-e66c-489d8fcee29e"
      },
      "source": [
        "evalResult('./test/GT/',results[3])"
      ],
      "execution_count": null,
      "outputs": [
        {
          "output_type": "stream",
          "name": "stdout",
          "text": [
            "Precision= 0.7142364867931595 Recall= 0.6228841872716444 Jac= 0.5814944166984373 acc= 0.9940600925021701 Dice= 0.6554733177841938\n"
          ]
        }
      ]
    },
    {
      "cell_type": "code",
      "metadata": {
        "id": "n47pdlbuU2W-",
        "colab": {
          "base_uri": "https://localhost:8080/",
          "height": 286
        },
        "outputId": "fe04306f-54ca-4144-9e20-dab2fd71d022"
      },
      "source": [
        "#Lets visualize the STARE predictions\n",
        "plt.imshow(results[3][8][:,:,0])\n",
        "print(np.max(results[0]),np.min(results[0]))"
      ],
      "execution_count": null,
      "outputs": [
        {
          "output_type": "stream",
          "name": "stdout",
          "text": [
            "0.9997025 1.7763273e-09\n"
          ]
        },
        {
          "output_type": "display_data",
          "data": {
            "image/png": "[encoded data removed]",
            "text/plain": [
              "<Figure size 432x288 with 1 Axes>"
            ]
          },
          "metadata": {
            "needs_background": "light"
          }
        }
      ]
    },
    {
      "cell_type": "code",
      "metadata": {
        "id": "BIx6YSoi4eB8"
      },
      "source": [
        "def return_Unet_result_layers(files,img_path, results,num):\n",
        "  I=io.imread(os.path.join(img_path,files[num]), as_gray=True)\n",
        "  I = trans.resize(I,img_size)\n",
        "  pred0=(results[0][num][:,:,0]>0.5).astype(int)\n",
        "  pred1=(results[1][num][:,:,0]>0.5).astype(int)\n",
        "  pred2=(results[2][num][:,:,0]>0.5).astype(int)\n",
        "  pred3=(results[3][num][:,:,0]>0.5).astype(int)\n",
        "  f, axarr = plt.subplots(2,2)\n",
        "  axarr[0,0].imshow(np.true_divide((I+pred0),2))\n",
        "  axarr[0,1].imshow(np.true_divide((I+pred1),2))\n",
        "  axarr[1,0].imshow(np.true_divide((I+pred2),2))\n",
        "  axarr[1,1].imshow(np.true_divide((I+pred3),2))\n",
        "  return pred2,pred3"
      ],
      "execution_count": null,
      "outputs": []
    },
    {
      "cell_type": "code",
      "metadata": {
        "colab": {
          "base_uri": "https://localhost:8080/",
          "height": 269
        },
        "id": "db1YCPu-4mHR",
        "outputId": "2dfa852e-7e0c-440e-d02d-cdeef69d5cb3"
      },
      "source": [
        "pred2,pred3=return_Unet_result_layers(os.listdir('./test/Image/'),'./test/Image/',results,13)\n"
      ],
      "execution_count": null,
      "outputs": [
        {
          "output_type": "display_data",
          "data": {
            "image/png": "[encoded data removed]",
            "text/plain": [
              "<Figure size 432x288 with 4 Axes>"
            ]
          },
          "metadata": {
            "needs_background": "light"
          }
        }
      ]
    },
    {
      "cell_type": "code",
      "metadata": {
        "id": "ixtNWOSGrMfF"
      },
      "source": [
        "# Function to count how manu images have low quality score\n",
        "def compute_fraction_of_low_q(results,n_i):\n",
        "  J=np.zeros(n_i)\n",
        "  for i in range(n_i):\n",
        "    pred2=(results[2][i][:,:,0]>0.5).astype(int)\n",
        "    pred3=(results[3][i][:,:,0]>0.5).astype(int)\n",
        "    prec,rec,J[i],acc,f1_score=get_validation_metrics(pred3,pred2)\n",
        "  return J\n"
      ],
      "execution_count": null,
      "outputs": []
    },
    {
      "cell_type": "code",
      "metadata": {
        "colab": {
          "base_uri": "https://localhost:8080/"
        },
        "id": "2v1iJwPO4o3u",
        "outputId": "205f2422-6d97-4ff0-a2e5-3c1653028815"
      },
      "source": [
        "#get_validation_metrics(pred3,pred2)\n",
        "J=compute_fraction_of_low_q(results,n_i)"
      ],
      "execution_count": null,
      "outputs": [
        {
          "output_type": "stream",
          "name": "stderr",
          "text": [
            "/usr/local/lib/python3.7/dist-packages/ipykernel_launcher.py:20: RuntimeWarning: invalid value encountered in double_scalars\n",
            "/usr/local/lib/python3.7/dist-packages/ipykernel_launcher.py:21: RuntimeWarning: invalid value encountered in double_scalars\n",
            "/usr/local/lib/python3.7/dist-packages/ipykernel_launcher.py:22: RuntimeWarning: invalid value encountered in double_scalars\n",
            "/usr/local/lib/python3.7/dist-packages/ipykernel_launcher.py:31: RuntimeWarning: invalid value encountered in double_scalars\n"
          ]
        }
      ]
    },
    {
      "cell_type": "code",
      "metadata": {
        "colab": {
          "base_uri": "https://localhost:8080/"
        },
        "id": "DrLdMV8zsstu",
        "outputId": "88ba78c5-06a0-448c-deee-ac72de03c58d"
      },
      "source": [
        "imgs=np.where(J<=0.5)\n",
        "np.shape(imgs)[1]"
      ],
      "execution_count": null,
      "outputs": [
        {
          "output_type": "execute_result",
          "data": {
            "text/plain": [
              "2"
            ]
          },
          "metadata": {},
          "execution_count": 45
        }
      ]
    },
    {
      "cell_type": "code",
      "metadata": {
        "id": "PM0hxjbt5VNO"
      },
      "source": [
        "def print_top2bottom(gth_path,img_path, npyfile,target_size=img_size,flag_multi_class = False,num_class = 2):\n",
        "    files=sorted(os.listdir(gth_path))\n",
        "    #print(files)\n",
        "    fin_image=np.zeros((256,256,3))\n",
        "    for i,item in enumerate(npyfile):\n",
        "        print(i)\n",
        "        img = item[:,:,0]\n",
        "        gth = io.imread(os.path.join(gth_path,files[i]))\n",
        "        gth = trans.resize(gth,target_size)\n",
        "        I=   io.imread(os.path.join(img_path,files[i]), as_gray=True)\n",
        "        I = trans.resize(I,img_size)\n",
        "        #print(np.shape(gth))\n",
        "        if(np.sum(img)>0):\n",
        "            img=np.array(((img - np.min(img))/np.ptp(img))>0.1).astype(float)\n",
        "        if(np.sum(gth)>0):\n",
        "            gth=np.array(((gth - np.min(gth))/np.ptp(gth))>0.1).astype(float)\n",
        "            gth=(gth>0.9).astype(int)\n",
        "        #print(np.shape(gth),np.shape(img))\n",
        "        p,r,j,a,f=get_validation_metrics(gth,img)\n",
        "        \n",
        "        if (j>0.1 and j<0.3):\n",
        "          print(p,r,j,a,f)\n",
        "          fin_image[:,:,1]=I\n",
        "          fin_image[:,:,0]=gth\n",
        "          fin_image[:,:,2]=img\n",
        "          plt.imshow(fin_image)\n",
        "          break\n"
      ],
      "execution_count": null,
      "outputs": []
    },
    {
      "cell_type": "code",
      "metadata": {
        "colab": {
          "base_uri": "https://localhost:8080/",
          "height": 336
        },
        "id": "RmfFPCFi6R54",
        "outputId": "889a29be-19f5-486e-9117-4f358babfc0d"
      },
      "source": [
        "print_top2bottom('./test/GT/','./test/Image/', results[3])"
      ],
      "execution_count": null,
      "outputs": [
        {
          "output_type": "stream",
          "name": "stdout",
          "text": [
            "0\n",
            "1\n",
            "2\n",
            "0.8087431693989071 0.23088923556942278 0.21893491124260356 0.991943359375 0.3592233009708738\n"
          ]
        },
        {
          "output_type": "display_data",
          "data": {
            "image/png": "[encoded data removed]",
            "text/plain": [
              "<Figure size 432x288 with 1 Axes>"
            ]
          },
          "metadata": {
            "needs_background": "light"
          }
        }
      ]
    },
    {
      "cell_type": "code",
      "metadata": {
        "id": "9s8ooGDS6WZr"
      },
      "source": [
        ""
      ],
      "execution_count": null,
      "outputs": []
    }
  ]
}