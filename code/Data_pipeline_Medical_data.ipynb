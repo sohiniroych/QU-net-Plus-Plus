{
 "cells": [
  {
   "cell_type": "markdown",
   "metadata": {
    "id": "HPYt2D0OTUE5"
   },
   "source": [
    "# The goal of this code is to extract metrics regarding image and annotation quality"
   ]
  },
  {
   "cell_type": "code",
   "execution_count": 1,
   "metadata": {
    "colab": {
     "base_uri": "https://localhost:8080/"
    },
    "executionInfo": {
     "elapsed": 547,
     "status": "ok",
     "timestamp": 1633104410495,
     "user": {
      "displayName": "Sohini Roychowdhury",
      "photoUrl": "https://lh3.googleusercontent.com/a/default-user=s64",
      "userId": "06063949721187667332"
     },
     "user_tz": 420
    },
    "id": "mWdDdfsMTvpb",
    "outputId": "fa5be7de-690b-43eb-e996-69df54664e91"
   },
   "outputs": [
    {
     "name": "stdout",
     "output_type": "stream",
     "text": [
      "GT  Images\r\n"
     ]
    }
   ],
   "source": [
    " import os\n",
    "# The path below should point to the directory containing this notebook and the associated utility files\n",
    "# Change it if necessary\n",
    "os.chdir('/home/sohini/U-net_multi-class/Paper-work/Lung-Data/covid-19-med/')\n",
    "!ls"
   ]
  },
  {
   "cell_type": "markdown",
   "metadata": {
    "id": "kDe9mSEEUrVF"
   },
   "source": [
    "## Here, we see the input images are contained in folder db1_fundusimages"
   ]
  },
  {
   "cell_type": "code",
   "execution_count": 2,
   "metadata": {
    "colab": {
     "base_uri": "https://localhost:8080/"
    },
    "executionInfo": {
     "elapsed": 155,
     "status": "ok",
     "timestamp": 1633104444675,
     "user": {
      "displayName": "Sohini Roychowdhury",
      "photoUrl": "https://lh3.googleusercontent.com/a/default-user=s64",
      "userId": "06063949721187667332"
     },
     "user_tz": 420
    },
    "id": "oiYmwkS8Um2P",
    "outputId": "af2e49de-1b5b-4503-f44b-4a4a7bf56412"
   },
   "outputs": [
    {
     "name": "stdout",
     "output_type": "stream",
     "text": [
      "100\n"
     ]
    }
   ],
   "source": [
    "files=(os.listdir('./Images/'))\n",
    "print(len(files))"
   ]
  },
  {
   "cell_type": "markdown",
   "metadata": {
    "id": "G7YPJXZuW6aw"
   },
   "source": [
    "## Properties extracted per image:\n",
    "* VOL (blurriness score)\n",
    "* PSNR upon median filtering (to define foreground signal strength, higher better)"
   ]
  },
  {
   "cell_type": "code",
   "execution_count": 3,
   "metadata": {
    "executionInfo": {
     "elapsed": 614,
     "status": "ok",
     "timestamp": 1633104480511,
     "user": {
      "displayName": "Sohini Roychowdhury",
      "photoUrl": "https://lh3.googleusercontent.com/a/default-user=s64",
      "userId": "06063949721187667332"
     },
     "user_tz": 420
    },
    "id": "MgWvfciTZZud"
   },
   "outputs": [],
   "source": [
    "# import the necessary packages\n",
    "from skimage.metrics import structural_similarity as compare_ssim\n",
    "import argparse\n",
    "import imutils\n",
    "import cv2\n",
    "from scipy import ndimage, misc\n",
    "from math import log10, sqrt\n",
    "import numpy as np\n",
    "import matplotlib.pyplot as plt"
   ]
  },
  {
   "cell_type": "code",
   "execution_count": 4,
   "metadata": {
    "executionInfo": {
     "elapsed": 159,
     "status": "ok",
     "timestamp": 1633104556886,
     "user": {
      "displayName": "Sohini Roychowdhury",
      "photoUrl": "https://lh3.googleusercontent.com/a/default-user=s64",
      "userId": "06063949721187667332"
     },
     "user_tz": 420
    },
    "id": "B3TPPak8X2N1"
   },
   "outputs": [],
   "source": [
    "def variance_of_laplacian(image):\n",
    "\t# compute the Laplacian of the image and then return the focus\n",
    "\t# measure, which is simply the variance of the Laplacian\n",
    "\treturn cv2.Laplacian(image, cv2.CV_64F).var()\n",
    " \n",
    "\n",
    "def PSNR(original, compressed):\n",
    "    mse = np.mean((original - compressed) ** 2)\n",
    "    if(mse == 0):  # MSE is zero means no noise is present in the signal .\n",
    "                  # Therefore PSNR have no importance.\n",
    "        return 100\n",
    "    max_pixel = 255.0\n",
    "    psnr = 20 * log10(max_pixel / sqrt(mse))\n",
    "    return psnr"
   ]
  },
  {
   "cell_type": "code",
   "execution_count": 7,
   "metadata": {
    "colab": {
     "base_uri": "https://localhost:8080/"
    },
    "executionInfo": {
     "elapsed": 32426,
     "status": "ok",
     "timestamp": 1633104596928,
     "user": {
      "displayName": "Sohini Roychowdhury",
      "photoUrl": "https://lh3.googleusercontent.com/a/default-user=s64",
      "userId": "06063949721187667332"
     },
     "user_tz": 420
    },
    "id": "XHBodeB2WNf1",
    "outputId": "f78f41d0-8b39-498a-8cc1-96c909cfa4c2"
   },
   "outputs": [
    {
     "name": "stdout",
     "output_type": "stream",
     "text": [
      "Image#,       blurriness index,        PSNR\n",
      "0 1.0\n",
      "1 1.0\n",
      "2 1.0\n",
      "3 1.0\n",
      "4 1.0\n",
      "5 1.0\n",
      "6 1.0\n",
      "7 1.0\n",
      "8 1.0\n",
      "9 1.0\n",
      "10 1.0\n",
      "11 1.0\n",
      "12 1.0\n",
      "13 1.0\n",
      "14 1.0\n",
      "15 1.0\n",
      "16 1.0\n",
      "17 1.0\n",
      "18 1.0\n",
      "19 1.0\n",
      "20 1.0\n",
      "21 1.0\n",
      "22 1.0\n",
      "23 1.0\n",
      "24 1.0\n",
      "25 1.0\n",
      "26 1.0\n",
      "27 1.0\n",
      "28 1.0\n",
      "29 1.0\n",
      "30 1.0\n",
      "31 1.0\n",
      "32 1.0\n",
      "33 1.0\n",
      "34 1.0\n",
      "35 1.0\n",
      "36 1.0\n",
      "37 1.0\n",
      "38 1.0\n",
      "39 1.0\n",
      "40 1.0\n",
      "41 1.0\n",
      "42 1.0\n",
      "43 1.0\n",
      "44 1.0\n",
      "45 1.0\n",
      "46 1.0\n",
      "47 1.0\n",
      "48 1.0\n",
      "49 1.0\n",
      "50 1.0\n",
      "51 1.0\n",
      "52 1.0\n",
      "53 1.0\n",
      "54 1.0\n",
      "55 1.0\n",
      "56 1.0\n",
      "57 1.0\n",
      "58 1.0\n",
      "59 1.0\n",
      "60 1.0\n",
      "61 1.0\n",
      "62 1.0\n",
      "63 1.0\n",
      "64 1.0\n",
      "65 1.0\n",
      "66 1.0\n",
      "67 1.0\n",
      "68 1.0\n",
      "69 1.0\n",
      "70 1.0\n",
      "71 1.0\n",
      "72 1.0\n",
      "73 1.0\n",
      "74 1.0\n",
      "75 1.0\n",
      "76 1.0\n",
      "77 1.0\n",
      "78 1.0\n",
      "79 1.0\n",
      "80 1.0\n",
      "81 1.0\n",
      "82 1.0\n",
      "83 1.0\n",
      "84 1.0\n",
      "85 1.0\n",
      "86 1.0\n",
      "87 1.0\n",
      "88 1.0\n",
      "89 1.0\n",
      "90 1.0\n",
      "91 1.0\n",
      "92 1.0\n",
      "93 1.0\n",
      "94 1.0\n",
      "95 1.0\n",
      "96 1.0\n",
      "97 1.0\n",
      "98 1.0\n",
      "99 1.0\n"
     ]
    }
   ],
   "source": [
    "blurriness=np.zeros(len(files))\n",
    "SSIM=np.zeros((len(files),len(files)))\n",
    "img_psnr=np.zeros(len(files))\n",
    "print(\"Image#,       blurriness index,        PSNR\")\n",
    "for i in range(len(files)):\n",
    "  \n",
    "  img=cv2.imread('./Images/'+files[i])\n",
    "  img_gray=cv2.cvtColor(img, cv2.COLOR_BGR2GRAY)\n",
    "  img_gray=(img_gray-np.min(img_gray))/np.ptp(img_gray)\n",
    "  print(i, np.max(img_gray))\n",
    "  blurriness[i]=variance_of_laplacian(img_gray)\n",
    "  img_filt=ndimage.median_filter(img_gray, size=20)\n",
    "  img_psnr[i]=PSNR(img_gray,img_filt)\n",
    "  #print(files[i],'\\t', blurriness[i],'\\t', img_psnr[i])\n",
    "  \n",
    "\n",
    "\n",
    "\n"
   ]
  },
  {
   "cell_type": "code",
   "execution_count": 8,
   "metadata": {},
   "outputs": [
    {
     "data": {
      "text/plain": [
       "<matplotlib.collections.PathCollection at 0x7f9e602636d0>"
      ]
     },
     "execution_count": 8,
     "metadata": {},
     "output_type": "execute_result"
    },
    {
     "data": {
      "image/png": "[encoded data removed]",
      "text/plain": [
       "<Figure size 432x288 with 1 Axes>"
      ]
     },
     "metadata": {
      "needs_background": "light"
     },
     "output_type": "display_data"
    }
   ],
   "source": [
    "plt.scatter(blurriness,img_psnr)"
   ]
  },
  {
   "cell_type": "code",
   "execution_count": 9,
   "metadata": {},
   "outputs": [
    {
     "name": "stdout",
     "output_type": "stream",
     "text": [
      "[0.0061403  0.01045011] [72.33730546 76.81243509]\n"
     ]
    }
   ],
   "source": [
    "print(np.percentile(blurriness, [20,80]),np.percentile(img_psnr, [10,90]))"
   ]
  },
  {
   "cell_type": "markdown",
   "metadata": {
    "id": "767Eaj3ldJS1"
   },
   "source": [
    "# High blurriness and PSNR are better!\n",
    "Bad images: 85, 70, 88, 90, 91"
   ]
  },
  {
   "cell_type": "markdown",
   "metadata": {
    "id": "ytFaXBQ_ifHy"
   },
   "source": [
    "# Based on blurriness, we can select 5-10 images for training with high Laplacian covariance and PSNR scores."
   ]
  },
  {
   "cell_type": "markdown",
   "metadata": {
    "id": "Cz_HjeiHfaWF"
   },
   "source": [
    "# Next, we evaluate quality of annotated regions\n",
    "* mean pixel value\n",
    "* coefficient if variation (sigma/mu)"
   ]
  },
  {
   "cell_type": "code",
   "execution_count": 10,
   "metadata": {
    "colab": {
     "base_uri": "https://localhost:8080/",
     "height": 269
    },
    "executionInfo": {
     "elapsed": 979,
     "status": "ok",
     "timestamp": 1633104821832,
     "user": {
      "displayName": "Sohini Roychowdhury",
      "photoUrl": "https://lh3.googleusercontent.com/a/default-user=s64",
      "userId": "06063949721187667332"
     },
     "user_tz": 420
    },
    "id": "UVXgFbDQYDam",
    "outputId": "022368bb-0485-4e2a-a121-78b14ce3edaa"
   },
   "outputs": [
    {
     "data": {
      "image/png": "[encoded data removed]",
      "text/plain": [
       "<Figure size 432x288 with 1 Axes>"
      ]
     },
     "metadata": {
      "needs_background": "light"
     },
     "output_type": "display_data"
    }
   ],
   "source": [
    "# First, we visualize the overlays\n",
    "for i in range(40):#run till len(files)\n",
    "  img=cv2.imread('./Images/'+files[i])\n",
    "  img_gray=cv2.cvtColor(img, cv2.COLOR_BGR2GRAY)\n",
    "  GT=cv2.imread('./GT/'+files[i])\n",
    "  GT_gray=cv2.cvtColor(GT, cv2.COLOR_BGR2GRAY)\n",
    "  dst = cv2.addWeighted(img_gray, 0.5, GT_gray, 0.5, 0.0)\n",
    "  plt.imshow(dst)\n",
    "  "
   ]
  },
  {
   "cell_type": "code",
   "execution_count": 11,
   "metadata": {
    "colab": {
     "base_uri": "https://localhost:8080/"
    },
    "executionInfo": {
     "elapsed": 4843,
     "status": "ok",
     "timestamp": 1633104914398,
     "user": {
      "displayName": "Sohini Roychowdhury",
      "photoUrl": "https://lh3.googleusercontent.com/a/default-user=s64",
      "userId": "06063949721187667332"
     },
     "user_tz": 420
    },
    "id": "cpozBQnPgK5s",
    "outputId": "d7a0a7c5-e8c1-4e8d-9fe2-92f733e9c385"
   },
   "outputs": [
    {
     "name": "stdout",
     "output_type": "stream",
     "text": [
      "Image #,            Mean Pixel,          Coefficient of Variation\n",
      "0\n",
      "1\n",
      "2\n",
      "3\n",
      "4\n",
      "5\n",
      "6\n",
      "7\n",
      "8\n",
      "9\n",
      "10\n",
      "11\n",
      "12\n",
      "13\n",
      "14\n",
      "15\n",
      "16\n",
      "17\n",
      "18\n",
      "19\n",
      "20\n",
      "21\n",
      "22\n",
      "23\n",
      "24\n",
      "25\n",
      "26\n",
      "27\n",
      "28\n",
      "29\n",
      "30\n",
      "31\n",
      "32\n",
      "33\n",
      "34\n",
      "35\n",
      "36\n",
      "37\n",
      "38\n",
      "39\n",
      "40\n",
      "41\n",
      "42\n",
      "43\n",
      "44\n",
      "45\n",
      "46\n",
      "47\n",
      "48\n",
      "49\n",
      "50\n",
      "51\n",
      "52\n",
      "53\n",
      "54\n",
      "55\n",
      "56\n",
      "57\n",
      "58\n",
      "59\n",
      "60\n",
      "61\n",
      "62\n",
      "63\n",
      "64\n",
      "65\n",
      "66\n",
      "67\n",
      "68\n",
      "69\n",
      "70\n",
      "71\n",
      "72\n",
      "73\n",
      "74\n",
      "75\n",
      "76\n",
      "77\n",
      "78\n",
      "79\n",
      "80\n",
      "81\n",
      "82\n",
      "83\n",
      "84\n",
      "85\n",
      "86\n",
      "87\n",
      "88\n",
      "89\n",
      "90\n",
      "91\n",
      "92\n",
      "93\n",
      "94\n",
      "95\n",
      "96\n",
      "97\n",
      "98\n",
      "99\n"
     ]
    }
   ],
   "source": [
    "mean_pix=np.zeros(len(files))\n",
    "cov=np.zeros(len(files))\n",
    "print('Image #,            Mean Pixel,          Coefficient of Variation')\n",
    "for i in range(len(files)):\n",
    "    print(i)\n",
    "    img=cv2.imread('./Images/'+files[i])\n",
    "    img_gray=cv2.cvtColor(img, cv2.COLOR_BGR2GRAY)\n",
    "    img_gray=(img_gray-np.min(img_gray))/np.ptp(img_gray)\n",
    "    GT=cv2.imread('./GT/'+files[i])\n",
    "    GT_gray=cv2.cvtColor(GT, cv2.COLOR_BGR2GRAY)\n",
    "    pixl=img_gray*GT_gray\n",
    "    mean_pix[i]=np.mean(pixl)\n",
    "    cov[i]=np.std(pixl)/mean_pix[i]\n",
    "  #print(files[i], '\\t', mean_pix[i], '\\t', cov[i])"
   ]
  },
  {
   "cell_type": "code",
   "execution_count": 12,
   "metadata": {},
   "outputs": [
    {
     "data": {
      "text/plain": [
       "<matplotlib.collections.PathCollection at 0x7f9e490f03d0>"
      ]
     },
     "execution_count": 12,
     "metadata": {},
     "output_type": "execute_result"
    },
    {
     "data": {
      "image/png": "[encoded data removed]",
      "text/plain": [
       "<Figure size 432x288 with 1 Axes>"
      ]
     },
     "metadata": {
      "needs_background": "light"
     },
     "output_type": "display_data"
    }
   ],
   "source": [
    "plt.scatter(files,cov)"
   ]
  },
  {
   "cell_type": "code",
   "execution_count": 13,
   "metadata": {},
   "outputs": [
    {
     "name": "stdout",
     "output_type": "stream",
     "text": [
      "[1.65980973 1.8721458  2.03822688]\n"
     ]
    }
   ],
   "source": [
    "print(np.percentile(cov, [25,50,75]))"
   ]
  },
  {
   "cell_type": "markdown",
   "metadata": {
    "id": "B9BFNvjbnb7c"
   },
   "source": [
    "# Based on this, we select the images with high variations in pixel intensities for ML training."
   ]
  },
  {
   "cell_type": "markdown",
   "metadata": {
    "id": "RgM8rShTnuUN"
   },
   "source": [
    "# Once model is trained, we save the overlays and create a video out of the sequence!"
   ]
  },
  {
   "cell_type": "code",
   "execution_count": 12,
   "metadata": {
    "colab": {
     "base_uri": "https://localhost:8080/"
    },
    "executionInfo": {
     "elapsed": 561,
     "status": "ok",
     "timestamp": 1633105063635,
     "user": {
      "displayName": "Sohini Roychowdhury",
      "photoUrl": "https://lh3.googleusercontent.com/a/default-user=s64",
      "userId": "06063949721187667332"
     },
     "user_tz": 420
    },
    "id": "dvt-q9eqckz2",
    "outputId": "08de85f0-aa75-4307-fc3d-02dba64b0368"
   },
   "outputs": [
    {
     "name": "stdout",
     "output_type": "stream",
     "text": [
      "writing file 0\n",
      "writing file 1\n",
      "writing file 2\n",
      "writing file 3\n",
      "writing file 4\n",
      "writing file 5\n",
      "writing file 6\n",
      "writing file 7\n",
      "writing file 8\n",
      "writing file 9\n",
      "writing file 10\n",
      "writing file 11\n",
      "writing file 12\n",
      "writing file 13\n",
      "writing file 14\n",
      "writing file 15\n",
      "writing file 16\n",
      "writing file 17\n",
      "writing file 18\n",
      "writing file 19\n",
      "writing file 20\n",
      "writing file 21\n",
      "writing file 22\n",
      "writing file 23\n",
      "writing file 24\n"
     ]
    }
   ],
   "source": [
    "for i in range(len(files)):\n",
    "  img=cv2.imread('./cirrus_2/test/Image/'+files[i])\n",
    "  img_gray=cv2.cvtColor(img, cv2.COLOR_BGR2GRAY)\n",
    "  GT=cv2.imread('./cirrus_2/test/GT/'+files[i])\n",
    "  GT_gray=cv2.cvtColor(GT, cv2.COLOR_BGR2GRAY)\n",
    "  dst = cv2.addWeighted(img_gray, 0.5, GT_gray, 0.5, 0.0)\n",
    "  print('writing file',i)\n",
    "  cv2.imwrite('./cirrus_2/test/overlay/'+files[i],dst)\n"
   ]
  },
  {
   "cell_type": "code",
   "execution_count": 13,
   "metadata": {
    "colab": {
     "base_uri": "https://localhost:8080/"
    },
    "executionInfo": {
     "elapsed": 550,
     "status": "ok",
     "timestamp": 1633105198894,
     "user": {
      "displayName": "Sohini Roychowdhury",
      "photoUrl": "https://lh3.googleusercontent.com/a/default-user=s64",
      "userId": "06063949721187667332"
     },
     "user_tz": 420
    },
    "id": "0N7DlmHYoLVZ",
    "outputId": "03905d25-4b9d-4ab5-8464-9a2c958a663d"
   },
   "outputs": [
    {
     "name": "stdout",
     "output_type": "stream",
     "text": [
      "./cirrus_2/test/overlay/bscan_69.jpg\n",
      "./cirrus_2/test/overlay/bscan_70.jpg\n",
      "./cirrus_2/test/overlay/bscan_72.jpg\n",
      "./cirrus_2/test/overlay/bscan_73.jpg\n",
      "./cirrus_2/test/overlay/bscan_74.jpg\n",
      "./cirrus_2/test/overlay/bscan_75.jpg\n",
      "./cirrus_2/test/overlay/bscan_76.jpg\n",
      "./cirrus_2/test/overlay/bscan_77.jpg\n",
      "./cirrus_2/test/overlay/bscan_78.jpg\n",
      "./cirrus_2/test/overlay/bscan_79.jpg\n",
      "./cirrus_2/test/overlay/bscan_80.jpg\n",
      "./cirrus_2/test/overlay/bscan_81.jpg\n",
      "./cirrus_2/test/overlay/bscan_82.jpg\n",
      "./cirrus_2/test/overlay/bscan_83.jpg\n",
      "./cirrus_2/test/overlay/bscan_84.jpg\n",
      "./cirrus_2/test/overlay/bscan_85.jpg\n",
      "./cirrus_2/test/overlay/bscan_86.jpg\n",
      "./cirrus_2/test/overlay/bscan_87.jpg\n",
      "./cirrus_2/test/overlay/bscan_88.jpg\n",
      "./cirrus_2/test/overlay/bscan_89.jpg\n",
      "./cirrus_2/test/overlay/bscan_90.jpg\n",
      "./cirrus_2/test/overlay/bscan_91.jpg\n",
      "./cirrus_2/test/overlay/bscan_96.jpg\n",
      "./cirrus_2/test/overlay/bscan_97.jpg\n",
      "./cirrus_2/test/overlay/bscan_98.jpg\n"
     ]
    }
   ],
   "source": [
    "from os.path import isfile, join\n",
    "def convert_frames_to_video(pathIn,pathOut,fps):\n",
    "    frame_array = []\n",
    "    files = [f for f in os.listdir(pathIn) if isfile(join(pathIn, f))]\n",
    "    #for sorting the file names properly\n",
    "    files.sort(key = lambda x: int(x[6:-4]))\n",
    "    for i in range(len(files)):\n",
    "        filename=pathIn + files[i]\n",
    "        #reading each files\n",
    "        img = cv2.imread(filename)\n",
    "        height, width, layers = img.shape\n",
    "        size = (width,height)\n",
    "        print(filename)\n",
    "        #inserting the frames into an image array\n",
    "        frame_array.append(img)\n",
    "    out = cv2.VideoWriter(pathOut,cv2.VideoWriter_fourcc(*'DIVX'), fps, size)\n",
    "    for i in range(len(frame_array)):\n",
    "        # writing to a image array\n",
    "        out.write(frame_array[i])\n",
    "    out.release()\n",
    "def main():\n",
    "    pathIn= './cirrus_2/test/overlay/'\n",
    "    pathOut = 'video.avi'\n",
    "    fps = 2.0\n",
    "    convert_frames_to_video(pathIn, pathOut, fps)\n",
    "if __name__==\"__main__\":\n",
    "    main()"
   ]
  },
  {
   "cell_type": "code",
   "execution_count": null,
   "metadata": {
    "id": "ghWrtPxGpKSC"
   },
   "outputs": [],
   "source": []
  }
 ],
 "metadata": {
  "colab": {
   "authorship_tag": "ABX9TyMvuiOsx5q6zF6o/puVwxso",
   "collapsed_sections": [],
   "name": "Data_pipeline_Medical_data.ipynb",
   "provenance": [
    {
     "file_id": "1QGUJSfuISYITJ2EQGCewYixF75EiaTH8",
     "timestamp": 1633067835345
    }
   ]
  },
  "kernelspec": {
   "display_name": "Python 3",
   "language": "python",
   "name": "python3"
  },
  "language_info": {
   "codemirror_mode": {
    "name": "ipython",
    "version": 3
   },
   "file_extension": ".py",
   "mimetype": "text/x-python",
   "name": "python",
   "nbconvert_exporter": "python",
   "pygments_lexer": "ipython3",
   "version": "3.8.5"
  }
 },
 "nbformat": 4,
 "nbformat_minor": 1
}
