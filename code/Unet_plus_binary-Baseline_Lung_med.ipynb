{
 "cells": [
  {
   "cell_type": "markdown",
   "metadata": {
    "id": "n7yLKm_-kuii"
   },
   "source": [
    "# This code implements segmentation of of cysts from OCT images using the variants of U-net, wUnet and Unet++\n",
    "\n",
    "## This code implements multi-class classification\n",
    "## This model is adapted from the original codebase in https://github.com/HZCTony/U-net-with-multiple-classification"
   ]
  },
  {
   "cell_type": "code",
   "execution_count": 1,
   "metadata": {
    "colab": {
     "base_uri": "https://localhost:8080/"
    },
    "executionInfo": {
     "elapsed": 12,
     "status": "ok",
     "timestamp": 1633305411320,
     "user": {
      "displayName": "Sohini Roychowdhury",
      "photoUrl": "https://lh3.googleusercontent.com/a/default-user=s64",
      "userId": "06063949721187667332"
     },
     "user_tz": 420
    },
    "id": "c7xAEMCtlApo",
    "outputId": "2888ca8c-4e30-437a-88e4-4c3ea4bf8035"
   },
   "outputs": [],
   "source": [
    " import os\n",
    "# The path below should point to the directory containing this notebook and the associated utility files\n",
    "# Change it if necessary\n",
    "os.chdir('/home/sohini/U-net_multi-class/Paper-work/Lung-Data/covid-19med/')\n",
    "PATH='./'\n"
   ]
  },
  {
   "cell_type": "markdown",
   "metadata": {},
   "source": [
    "# First, we create a directry of randomly sampled training and test images"
   ]
  },
  {
   "cell_type": "code",
   "execution_count": 2,
   "metadata": {},
   "outputs": [],
   "source": [
    "if not os.path.exists(PATH+'train'):\n",
    "    os.makedirs(PATH+'train')\n",
    "if not os.path.exists(PATH+'train/Images/'):\n",
    "    os.makedirs(PATH+'train/Images/')\n",
    "if not os.path.exists(PATH+'train/GT/'):\n",
    "    os.makedirs(PATH+'train/GT/')\n",
    "    \n",
    "if not os.path.exists(PATH+'test'):\n",
    "    os.makedirs(PATH+'test')    \n",
    "if not os.path.exists(PATH+'test/Images/'):\n",
    "    os.makedirs(PATH+'test/Images/')\n",
    "if not os.path.exists(PATH+'test/GT/'):\n",
    "    os.makedirs(PATH+'test/GT/')\n",
    "    \n",
    "if not os.path.exists(PATH+'pred'):\n",
    "    os.makedirs(PATH+'pred')  \n"
   ]
  },
  {
   "cell_type": "markdown",
   "metadata": {},
   "source": [
    "\n",
    "# Randomly split the data in \"Images\" into 50/50"
   ]
  },
  {
   "cell_type": "code",
   "execution_count": 3,
   "metadata": {},
   "outputs": [],
   "source": [
    "# files=(os.listdir('./Images/'))\n",
    "# print(len(files))"
   ]
  },
  {
   "cell_type": "code",
   "execution_count": 4,
   "metadata": {},
   "outputs": [],
   "source": [
    "# import numpy as np \n",
    "# nums=np.random.permutation(len(files))\n",
    "# n=int(len(files)/2)\n",
    "# print(n)"
   ]
  },
  {
   "cell_type": "code",
   "execution_count": 5,
   "metadata": {},
   "outputs": [],
   "source": [
    "# from shutil import copyfile\n",
    "\n",
    "# #This is train data\n",
    "# for i in range(n):\n",
    "#     copyfile('./Images/'+files[nums[i]],PATH+'train/Images/'+files[nums[i]])\n",
    "#     copyfile('./GT/'+files[nums[i]],PATH+'train/GT/'+files[nums[i]])\n",
    "    "
   ]
  },
  {
   "cell_type": "code",
   "execution_count": 6,
   "metadata": {},
   "outputs": [],
   "source": [
    "# # This is test data\n",
    "# for i in range(n+1,len(files)):\n",
    "#     copyfile('./Images/'+files[nums[i]],PATH+'test/Images/'+files[nums[i]])\n",
    "#     copyfile('./GT/'+files[nums[i]],PATH+'test/GT/'+files[nums[i]])"
   ]
  },
  {
   "cell_type": "markdown",
   "metadata": {},
   "source": [
    "# Train and Test data are now generated. Now we need to train and test"
   ]
  },
  {
   "cell_type": "markdown",
   "metadata": {
    "id": "hsjiInH8kuiq"
   },
   "source": [
    "# A. Lets start by stepwise defining all libraries and functions needed to generate the model and pre-process the data"
   ]
  },
  {
   "cell_type": "code",
   "execution_count": 7,
   "metadata": {
    "executionInfo": {
     "elapsed": 2362,
     "status": "ok",
     "timestamp": 1633305413678,
     "user": {
      "displayName": "Sohini Roychowdhury",
      "photoUrl": "https://lh3.googleusercontent.com/a/default-user=s64",
      "userId": "06063949721187667332"
     },
     "user_tz": 420
    },
    "id": "CKpTzQkOkuiq"
   },
   "outputs": [],
   "source": [
    "#Step 1: Load libraries for the U-net Model\n",
    "\n",
    "import skimage.io as io\n",
    "import skimage.transform as trans\n",
    "import numpy as np\n",
    "from tensorflow.keras.models import *\n",
    "from tensorflow.keras.layers import *\n",
    "from tensorflow.keras.optimizers import *\n",
    "from tensorflow.keras.callbacks import ModelCheckpoint, LearningRateScheduler\n",
    "from tensorflow.keras import backend as keras\n",
    "#from tensorflow import keras\n",
    "import tensorflow as tf"
   ]
  },
  {
   "cell_type": "code",
   "execution_count": 8,
   "metadata": {
    "executionInfo": {
     "elapsed": 8,
     "status": "ok",
     "timestamp": 1633305413682,
     "user": {
      "displayName": "Sohini Roychowdhury",
      "photoUrl": "https://lh3.googleusercontent.com/a/default-user=s64",
      "userId": "06063949721187667332"
     },
     "user_tz": 420
    },
    "id": "1AzDVayVkuiq"
   },
   "outputs": [],
   "source": [
    "#Step 2: Import the U-net model\n",
    "from model_new import *\n",
    "img_size=(256,256)"
   ]
  },
  {
   "cell_type": "code",
   "execution_count": 9,
   "metadata": {
    "executionInfo": {
     "elapsed": 7,
     "status": "ok",
     "timestamp": 1633305413683,
     "user": {
      "displayName": "Sohini Roychowdhury",
      "photoUrl": "https://lh3.googleusercontent.com/a/default-user=s64",
      "userId": "06063949721187667332"
     },
     "user_tz": 420
    },
    "id": "cbKhpLx5kuir"
   },
   "outputs": [],
   "source": [
    "n_class=2\n"
   ]
  },
  {
   "cell_type": "code",
   "execution_count": 10,
   "metadata": {
    "executionInfo": {
     "elapsed": 1347,
     "status": "ok",
     "timestamp": 1633305415023,
     "user": {
      "displayName": "Sohini Roychowdhury",
      "photoUrl": "https://lh3.googleusercontent.com/a/default-user=s64",
      "userId": "06063949721187667332"
     },
     "user_tz": 420
    },
    "id": "Fncvxfbywbx7"
   },
   "outputs": [],
   "source": [
    "#mod = wU_Net(img_size[0],img_size[1],1)\n",
    "mod = Nest_Net(img_size[0],img_size[1],1,1,deep_supervision=False)"
   ]
  },
  {
   "cell_type": "code",
   "execution_count": 11,
   "metadata": {
    "colab": {
     "base_uri": "https://localhost:8080/"
    },
    "executionInfo": {
     "elapsed": 13,
     "status": "ok",
     "timestamp": 1633305415024,
     "user": {
      "displayName": "Sohini Roychowdhury",
      "photoUrl": "https://lh3.googleusercontent.com/a/default-user=s64",
      "userId": "06063949721187667332"
     },
     "user_tz": 420
    },
    "id": "eAjLtxKxwwYF",
    "outputId": "6e075f46-af66-4ec1-e736-0ad904b82e1b"
   },
   "outputs": [
    {
     "name": "stdout",
     "output_type": "stream",
     "text": [
      "Model: \"model\"\n",
      "__________________________________________________________________________________________________\n",
      "Layer (type)                    Output Shape         Param #     Connected to                     \n",
      "==================================================================================================\n",
      "main_input (InputLayer)         [(None, 256, 256, 1) 0                                            \n",
      "__________________________________________________________________________________________________\n",
      "conv11_1 (Conv2D)               (None, 256, 256, 32) 320         main_input[0][0]                 \n",
      "__________________________________________________________________________________________________\n",
      "batch_normalization (BatchNorma (None, 256, 256, 32) 128         conv11_1[0][0]                   \n",
      "__________________________________________________________________________________________________\n",
      "conv11_2 (Conv2D)               (None, 256, 256, 32) 9248        batch_normalization[0][0]        \n",
      "__________________________________________________________________________________________________\n",
      "batch_normalization_1 (BatchNor (None, 256, 256, 32) 128         conv11_2[0][0]                   \n",
      "__________________________________________________________________________________________________\n",
      "pool1 (MaxPooling2D)            (None, 128, 128, 32) 0           batch_normalization_1[0][0]      \n",
      "__________________________________________________________________________________________________\n",
      "conv21_1 (Conv2D)               (None, 128, 128, 64) 18496       pool1[0][0]                      \n",
      "__________________________________________________________________________________________________\n",
      "batch_normalization_2 (BatchNor (None, 128, 128, 64) 256         conv21_1[0][0]                   \n",
      "__________________________________________________________________________________________________\n",
      "conv21_2 (Conv2D)               (None, 128, 128, 64) 36928       batch_normalization_2[0][0]      \n",
      "__________________________________________________________________________________________________\n",
      "batch_normalization_3 (BatchNor (None, 128, 128, 64) 256         conv21_2[0][0]                   \n",
      "__________________________________________________________________________________________________\n",
      "pool2 (MaxPooling2D)            (None, 64, 64, 64)   0           batch_normalization_3[0][0]      \n",
      "__________________________________________________________________________________________________\n",
      "conv31_1 (Conv2D)               (None, 64, 64, 128)  73856       pool2[0][0]                      \n",
      "__________________________________________________________________________________________________\n",
      "batch_normalization_4 (BatchNor (None, 64, 64, 128)  512         conv31_1[0][0]                   \n",
      "__________________________________________________________________________________________________\n",
      "conv31_2 (Conv2D)               (None, 64, 64, 128)  147584      batch_normalization_4[0][0]      \n",
      "__________________________________________________________________________________________________\n",
      "batch_normalization_5 (BatchNor (None, 64, 64, 128)  512         conv31_2[0][0]                   \n",
      "__________________________________________________________________________________________________\n",
      "pool3 (MaxPooling2D)            (None, 32, 32, 128)  0           batch_normalization_5[0][0]      \n",
      "__________________________________________________________________________________________________\n",
      "conv41_1 (Conv2D)               (None, 32, 32, 256)  295168      pool3[0][0]                      \n",
      "__________________________________________________________________________________________________\n",
      "batch_normalization_6 (BatchNor (None, 32, 32, 256)  1024        conv41_1[0][0]                   \n",
      "__________________________________________________________________________________________________\n",
      "conv41_2 (Conv2D)               (None, 32, 32, 256)  590080      batch_normalization_6[0][0]      \n",
      "__________________________________________________________________________________________________\n",
      "batch_normalization_7 (BatchNor (None, 32, 32, 256)  1024        conv41_2[0][0]                   \n",
      "__________________________________________________________________________________________________\n",
      "dropout (Dropout)               (None, 32, 32, 256)  0           batch_normalization_7[0][0]      \n",
      "__________________________________________________________________________________________________\n",
      "pool4 (MaxPooling2D)            (None, 16, 16, 256)  0           dropout[0][0]                    \n",
      "__________________________________________________________________________________________________\n",
      "conv51_1 (Conv2D)               (None, 16, 16, 512)  1180160     pool4[0][0]                      \n",
      "__________________________________________________________________________________________________\n",
      "conv51_2 (Conv2D)               (None, 16, 16, 512)  2359808     conv51_1[0][0]                   \n",
      "__________________________________________________________________________________________________\n",
      "dropout_1 (Dropout)             (None, 16, 16, 512)  0           conv51_2[0][0]                   \n",
      "__________________________________________________________________________________________________\n",
      "up42 (Conv2DTranspose)          (None, 32, 32, 256)  524544      dropout_1[0][0]                  \n",
      "__________________________________________________________________________________________________\n",
      "merge42 (Concatenate)           (None, 32, 32, 512)  0           up42[0][0]                       \n",
      "                                                                 batch_normalization_7[0][0]      \n",
      "__________________________________________________________________________________________________\n",
      "up32 (Conv2DTranspose)          (None, 64, 64, 128)  131200      batch_normalization_7[0][0]      \n",
      "__________________________________________________________________________________________________\n",
      "conv42_1 (Conv2D)               (None, 32, 32, 256)  1179904     merge42[0][0]                    \n",
      "__________________________________________________________________________________________________\n",
      "merge32 (Concatenate)           (None, 64, 64, 256)  0           up32[0][0]                       \n",
      "                                                                 batch_normalization_5[0][0]      \n",
      "__________________________________________________________________________________________________\n",
      "up22 (Conv2DTranspose)          (None, 128, 128, 64) 32832       batch_normalization_5[0][0]      \n",
      "__________________________________________________________________________________________________\n",
      "conv42_2 (Conv2D)               (None, 32, 32, 256)  590080      conv42_1[0][0]                   \n",
      "__________________________________________________________________________________________________\n",
      "conv32_1 (Conv2D)               (None, 64, 64, 128)  295040      merge32[0][0]                    \n",
      "__________________________________________________________________________________________________\n",
      "merge22 (Concatenate)           (None, 128, 128, 128 0           up22[0][0]                       \n",
      "                                                                 batch_normalization_3[0][0]      \n",
      "__________________________________________________________________________________________________\n",
      "up12 (Conv2DTranspose)          (None, 256, 256, 32) 8224        batch_normalization_3[0][0]      \n",
      "__________________________________________________________________________________________________\n",
      "up33 (Conv2DTranspose)          (None, 64, 64, 128)  131200      conv42_2[0][0]                   \n",
      "__________________________________________________________________________________________________\n",
      "conv32_2 (Conv2D)               (None, 64, 64, 128)  147584      conv32_1[0][0]                   \n",
      "__________________________________________________________________________________________________\n",
      "conv22_1 (Conv2D)               (None, 128, 128, 64) 73792       merge22[0][0]                    \n",
      "__________________________________________________________________________________________________\n",
      "merge12 (Concatenate)           (None, 256, 256, 64) 0           up12[0][0]                       \n",
      "                                                                 batch_normalization_1[0][0]      \n",
      "__________________________________________________________________________________________________\n",
      "merge33 (Concatenate)           (None, 64, 64, 384)  0           up33[0][0]                       \n",
      "                                                                 batch_normalization_5[0][0]      \n",
      "                                                                 conv32_2[0][0]                   \n",
      "__________________________________________________________________________________________________\n",
      "conv22_2 (Conv2D)               (None, 128, 128, 64) 36928       conv22_1[0][0]                   \n",
      "__________________________________________________________________________________________________\n",
      "up23 (Conv2DTranspose)          (None, 128, 128, 64) 32832       conv32_2[0][0]                   \n",
      "__________________________________________________________________________________________________\n",
      "conv12_1 (Conv2D)               (None, 256, 256, 32) 18464       merge12[0][0]                    \n",
      "__________________________________________________________________________________________________\n",
      "conv33_1 (Conv2D)               (None, 64, 64, 128)  442496      merge33[0][0]                    \n",
      "__________________________________________________________________________________________________\n",
      "merge23 (Concatenate)           (None, 128, 128, 192 0           up23[0][0]                       \n",
      "                                                                 batch_normalization_3[0][0]      \n",
      "                                                                 conv22_2[0][0]                   \n",
      "__________________________________________________________________________________________________\n",
      "conv12_2 (Conv2D)               (None, 256, 256, 32) 9248        conv12_1[0][0]                   \n",
      "__________________________________________________________________________________________________\n",
      "up13 (Conv2DTranspose)          (None, 256, 256, 32) 8224        conv22_2[0][0]                   \n",
      "__________________________________________________________________________________________________\n",
      "conv33_2 (Conv2D)               (None, 64, 64, 128)  147584      conv33_1[0][0]                   \n",
      "__________________________________________________________________________________________________\n",
      "conv23_1 (Conv2D)               (None, 128, 128, 64) 110656      merge23[0][0]                    \n",
      "__________________________________________________________________________________________________\n",
      "merge13 (Concatenate)           (None, 256, 256, 96) 0           up13[0][0]                       \n",
      "                                                                 batch_normalization_1[0][0]      \n",
      "                                                                 conv12_2[0][0]                   \n",
      "__________________________________________________________________________________________________\n",
      "up24 (Conv2DTranspose)          (None, 128, 128, 64) 32832       conv33_2[0][0]                   \n",
      "__________________________________________________________________________________________________\n",
      "conv23_2 (Conv2D)               (None, 128, 128, 64) 36928       conv23_1[0][0]                   \n",
      "__________________________________________________________________________________________________\n",
      "conv13_1 (Conv2D)               (None, 256, 256, 32) 27680       merge13[0][0]                    \n",
      "__________________________________________________________________________________________________\n",
      "merge24 (Concatenate)           (None, 128, 128, 256 0           up24[0][0]                       \n",
      "                                                                 batch_normalization_3[0][0]      \n",
      "                                                                 conv22_2[0][0]                   \n",
      "                                                                 conv23_2[0][0]                   \n",
      "__________________________________________________________________________________________________\n",
      "conv13_2 (Conv2D)               (None, 256, 256, 32) 9248        conv13_1[0][0]                   \n",
      "__________________________________________________________________________________________________\n",
      "up14 (Conv2DTranspose)          (None, 256, 256, 32) 8224        conv23_2[0][0]                   \n",
      "__________________________________________________________________________________________________\n",
      "conv24_1 (Conv2D)               (None, 128, 128, 64) 147520      merge24[0][0]                    \n",
      "__________________________________________________________________________________________________\n",
      "merge14 (Concatenate)           (None, 256, 256, 128 0           up14[0][0]                       \n",
      "                                                                 batch_normalization_1[0][0]      \n",
      "                                                                 conv12_2[0][0]                   \n",
      "                                                                 conv13_2[0][0]                   \n",
      "__________________________________________________________________________________________________\n",
      "conv24_2 (Conv2D)               (None, 128, 128, 64) 36928       conv24_1[0][0]                   \n",
      "__________________________________________________________________________________________________\n",
      "conv14_1 (Conv2D)               (None, 256, 256, 32) 36896       merge14[0][0]                    \n",
      "__________________________________________________________________________________________________\n",
      "up15 (Conv2DTranspose)          (None, 256, 256, 32) 8224        conv24_2[0][0]                   \n",
      "__________________________________________________________________________________________________\n",
      "conv14_2 (Conv2D)               (None, 256, 256, 32) 9248        conv14_1[0][0]                   \n",
      "__________________________________________________________________________________________________\n",
      "merge15 (Concatenate)           (None, 256, 256, 160 0           up15[0][0]                       \n",
      "                                                                 batch_normalization_1[0][0]      \n",
      "                                                                 conv12_2[0][0]                   \n",
      "                                                                 conv13_2[0][0]                   \n",
      "                                                                 conv14_2[0][0]                   \n",
      "__________________________________________________________________________________________________\n",
      "conv15_1 (Conv2D)               (None, 256, 256, 32) 46112       merge15[0][0]                    \n",
      "__________________________________________________________________________________________________\n",
      "conv15_2 (Conv2D)               (None, 256, 256, 32) 9248        conv15_1[0][0]                   \n",
      "__________________________________________________________________________________________________\n",
      "output_4 (Conv2D)               (None, 256, 256, 1)  33          conv15_2[0][0]                   \n",
      "==================================================================================================\n",
      "Total params: 9,045,441\n",
      "Trainable params: 9,043,521\n",
      "Non-trainable params: 1,920\n",
      "__________________________________________________________________________________________________\n"
     ]
    }
   ],
   "source": [
    "mod.summary()"
   ]
  },
  {
   "cell_type": "code",
   "execution_count": 26,
   "metadata": {
    "executionInfo": {
     "elapsed": 5,
     "status": "ok",
     "timestamp": 1633305415024,
     "user": {
      "displayName": "Sohini Roychowdhury",
      "photoUrl": "https://lh3.googleusercontent.com/a/default-user=s64",
      "userId": "06063949721187667332"
     },
     "user_tz": 420
    },
    "id": "apyaqeIDkuir"
   },
   "outputs": [],
   "source": [
    "#Step 3:Define functions for pre-processing data\n",
    "from tensorflow.keras.preprocessing.image import ImageDataGenerator\n",
    "import skimage.io as io\n",
    "import skimage.transform as trans\n",
    "import matplotlib.pyplot as plt\n",
    "import scipy.misc as sc\n",
    "\n",
    "\n",
    "def adjustData(img,mask,flag_multi_class,n_class):\n",
    "    \n",
    "    if(flag_multi_class):\n",
    "        img /= 255\n",
    "        mask = mask[:,:,:,0] if(len(mask.shape) == 4) else mask[:,:,0]\n",
    "        new_mask = np.zeros(mask.shape + (n_class,))\n",
    "        for i in range(n_class):\n",
    "            \n",
    "            new_mask[mask == i,i] = 1\n",
    "        new_mask = np.reshape(new_mask,(new_mask.shape[0],new_mask.shape[1]*new_mask.shape[2],new_mask.shape[3])) if flag_multi_class else np.reshape(new_mask,(new_mask.shape[0]*new_mask.shape[1],new_mask.shape[2]))\n",
    "        mask = new_mask\n",
    "    elif(np.max(img)>1):\n",
    "        img = img / 255\n",
    "        mask = mask /255\n",
    "    mask[mask > 0.5] = 1\n",
    "    mask[mask <= 0.5] = 0\n",
    "            #print(np.shape(mask),np.shape(img))\n",
    "    return (img,mask)\n",
    "\n",
    "\n",
    "\n",
    "def trainGenerator(batch_size,train_path,image_folder,mask_folder,aug_dict,image_color_mode = \"grayscale\",\n",
    "                    mask_color_mode = \"grayscale\",image_save_prefix  = \"image\",mask_save_prefix  = \"mask\",\n",
    "                    flag_multi_class = False,n_class = n_class,save_to_dir = None,target_size = img_size,seed = 1):\n",
    "    '''\n",
    "    can generate image and mask at the same time\n",
    "    use the same seed for image_datagen and mask_datagen to ensure the transformation for image and mask is the same\n",
    "    if you want to visualize the results of generator, set save_to_dir = \"your path\"\n",
    "    '''\n",
    "    image_datagen = ImageDataGenerator(**aug_dict)\n",
    "    mask_datagen = ImageDataGenerator(**aug_dict)\n",
    "    image_generator = image_datagen.flow_from_directory(\n",
    "        #'./',\n",
    "        train_path,\n",
    "        classes = [image_folder],\n",
    "        color_mode = image_color_mode,\n",
    "        target_size = target_size,\n",
    "        batch_size = batch_size,\n",
    "        save_to_dir = save_to_dir,\n",
    "        save_prefix  = image_save_prefix,\n",
    "        class_mode=None,\n",
    "        seed = seed)\n",
    "    mask_generator = mask_datagen.flow_from_directory(\n",
    "        train_path,\n",
    "        classes = [mask_folder],\n",
    "        color_mode = mask_color_mode,\n",
    "        target_size = target_size,\n",
    "        batch_size = batch_size,\n",
    "        save_to_dir = save_to_dir,\n",
    "        save_prefix  = mask_save_prefix,\n",
    "        class_mode=None,\n",
    "        seed = seed)\n",
    "    train_generator = zip(image_generator, mask_generator)\n",
    "    for (img,mask) in train_generator:\n",
    "        img,mask = adjustData(img,mask,flag_multi_class,n_class)\n",
    "        yield (img,mask)\n",
    "\n",
    "\n",
    "def testGenerator(test_path,target_size = img_size,flag_multi_class = True,as_gray = True):\n",
    "    files=sorted(os.listdir(test_path))\n",
    "    num_image=len(files)\n",
    "    for i in range(num_image):\n",
    "        img = io.imread(os.path.join(test_path,files[i]),as_gray = as_gray)\n",
    "        print(files[i])\n",
    "        img = trans.resize(img,target_size)\n",
    "        img = np.reshape(img,img.shape+(1,)) if (not flag_multi_class) else img\n",
    "        img = np.reshape(img,(1,)+img.shape)\n",
    "        #print(np.max(img))\n",
    "        yield img"
   ]
  },
  {
   "cell_type": "code",
   "execution_count": 20,
   "metadata": {
    "executionInfo": {
     "elapsed": 9,
     "status": "ok",
     "timestamp": 1633305415676,
     "user": {
      "displayName": "Sohini Roychowdhury",
      "photoUrl": "https://lh3.googleusercontent.com/a/default-user=s64",
      "userId": "06063949721187667332"
     },
     "user_tz": 420
    },
    "id": "6_R2XCFukuis"
   },
   "outputs": [],
   "source": [
    "#Step 4: Define function to save the test images\n",
    "def labelVisualize(num_class,color_dict,img):\n",
    "    img = img[:,:,0] if len(img.shape) == 3 else img\n",
    "    img_out = np.zeros(img.shape + (3,))\n",
    "    for i in range(num_class):\n",
    "        img_out[img == i] = color_dict[i]\n",
    "      \n",
    "    return img_out\n",
    "\n",
    "\n",
    "def saveResult(img_path,save_path,npyfile,flag_multi_class = False,num_class = 2):\n",
    "    files=os.listdir(img_path)\n",
    "    #print(len(img_path))\n",
    "    #print(len(npyfile))\n",
    "    \n",
    "    for i,item in enumerate(npyfile):\n",
    "        img = labelVisualize(num_class,COLOR_DICT,item) if flag_multi_class else item[:,:,0]\n",
    "        #img1=np.array(((img - np.min(img))/np.ptp(img))>0.6).astype(float)\n",
    "        img[img>0.5]=1\n",
    "        img[img<=0.5]=0\n",
    "        io.imsave(os.path.join(save_path, files[i]),img)\n",
    "        \n",
    "        \n",
    "        \n",
    "def SaveResultwImage(img_path,save_path,npyfile,target_size=img_size,flag_multi_class = False,num_class = 2):\n",
    "    files=os.listdir(img_path)\n",
    "    #print(len(img_path))\n",
    "    #print(len(npyfile))\n",
    "    \n",
    "    for i,item in enumerate(npyfile):\n",
    "        img = labelVisualize(num_class,COLOR_DICT,item) if flag_multi_class else item[:,:,0]\n",
    "        #img1=np.array(((img - np.min(img))/np.ptp(img))>0.6).astype(float)\n",
    "        img[img>0.2]=1\n",
    "        img[img<=0.2]=0\n",
    "        \n",
    "        I = io.imread(os.path.join(img_path,files[i]), as_gray=True)\n",
    "        I = trans.resize(I,target_size)\n",
    "        #dst = cv2.addWeighted(img, 0.5, I, 0.5, 0.0)\n",
    "        img=np.true_divide((I+img),2)\n",
    "        io.imsave(os.path.join(save_path, files[i]),img)  "
   ]
  },
  {
   "cell_type": "code",
   "execution_count": 21,
   "metadata": {
    "executionInfo": {
     "elapsed": 8,
     "status": "ok",
     "timestamp": 1633305415676,
     "user": {
      "displayName": "Sohini Roychowdhury",
      "photoUrl": "https://lh3.googleusercontent.com/a/default-user=s64",
      "userId": "06063949721187667332"
     },
     "user_tz": 420
    },
    "id": "OpRBa_aWkuis"
   },
   "outputs": [],
   "source": [
    "#Step 5: Define functions to evaluate the output\n",
    "import sklearn.metrics as sm\n",
    "\n",
    "def get_confusion_matrix_elements(groundtruth_list, predicted_list):\n",
    "    \"\"\"returns confusion matrix elements i.e TN, FP, FN, TP as floats\n",
    "\tSee example code for helper function definitions\n",
    "    \"\"\"\n",
    "    tn, fp, fn, tp = sm.confusion_matrix(groundtruth_list, predicted_list,labels=[0,1]).ravel()\n",
    "    tn, fp, fn, tp = np.float64(tn), np.float64(fp), np.float64(fn), np.float64(tp)\n",
    "\n",
    "    return tn, fp, fn, tp\n",
    "\n",
    "def get_prec_rec_IoU_accuracy(groundtruth_list, predicted_list):\n",
    "    \"\"\"returns precision, recall, IoU and accuracy metrics\n",
    "\t\"\"\"\n",
    "    tn, fp, fn, tp = get_confusion_matrix_elements(groundtruth_list, predicted_list)\n",
    "    \n",
    "    total = tp + fp + fn + tn\n",
    "    accuracy = (tp + tn) / total\n",
    "    prec=tp/(tp+fp)\n",
    "    rec=tp/(tp+fn)\n",
    "    IoU=tp/(tp+fp+fn)\n",
    "    \n",
    "    return prec,rec,IoU,accuracy\n",
    "\n",
    "def get_f1_score(groundtruth_list, predicted_list):\n",
    "    \"\"\"Return f1 score covering edge cases\"\"\"\n",
    "\n",
    "    tn, fp, fn, tp = get_confusion_matrix_elements(groundtruth_list, predicted_list)\n",
    "    \n",
    "    f1_score = (2 * tp) / ((2 * tp) + fp + fn)\n",
    "\n",
    "    return f1_score\n",
    "\n",
    "def get_validation_metrics(groundtruth,predicted):\n",
    "    \"\"\"Return all output metrics. Input is binary images\"\"\"\n",
    "   \n",
    "    u,v=np.shape(groundtruth)\n",
    "    groundtruth_list=np.reshape(groundtruth,(u*v,))\n",
    "    predicted_list=np.reshape(predicted,(u*v,))\n",
    "    prec,rec,IoU,acc=get_prec_rec_IoU_accuracy(groundtruth_list, predicted_list)\n",
    "    f1_score=get_f1_score(groundtruth_list, predicted_list)\n",
    "   # print(\"Precision=\",prec, \"Recall=\",rec, \"IoU=\",IoU, \"acc=\",acc, \"F1=\",f1_score)\n",
    "    return prec,rec,IoU,acc,f1_score\n",
    "\n",
    "def evalResult(gth_path,npyfile,target_size=img_size,flag_multi_class = False,num_class = 2):\n",
    "    files=sorted(os.listdir(gth_path))\n",
    "    #print(files)\n",
    "    prec=0\n",
    "    rec=0\n",
    "    acc=0\n",
    "    IoU=0\n",
    "    f1_score=0\n",
    "    for i,item in enumerate(npyfile):\n",
    "        img = item[:,:,0]\n",
    "        gth = io.imread(os.path.join(gth_path,files[i]))\n",
    "        gth = trans.resize(gth,target_size)\n",
    "        if(np.sum(img)>0):\n",
    "            img=np.array(((img - np.min(img))/np.ptp(img))>0.1).astype(float)\n",
    "        if(np.sum(gth)>0):\n",
    "            gth=np.array(((gth - np.min(gth))/np.ptp(gth))>0.1).astype(float)\n",
    "            gth=(gth>0.1).astype(int)\n",
    "        p,r,I,a,f=get_validation_metrics(gth,img)\n",
    "        if (np.isnan(p)):\n",
    "          p=1\n",
    "        prec=prec+p\n",
    "        rec=rec+r\n",
    "        acc=acc+a\n",
    "        IoU=IoU+I\n",
    "        f1_score=f1_score+f\n",
    "    print(\"Precision=\",prec/(i+1), \"Recall=\",rec/(i+1), \"Jac=\",IoU/(i+1), \"acc=\",acc/(i+1), \"Dice=\",f1_score/(i+1))   "
   ]
  },
  {
   "cell_type": "markdown",
   "metadata": {
    "id": "036WjKyjkuit"
   },
   "source": [
    "# All definitions are now done! Lets start using the functions now...\n",
    "# B. Call to image data generator, model initialization, followed by model fitting."
   ]
  },
  {
   "cell_type": "code",
   "execution_count": 22,
   "metadata": {},
   "outputs": [
    {
     "name": "stdout",
     "output_type": "stream",
     "text": [
      "/home/sohini/U-net_multi-class/Paper-work/Lung-Data/covid-19med\n"
     ]
    }
   ],
   "source": [
    "print(os.getcwd())"
   ]
  },
  {
   "cell_type": "code",
   "execution_count": 27,
   "metadata": {
    "executionInfo": {
     "elapsed": 9,
     "status": "ok",
     "timestamp": 1633305415677,
     "user": {
      "displayName": "Sohini Roychowdhury",
      "photoUrl": "https://lh3.googleusercontent.com/a/default-user=s64",
      "userId": "06063949721187667332"
     },
     "user_tz": 420
    },
    "id": "mfzRaSRqkuit"
   },
   "outputs": [],
   "source": [
    "#Step 1: Call to image data generator in keras\n",
    "\n",
    "#os.chdir('/content/drive/MyDrive/U-net Multi-class/Data_Stacks/')\n",
    "data_gen_args = dict(rotation_range=0.2,\n",
    "                     rescale=1./255,\n",
    "                    width_shift_range=0.2,\n",
    "                    height_shift_range=0.2,\n",
    "                    shear_range=0.1,\n",
    "                    zoom_range=[0.8,1],\n",
    "                    horizontal_flip=True,\n",
    "                    vertical_flip=True,\n",
    "                    fill_mode='nearest')\n",
    "PATH='./train/'"
   ]
  },
  {
   "cell_type": "code",
   "execution_count": 28,
   "metadata": {
    "executionInfo": {
     "elapsed": 8,
     "status": "ok",
     "timestamp": 1633305415677,
     "user": {
      "displayName": "Sohini Roychowdhury",
      "photoUrl": "https://lh3.googleusercontent.com/a/default-user=s64",
      "userId": "06063949721187667332"
     },
     "user_tz": 420
    },
    "id": "wVuo91-zkuiu"
   },
   "outputs": [],
   "source": [
    "data_gen = trainGenerator(1,PATH,'Images','GT',data_gen_args, save_to_dir = None)"
   ]
  },
  {
   "cell_type": "code",
   "execution_count": 29,
   "metadata": {
    "executionInfo": {
     "elapsed": 8,
     "status": "ok",
     "timestamp": 1633305415677,
     "user": {
      "displayName": "Sohini Roychowdhury",
      "photoUrl": "https://lh3.googleusercontent.com/a/default-user=s64",
      "userId": "06063949721187667332"
     },
     "user_tz": 420
    },
    "id": "iaKBXrQykuiu"
   },
   "outputs": [
    {
     "name": "stdout",
     "output_type": "stream",
     "text": [
      "Epoch 0\n",
      "Found 50 images belonging to 1 classes.\n",
      "Found 50 images belonging to 1 classes.\n",
      "1.0\n"
     ]
    },
    {
     "data": {
      "image/png": "[encoded data removed]",
      "text/plain": [
       "<Figure size 432x288 with 1 Axes>"
      ]
     },
     "metadata": {
      "needs_background": "light"
     },
     "output_type": "display_data"
    },
    {
     "name": "stdout",
     "output_type": "stream",
     "text": [
      "Epoch 1\n",
      "1.0\n"
     ]
    },
    {
     "data": {
      "image/png": "[encoded data removed]",
      "text/plain": [
       "<Figure size 432x288 with 1 Axes>"
      ]
     },
     "metadata": {
      "needs_background": "light"
     },
     "output_type": "display_data"
    },
    {
     "name": "stdout",
     "output_type": "stream",
     "text": [
      "Epoch 2\n",
      "1.0\n"
     ]
    },
    {
     "data": {
      "image/png": "[encoded data removed]",
      "text/plain": [
       "<Figure size 432x288 with 1 Axes>"
      ]
     },
     "metadata": {
      "needs_background": "light"
     },
     "output_type": "display_data"
    },
    {
     "name": "stdout",
     "output_type": "stream",
     "text": [
      "Epoch 3\n",
      "1.0\n"
     ]
    },
    {
     "data": {
      "image/png": "[encoded data removed]",
      "text/plain": [
       "<Figure size 432x288 with 1 Axes>"
      ]
     },
     "metadata": {
      "needs_background": "light"
     },
     "output_type": "display_data"
    },
    {
     "name": "stdout",
     "output_type": "stream",
     "text": [
      "Epoch 4\n",
      "1.0\n"
     ]
    },
    {
     "data": {
      "image/png": "[encoded data removed]",
      "text/plain": [
       "<Figure size 432x288 with 1 Axes>"
      ]
     },
     "metadata": {
      "needs_background": "light"
     },
     "output_type": "display_data"
    }
   ],
   "source": [
    "for e in range(5):\n",
    "    print('Epoch', e)\n",
    "    batches = 0\n",
    "    for x_batch, y_batch in data_gen:\n",
    "        print(np.max(y_batch))\n",
    "        plt.imshow(np.squeeze(y_batch), cmap=plt.get_cmap('gray'))\n",
    "        \n",
    "\n",
    "        plt.show()\n",
    "        \n",
    "        break"
   ]
  },
  {
   "cell_type": "code",
   "execution_count": 19,
   "metadata": {
    "executionInfo": {
     "elapsed": 9,
     "status": "ok",
     "timestamp": 1633305415678,
     "user": {
      "displayName": "Sohini Roychowdhury",
      "photoUrl": "https://lh3.googleusercontent.com/a/default-user=s64",
      "userId": "06063949721187667332"
     },
     "user_tz": 420
    },
    "id": "bKM5tKtWkuiv"
   },
   "outputs": [],
   "source": [
    "#Step 2: Initialize the model. Train from scratch!\n",
    "# Initialize model like you usually do.\n",
    "#tf.keras.backend.clear_session()\n",
    "#mod.compile(optimizer = Adam(learning_rate=0.0001), loss = bce_dice_loss, metrics = dice_coef)\n",
    "#mod.compile(optimizer = Adam(learning_rate=0.0001), loss = \"binary_crossentropy\", metrics = \"acc\")\n",
    "mod.compile(optimizer = Adam(learning_rate=0.00001), loss = dice_coef_loss, metrics = dice_coef)"
   ]
  },
  {
   "cell_type": "code",
   "execution_count": 20,
   "metadata": {
    "colab": {
     "base_uri": "https://localhost:8080/"
    },
    "executionInfo": {
     "elapsed": 113446,
     "status": "ok",
     "timestamp": 1633305529115,
     "user": {
      "displayName": "Sohini Roychowdhury",
      "photoUrl": "https://lh3.googleusercontent.com/a/default-user=s64",
      "userId": "06063949721187667332"
     },
     "user_tz": 420
    },
    "id": "c_W_oAgLqG3J",
    "outputId": "3bb9909f-f1c4-4a09-a2ed-448d60e94609",
    "scrolled": true
   },
   "outputs": [
    {
     "name": "stdout",
     "output_type": "stream",
     "text": [
      "Found 50 images belonging to 1 classes.\n",
      "Found 50 images belonging to 1 classes.\n",
      "Epoch 1/20\n",
      "10/10 [==============================] - 32s 3s/step - loss: -0.8324 - dice_coef: 0.8324\n",
      "Epoch 2/20\n",
      "10/10 [==============================] - 29s 3s/step - loss: -0.8829 - dice_coef: 0.8831\n",
      "Epoch 3/20\n",
      "10/10 [==============================] - 30s 3s/step - loss: -0.9218 - dice_coef: 0.9218\n",
      "Epoch 4/20\n",
      "10/10 [==============================] - 29s 3s/step - loss: -0.9520 - dice_coef: 0.9518\n",
      "Epoch 5/20\n",
      "10/10 [==============================] - 30s 3s/step - loss: -0.9721 - dice_coef: 0.9721\n",
      "Epoch 6/20\n",
      "10/10 [==============================] - 29s 3s/step - loss: -0.9894 - dice_coef: 0.9893\n",
      "Epoch 7/20\n",
      "10/10 [==============================] - 29s 3s/step - loss: -0.9963 - dice_coef: 0.9963\n",
      "Epoch 8/20\n",
      "10/10 [==============================] - 30s 3s/step - loss: -0.9983 - dice_coef: 0.9983\n",
      "Epoch 9/20\n",
      "10/10 [==============================] - 29s 3s/step - loss: -0.9989 - dice_coef: 0.9989\n",
      "Epoch 10/20\n",
      "10/10 [==============================] - 30s 3s/step - loss: -0.9990 - dice_coef: 0.9990\n",
      "Epoch 11/20\n",
      "10/10 [==============================] - 29s 3s/step - loss: -0.9990 - dice_coef: 0.9990\n",
      "Epoch 12/20\n",
      "10/10 [==============================] - 29s 3s/step - loss: -0.9992 - dice_coef: 0.9992\n",
      "Epoch 13/20\n",
      "10/10 [==============================] - 31s 3s/step - loss: -0.9991 - dice_coef: 0.9991\n",
      "Epoch 14/20\n",
      "10/10 [==============================] - 30s 3s/step - loss: -0.9991 - dice_coef: 0.9991\n",
      "Epoch 15/20\n",
      "10/10 [==============================] - 31s 3s/step - loss: -0.9992 - dice_coef: 0.9992\n",
      "Epoch 16/20\n",
      "10/10 [==============================] - 29s 3s/step - loss: -0.9993 - dice_coef: 0.9993\n",
      "Epoch 17/20\n",
      "10/10 [==============================] - 29s 3s/step - loss: -0.9992 - dice_coef: 0.9992\n",
      "Epoch 18/20\n",
      "10/10 [==============================] - 32s 3s/step - loss: -0.9992 - dice_coef: 0.9992\n",
      "Epoch 19/20\n",
      "10/10 [==============================] - 31s 3s/step - loss: -0.9994 - dice_coef: 0.9993\n",
      "Epoch 20/20\n",
      "10/10 [==============================] - 30s 3s/step - loss: -0.9993 - dice_coef: 0.9993\n"
     ]
    }
   ],
   "source": [
    "# Notice WandbCallback is used as a regular callback\n",
    "# We again use config\n",
    "hist = mod.fit(data_gen,steps_per_epoch=10,epochs=20,verbose=1)\n",
    "          #        mod.fit(x_train, y_train,\n",
    "          # epochs=50, \n",
    "          # batch_size=5, verbose=1)"
   ]
  },
  {
   "cell_type": "code",
   "execution_count": 21,
   "metadata": {
    "colab": {
     "base_uri": "https://localhost:8080/",
     "height": 283
    },
    "executionInfo": {
     "elapsed": 407,
     "status": "ok",
     "timestamp": 1633305529507,
     "user": {
      "displayName": "Sohini Roychowdhury",
      "photoUrl": "https://lh3.googleusercontent.com/a/default-user=s64",
      "userId": "06063949721187667332"
     },
     "user_tz": 420
    },
    "id": "_qSqh_CQAWqs",
    "outputId": "9b5ba0c7-13ed-44a3-e970-07b413686414"
   },
   "outputs": [
    {
     "ename": "KeyError",
     "evalue": "'output_1_loss'",
     "output_type": "error",
     "traceback": [
      "\u001b[0;31m---------------------------------------------------------------------------\u001b[0m",
      "\u001b[0;31mKeyError\u001b[0m                                  Traceback (most recent call last)",
      "\u001b[0;32m<ipython-input-21-4a16e7161e73>\u001b[0m in \u001b[0;36m<module>\u001b[0;34m\u001b[0m\n\u001b[0;32m----> 1\u001b[0;31m \u001b[0mplt\u001b[0m\u001b[0;34m.\u001b[0m\u001b[0mplot\u001b[0m\u001b[0;34m(\u001b[0m\u001b[0mhist\u001b[0m\u001b[0;34m.\u001b[0m\u001b[0mhistory\u001b[0m\u001b[0;34m[\u001b[0m\u001b[0;34m'output_1_loss'\u001b[0m\u001b[0;34m]\u001b[0m\u001b[0;34m)\u001b[0m\u001b[0;34m\u001b[0m\u001b[0;34m\u001b[0m\u001b[0m\n\u001b[0m\u001b[1;32m      2\u001b[0m \u001b[0mplt\u001b[0m\u001b[0;34m.\u001b[0m\u001b[0mplot\u001b[0m\u001b[0;34m(\u001b[0m\u001b[0mhist\u001b[0m\u001b[0;34m.\u001b[0m\u001b[0mhistory\u001b[0m\u001b[0;34m[\u001b[0m\u001b[0;34m'output_2_loss'\u001b[0m\u001b[0;34m]\u001b[0m\u001b[0;34m)\u001b[0m\u001b[0;34m\u001b[0m\u001b[0;34m\u001b[0m\u001b[0m\n\u001b[1;32m      3\u001b[0m \u001b[0mplt\u001b[0m\u001b[0;34m.\u001b[0m\u001b[0mplot\u001b[0m\u001b[0;34m(\u001b[0m\u001b[0mhist\u001b[0m\u001b[0;34m.\u001b[0m\u001b[0mhistory\u001b[0m\u001b[0;34m[\u001b[0m\u001b[0;34m'output_3_loss'\u001b[0m\u001b[0;34m]\u001b[0m\u001b[0;34m)\u001b[0m\u001b[0;34m\u001b[0m\u001b[0;34m\u001b[0m\u001b[0m\n\u001b[1;32m      4\u001b[0m \u001b[0mplt\u001b[0m\u001b[0;34m.\u001b[0m\u001b[0mplot\u001b[0m\u001b[0;34m(\u001b[0m\u001b[0mhist\u001b[0m\u001b[0;34m.\u001b[0m\u001b[0mhistory\u001b[0m\u001b[0;34m[\u001b[0m\u001b[0;34m'output_4_loss'\u001b[0m\u001b[0;34m]\u001b[0m\u001b[0;34m)\u001b[0m\u001b[0;34m\u001b[0m\u001b[0;34m\u001b[0m\u001b[0m\n",
      "\u001b[0;31mKeyError\u001b[0m: 'output_1_loss'"
     ]
    }
   ],
   "source": [
    "plt.plot(hist.history['output_1_loss'])\n",
    "plt.plot(hist.history['output_2_loss'])\n",
    "plt.plot(hist.history['output_3_loss'])\n",
    "plt.plot(hist.history['output_4_loss'])"
   ]
  },
  {
   "cell_type": "markdown",
   "metadata": {
    "id": "bPQAhlUYkuiw"
   },
   "source": [
    "# Generate results!"
   ]
  },
  {
   "cell_type": "code",
   "execution_count": null,
   "metadata": {
    "executionInfo": {
     "elapsed": 13,
     "status": "ok",
     "timestamp": 1633305529508,
     "user": {
      "displayName": "Sohini Roychowdhury",
      "photoUrl": "https://lh3.googleusercontent.com/a/default-user=s64",
      "userId": "06063949721187667332"
     },
     "user_tz": 420
    },
    "id": "M0U1YHs_kuix",
    "scrolled": true
   },
   "outputs": [],
   "source": [
    "#Step 1: Run model on test images and save the images\n",
    "#number of test images\n",
    "n_i=len(os.listdir('./test/Images/'))\n",
    "#Call test generator\n",
    "test_gen= testGenerator('./test/Images/')\n"
   ]
  },
  {
   "cell_type": "code",
   "execution_count": null,
   "metadata": {
    "colab": {
     "base_uri": "https://localhost:8080/"
    },
    "executionInfo": {
     "elapsed": 1232,
     "status": "ok",
     "timestamp": 1633305530728,
     "user": {
      "displayName": "Sohini Roychowdhury",
      "photoUrl": "https://lh3.googleusercontent.com/a/default-user=s64",
      "userId": "06063949721187667332"
     },
     "user_tz": 420
    },
    "id": "MVXSN849qZ5E",
    "outputId": "6e857ee4-4757-4d34-95a9-c5f71c40825b"
   },
   "outputs": [],
   "source": [
    "#Return model outcome for each test image\n",
    "results = mod.predict_generator(test_gen,n_i,verbose=1)"
   ]
  },
  {
   "cell_type": "code",
   "execution_count": null,
   "metadata": {
    "colab": {
     "base_uri": "https://localhost:8080/"
    },
    "executionInfo": {
     "elapsed": 1119,
     "status": "ok",
     "timestamp": 1633305531842,
     "user": {
      "displayName": "Sohini Roychowdhury",
      "photoUrl": "https://lh3.googleusercontent.com/a/default-user=s64",
      "userId": "06063949721187667332"
     },
     "user_tz": 420
    },
    "id": "VLIWB_tegCSM",
    "outputId": "47f461d7-f43f-4f56-d115-09b88a38d38e"
   },
   "outputs": [],
   "source": [
    "#Lets save the STARE predictions\n",
    "SaveResultwImage('./test/Image/','./pred/',results[3])"
   ]
  },
  {
   "cell_type": "code",
   "execution_count": null,
   "metadata": {
    "colab": {
     "base_uri": "https://localhost:8080/"
    },
    "executionInfo": {
     "elapsed": 9,
     "status": "ok",
     "timestamp": 1633305531842,
     "user": {
      "displayName": "Sohini Roychowdhury",
      "photoUrl": "https://lh3.googleusercontent.com/a/default-user=s64",
      "userId": "06063949721187667332"
     },
     "user_tz": 420
    },
    "id": "oodPJvycR3pJ",
    "outputId": "17af8294-9593-4cc0-a9ad-3df9879b11b4"
   },
   "outputs": [],
   "source": [
    "np.shape(results)"
   ]
  },
  {
   "cell_type": "code",
   "execution_count": null,
   "metadata": {
    "colab": {
     "base_uri": "https://localhost:8080/",
     "height": 287
    },
    "executionInfo": {
     "elapsed": 11,
     "status": "ok",
     "timestamp": 1633305531846,
     "user": {
      "displayName": "Sohini Roychowdhury",
      "photoUrl": "https://lh3.googleusercontent.com/a/default-user=s64",
      "userId": "06063949721187667332"
     },
     "user_tz": 420
    },
    "id": "it5kbcDVgjK4",
    "outputId": "0f9d5cb6-d68f-41d8-d8a4-e955f566814b"
   },
   "outputs": [],
   "source": [
    "#Lets visualize the STARE predictions\n",
    "plt.imshow(results[3][5][:,:,0])"
   ]
  },
  {
   "cell_type": "code",
   "execution_count": null,
   "metadata": {
    "colab": {
     "base_uri": "https://localhost:8080/"
    },
    "executionInfo": {
     "elapsed": 11080,
     "status": "ok",
     "timestamp": 1633305542917,
     "user": {
      "displayName": "Sohini Roychowdhury",
      "photoUrl": "https://lh3.googleusercontent.com/a/default-user=s64",
      "userId": "06063949721187667332"
     },
     "user_tz": 420
    },
    "id": "BrNEtzUKAkKo",
    "outputId": "f9671066-2093-49f6-bc44-bfdf8e96f2f0"
   },
   "outputs": [],
   "source": [
    "# Results of nested Level 1\n",
    "evalResult('./cirrus_2/test/GT/',results[0])"
   ]
  },
  {
   "cell_type": "code",
   "execution_count": null,
   "metadata": {
    "colab": {
     "base_uri": "https://localhost:8080/"
    },
    "executionInfo": {
     "elapsed": 10798,
     "status": "ok",
     "timestamp": 1633305553694,
     "user": {
      "displayName": "Sohini Roychowdhury",
      "photoUrl": "https://lh3.googleusercontent.com/a/default-user=s64",
      "userId": "06063949721187667332"
     },
     "user_tz": 420
    },
    "id": "9uujuzlq5-6G",
    "outputId": "fa28ab9f-516d-4b0d-aa95-c86492bcab2a"
   },
   "outputs": [],
   "source": [
    "evalResult('./cirrus_2/test/GT/',results[1])"
   ]
  },
  {
   "cell_type": "code",
   "execution_count": null,
   "metadata": {
    "colab": {
     "base_uri": "https://localhost:8080/"
    },
    "executionInfo": {
     "elapsed": 10768,
     "status": "ok",
     "timestamp": 1633305564449,
     "user": {
      "displayName": "Sohini Roychowdhury",
      "photoUrl": "https://lh3.googleusercontent.com/a/default-user=s64",
      "userId": "06063949721187667332"
     },
     "user_tz": 420
    },
    "id": "2ilPrrZDavOq",
    "outputId": "5b9ba728-1173-48e4-bcec-49442c55975f"
   },
   "outputs": [],
   "source": [
    "evalResult('./cirrus_2/test/GT/',results[2])"
   ]
  },
  {
   "cell_type": "code",
   "execution_count": null,
   "metadata": {
    "colab": {
     "base_uri": "https://localhost:8080/"
    },
    "executionInfo": {
     "elapsed": 10955,
     "status": "ok",
     "timestamp": 1633305575386,
     "user": {
      "displayName": "Sohini Roychowdhury",
      "photoUrl": "https://lh3.googleusercontent.com/a/default-user=s64",
      "userId": "06063949721187667332"
     },
     "user_tz": 420
    },
    "id": "3QV4rwyQawwY",
    "outputId": "57943d1c-48b6-48be-fa02-5f648b7ff96c"
   },
   "outputs": [],
   "source": [
    "evalResult('./cirrus_2/test/GT/',results[3])"
   ]
  },
  {
   "cell_type": "code",
   "execution_count": null,
   "metadata": {
    "executionInfo": {
     "elapsed": 14,
     "status": "ok",
     "timestamp": 1633305575386,
     "user": {
      "displayName": "Sohini Roychowdhury",
      "photoUrl": "https://lh3.googleusercontent.com/a/default-user=s64",
      "userId": "06063949721187667332"
     },
     "user_tz": 420
    },
    "id": "uz4xlfW3axqT"
   },
   "outputs": [],
   "source": []
  }
 ],
 "metadata": {
  "accelerator": "GPU",
  "colab": {
   "collapsed_sections": [],
   "name": "Unet_plus_binary.ipynb",
   "provenance": [
    {
     "file_id": "1ZMdWmgD389hQ3JdxzSMv__LgkeSQnFxc",
     "timestamp": 1633129322663
    },
    {
     "file_id": "1TMva6pvL5H3_1_wHm0Es9-VjhO8RU4tb",
     "timestamp": 1620938445992
    }
   ]
  },
  "kernelspec": {
   "display_name": "Python 3",
   "language": "python",
   "name": "python3"
  },
  "language_info": {
   "codemirror_mode": {
    "name": "ipython",
    "version": 3
   },
   "file_extension": ".py",
   "mimetype": "text/x-python",
   "name": "python",
   "nbconvert_exporter": "python",
   "pygments_lexer": "ipython3",
   "version": "3.8.5"
  }
 },
 "nbformat": 4,
 "nbformat_minor": 1
}
